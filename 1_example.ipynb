{
  "nbformat": 4,
  "nbformat_minor": 0,
  "metadata": {
    "colab": {
      "name": "Untitled0.ipynb",
      "provenance": [],
      "authorship_tag": "ABX9TyM1DGTohBihmjW/D2dfLEvH",
      "include_colab_link": true
    },
    "kernelspec": {
      "name": "ir",
      "display_name": "R"
    },
    "language_info": {
      "name": "R"
    }
  },
  "cells": [
    {
      "cell_type": "markdown",
      "metadata": {
        "id": "view-in-github",
        "colab_type": "text"
      },
      "source": [
        "<a href=\"https://colab.research.google.com/github/Sudo343/Foundations-of-ML-MA722/blob/main/1_example.ipynb\" target=\"_parent\"><img src=\"https://colab.research.google.com/assets/colab-badge.svg\" alt=\"Open In Colab\"/></a>"
      ]
    },
    {
      "cell_type": "code",
      "metadata": {
        "id": "MqrbPI7VrWNd"
      },
      "source": [
        ""
      ],
      "execution_count": null,
      "outputs": []
    },
    {
      "cell_type": "markdown",
      "metadata": {
        "id": "aRcBZlXptneN"
      },
      "source": [
        "## **Apriori Algorithm for Market basket analysis.**"
      ]
    },
    {
      "cell_type": "markdown",
      "metadata": {
        "id": "0Wl_tC4et4mO"
      },
      "source": [
        "install, then import concerned libraries.\n",
        "\" arules \""
      ]
    },
    {
      "cell_type": "code",
      "metadata": {
        "colab": {
          "base_uri": "https://localhost:8080/"
        },
        "id": "OblcIYHLtx_V",
        "outputId": "11062e6d-fc1c-46ff-f51b-eb06cd9d2b19"
      },
      "source": [
        "install.packages(\"arules\")"
      ],
      "execution_count": 21,
      "outputs": [
        {
          "output_type": "stream",
          "name": "stderr",
          "text": [
            "Installing package into ‘/usr/local/lib/R/site-library’\n",
            "(as ‘lib’ is unspecified)\n",
            "\n"
          ]
        }
      ]
    },
    {
      "cell_type": "code",
      "metadata": {
        "colab": {
          "base_uri": "https://localhost:8080/"
        },
        "id": "mk-U_UyBuGTx",
        "outputId": "dba87725-970f-4b1e-f205-933804cf43f3"
      },
      "source": [
        "library(arules)"
      ],
      "execution_count": 2,
      "outputs": [
        {
          "output_type": "stream",
          "name": "stderr",
          "text": [
            "Loading required package: Matrix\n",
            "\n",
            "\n",
            "Attaching package: ‘arules’\n",
            "\n",
            "\n",
            "The following objects are masked from ‘package:base’:\n",
            "\n",
            "    abbreviate, write\n",
            "\n",
            "\n"
          ]
        }
      ]
    },
    {
      "cell_type": "markdown",
      "metadata": {
        "id": "r829SSIGu0BS"
      },
      "source": [
        "Load the dataset"
      ]
    },
    {
      "cell_type": "code",
      "metadata": {
        "id": "pUcj4VC1u7UT"
      },
      "source": [
        "mydata = read.csv(\"/content/Example1.csv\")"
      ],
      "execution_count": 5,
      "outputs": []
    },
    {
      "cell_type": "markdown",
      "metadata": {
        "id": "0EOny4cGvIUd"
      },
      "source": [
        "Let's examine the dataset"
      ]
    },
    {
      "cell_type": "code",
      "metadata": {
        "colab": {
          "base_uri": "https://localhost:8080/",
          "height": 255
        },
        "id": "wUBYUD8MvNK6",
        "outputId": "72106a1f-e739-4b9f-9f3e-30be19c8b5dd"
      },
      "source": [
        "View(mydata)"
      ],
      "execution_count": 6,
      "outputs": [
        {
          "output_type": "display_data",
          "data": {
            "text/markdown": "\nA data.frame: 5 × 6\n\n| Bread &lt;chr&gt; | Cheese &lt;chr&gt; | Eggs &lt;chr&gt; | Juice &lt;chr&gt; | Milk &lt;chr&gt; | Yogurt &lt;chr&gt; |\n|---|---|---|---|---|---|\n| Yes | Yes | Yes | Yes | No  | No  |\n| Yes | Yes | No  | Yes | No  | No  |\n| Yes | No  | No  | No  | Yes | Yes |\n| Yes | No  | No  | No  | Yes | No  |\n| No  | Yes | No  | Yes | Yes | No  |\n\n",
            "text/latex": "A data.frame: 5 × 6\n\\begin{tabular}{llllll}\n Bread & Cheese & Eggs & Juice & Milk & Yogurt\\\\\n <chr> & <chr> & <chr> & <chr> & <chr> & <chr>\\\\\n\\hline\n\t Yes & Yes & Yes & Yes & No  & No \\\\\n\t Yes & Yes & No  & Yes & No  & No \\\\\n\t Yes & No  & No  & No  & Yes & Yes\\\\\n\t Yes & No  & No  & No  & Yes & No \\\\\n\t No  & Yes & No  & Yes & Yes & No \\\\\n\\end{tabular}\n",
            "text/html": [
              "<table class=\"dataframe\">\n",
              "<caption>A data.frame: 5 × 6</caption>\n",
              "<thead>\n",
              "\t<tr><th scope=col>Bread</th><th scope=col>Cheese</th><th scope=col>Eggs</th><th scope=col>Juice</th><th scope=col>Milk</th><th scope=col>Yogurt</th></tr>\n",
              "\t<tr><th scope=col>&lt;chr&gt;</th><th scope=col>&lt;chr&gt;</th><th scope=col>&lt;chr&gt;</th><th scope=col>&lt;chr&gt;</th><th scope=col>&lt;chr&gt;</th><th scope=col>&lt;chr&gt;</th></tr>\n",
              "</thead>\n",
              "<tbody>\n",
              "\t<tr><td>Yes</td><td>Yes</td><td>Yes</td><td>Yes</td><td>No </td><td>No </td></tr>\n",
              "\t<tr><td>Yes</td><td>Yes</td><td>No </td><td>Yes</td><td>No </td><td>No </td></tr>\n",
              "\t<tr><td>Yes</td><td>No </td><td>No </td><td>No </td><td>Yes</td><td>Yes</td></tr>\n",
              "\t<tr><td>Yes</td><td>No </td><td>No </td><td>No </td><td>Yes</td><td>No </td></tr>\n",
              "\t<tr><td>No </td><td>Yes</td><td>No </td><td>Yes</td><td>Yes</td><td>No </td></tr>\n",
              "</tbody>\n",
              "</table>\n"
            ],
            "text/plain": [
              "  Bread Cheese Eggs Juice Milk Yogurt\n",
              "1 Yes   Yes    Yes  Yes   No   No    \n",
              "2 Yes   Yes    No   Yes   No   No    \n",
              "3 Yes   No     No   No    Yes  Yes   \n",
              "4 Yes   No     No   No    Yes  No    \n",
              "5 No    Yes    No   Yes   Yes  No    "
            ]
          },
          "metadata": {}
        }
      ]
    },
    {
      "cell_type": "markdown",
      "metadata": {
        "id": "sPz-82FmvlP7"
      },
      "source": [
        "### Apply apriori on the given data"
      ]
    },
    {
      "cell_type": "code",
      "metadata": {
        "colab": {
          "base_uri": "https://localhost:8080/"
        },
        "id": "BYG1Kz_Xv_aa",
        "outputId": "fb378a35-b677-42d6-ec09-9d632ed01e0b"
      },
      "source": [
        "rules = apriori(mydata)"
      ],
      "execution_count": 7,
      "outputs": [
        {
          "output_type": "stream",
          "name": "stderr",
          "text": [
            "Warning message:\n",
            "“Column(s) 1, 2, 3, 4, 5, 6 not logical or factor. Applying default discretization (see '? discretizeDF').”\n"
          ]
        },
        {
          "output_type": "stream",
          "name": "stdout",
          "text": [
            "Apriori\n",
            "\n",
            "Parameter specification:\n",
            " confidence minval smax arem  aval originalSupport maxtime support minlen\n",
            "        0.8    0.1    1 none FALSE            TRUE       5     0.1      1\n",
            " maxlen target  ext\n",
            "     10  rules TRUE\n",
            "\n",
            "Algorithmic control:\n",
            " filter tree heap memopt load sort verbose\n",
            "    0.1 TRUE TRUE  FALSE TRUE    2    TRUE\n",
            "\n",
            "Absolute minimum support count: 0 \n",
            "\n",
            "set item appearances ...[0 item(s)] done [0.00s].\n",
            "set transactions ...[12 item(s), 5 transaction(s)] done [0.00s].\n",
            "sorting and recoding items ... [12 item(s)] done [0.00s].\n",
            "creating transaction tree ... done [0.00s].\n",
            "checking subsets of size 1 2 3 4 5 6 done [0.00s].\n",
            "writing ... [495 rule(s)] done [0.00s].\n",
            "creating S4 object  ... done [0.00s].\n"
          ]
        }
      ]
    },
    {
      "cell_type": "markdown",
      "metadata": {
        "id": "NkMIbQ4KwILz"
      },
      "source": [
        "examine the \" rules \" variable we just created"
      ]
    },
    {
      "cell_type": "code",
      "metadata": {
        "colab": {
          "base_uri": "https://localhost:8080/",
          "height": 35
        },
        "id": "v-msXjG_wNjK",
        "outputId": "6f1dceed-c352-464f-cdc8-b43fbba34e84"
      },
      "source": [
        "rules"
      ],
      "execution_count": 8,
      "outputs": [
        {
          "output_type": "display_data",
          "data": {
            "text/plain": [
              "set of 495 rules "
            ]
          },
          "metadata": {}
        }
      ]
    },
    {
      "cell_type": "markdown",
      "metadata": {
        "id": "PKGbhzL7wUFO"
      },
      "source": [
        "so we have 495 rules from the dataset.\n",
        "lets use inspect on rules"
      ]
    },
    {
      "cell_type": "code",
      "metadata": {
        "colab": {
          "base_uri": "https://localhost:8080/"
        },
        "id": "bhDIaNZ6wh9F",
        "outputId": "40d690dd-de74-4d3c-b58a-72d095ac622b"
      },
      "source": [
        "inspect(rules)"
      ],
      "execution_count": 9,
      "outputs": [
        {
          "output_type": "stream",
          "name": "stdout",
          "text": [
            "      lhs             rhs          support confidence coverage     lift count\n",
            "[1]   {}           => {Bread=Yes}      0.8        0.8      1.0 1.000000     4\n",
            "[2]   {}           => {Yogurt=No}      0.8        0.8      1.0 1.000000     4\n",
            "[3]   {}           => {Eggs=No}        0.8        0.8      1.0 1.000000     4\n",
            "[4]   {Eggs=Yes}   => {Milk=No}        0.2        1.0      0.2 2.500000     1\n",
            "[5]   {Eggs=Yes}   => {Cheese=Yes}     0.2        1.0      0.2 1.666667     1\n",
            "[6]   {Eggs=Yes}   => {Juice=Yes}      0.2        1.0      0.2 1.666667     1\n",
            "[7]   {Eggs=Yes}   => {Bread=Yes}      0.2        1.0      0.2 1.250000     1\n",
            "[8]   {Eggs=Yes}   => {Yogurt=No}      0.2        1.0      0.2 1.250000     1\n",
            "[9]   {Yogurt=Yes} => {Cheese=No}      0.2        1.0      0.2 2.500000     1\n",
            "[10]  {Yogurt=Yes} => {Juice=No}       0.2        1.0      0.2 2.500000     1\n",
            "[11]  {Yogurt=Yes} => {Milk=Yes}       0.2        1.0      0.2 1.666667     1\n",
            "[12]  {Yogurt=Yes} => {Bread=Yes}      0.2        1.0      0.2 1.250000     1\n",
            "[13]  {Yogurt=Yes} => {Eggs=No}        0.2        1.0      0.2 1.250000     1\n",
            "[14]  {Bread=No}   => {Cheese=Yes}     0.2        1.0      0.2 1.666667     1\n",
            "[15]  {Bread=No}   => {Juice=Yes}      0.2        1.0      0.2 1.666667     1\n",
            "[16]  {Bread=No}   => {Milk=Yes}       0.2        1.0      0.2 1.666667     1\n",
            "[17]  {Bread=No}   => {Yogurt=No}      0.2        1.0      0.2 1.250000     1\n",
            "[18]  {Bread=No}   => {Eggs=No}        0.2        1.0      0.2 1.250000     1\n",
            "[19]  {Milk=No}    => {Cheese=Yes}     0.4        1.0      0.4 1.666667     2\n",
            "[20]  {Milk=No}    => {Juice=Yes}      0.4        1.0      0.4 1.666667     2\n",
            "[21]  {Milk=No}    => {Bread=Yes}      0.4        1.0      0.4 1.250000     2\n",
            "[22]  {Milk=No}    => {Yogurt=No}      0.4        1.0      0.4 1.250000     2\n",
            "[23]  {Cheese=No}  => {Juice=No}       0.4        1.0      0.4 2.500000     2\n",
            "[24]  {Juice=No}   => {Cheese=No}      0.4        1.0      0.4 2.500000     2\n",
            "[25]  {Cheese=No}  => {Milk=Yes}       0.4        1.0      0.4 1.666667     2\n",
            "[26]  {Cheese=No}  => {Bread=Yes}      0.4        1.0      0.4 1.250000     2\n",
            "[27]  {Cheese=No}  => {Eggs=No}        0.4        1.0      0.4 1.250000     2\n",
            "[28]  {Juice=No}   => {Milk=Yes}       0.4        1.0      0.4 1.666667     2\n",
            "[29]  {Juice=No}   => {Bread=Yes}      0.4        1.0      0.4 1.250000     2\n",
            "[30]  {Juice=No}   => {Eggs=No}        0.4        1.0      0.4 1.250000     2\n",
            "[31]  {Cheese=Yes} => {Juice=Yes}      0.6        1.0      0.6 1.666667     3\n",
            "[32]  {Juice=Yes}  => {Cheese=Yes}     0.6        1.0      0.6 1.666667     3\n",
            "[33]  {Cheese=Yes} => {Yogurt=No}      0.6        1.0      0.6 1.250000     3\n",
            "[34]  {Juice=Yes}  => {Yogurt=No}      0.6        1.0      0.6 1.250000     3\n",
            "[35]  {Milk=Yes}   => {Eggs=No}        0.6        1.0      0.6 1.250000     3\n",
            "[36]  {Eggs=Yes,                                                             \n",
            "       Milk=No}    => {Cheese=Yes}     0.2        1.0      0.2 1.666667     1\n",
            "[37]  {Cheese=Yes,                                                           \n",
            "       Eggs=Yes}   => {Milk=No}        0.2        1.0      0.2 2.500000     1\n",
            "[38]  {Eggs=Yes,                                                             \n",
            "       Milk=No}    => {Juice=Yes}      0.2        1.0      0.2 1.666667     1\n",
            "[39]  {Eggs=Yes,                                                             \n",
            "       Juice=Yes}  => {Milk=No}        0.2        1.0      0.2 2.500000     1\n",
            "[40]  {Eggs=Yes,                                                             \n",
            "       Milk=No}    => {Bread=Yes}      0.2        1.0      0.2 1.250000     1\n",
            "[41]  {Bread=Yes,                                                            \n",
            "       Eggs=Yes}   => {Milk=No}        0.2        1.0      0.2 2.500000     1\n",
            "[42]  {Eggs=Yes,                                                             \n",
            "       Milk=No}    => {Yogurt=No}      0.2        1.0      0.2 1.250000     1\n",
            "[43]  {Eggs=Yes,                                                             \n",
            "       Yogurt=No}  => {Milk=No}        0.2        1.0      0.2 2.500000     1\n",
            "[44]  {Cheese=Yes,                                                           \n",
            "       Eggs=Yes}   => {Juice=Yes}      0.2        1.0      0.2 1.666667     1\n",
            "[45]  {Eggs=Yes,                                                             \n",
            "       Juice=Yes}  => {Cheese=Yes}     0.2        1.0      0.2 1.666667     1\n",
            "[46]  {Cheese=Yes,                                                           \n",
            "       Eggs=Yes}   => {Bread=Yes}      0.2        1.0      0.2 1.250000     1\n",
            "[47]  {Bread=Yes,                                                            \n",
            "       Eggs=Yes}   => {Cheese=Yes}     0.2        1.0      0.2 1.666667     1\n",
            "[48]  {Cheese=Yes,                                                           \n",
            "       Eggs=Yes}   => {Yogurt=No}      0.2        1.0      0.2 1.250000     1\n",
            "[49]  {Eggs=Yes,                                                             \n",
            "       Yogurt=No}  => {Cheese=Yes}     0.2        1.0      0.2 1.666667     1\n",
            "[50]  {Eggs=Yes,                                                             \n",
            "       Juice=Yes}  => {Bread=Yes}      0.2        1.0      0.2 1.250000     1\n",
            "[51]  {Bread=Yes,                                                            \n",
            "       Eggs=Yes}   => {Juice=Yes}      0.2        1.0      0.2 1.666667     1\n",
            "[52]  {Eggs=Yes,                                                             \n",
            "       Juice=Yes}  => {Yogurt=No}      0.2        1.0      0.2 1.250000     1\n",
            "[53]  {Eggs=Yes,                                                             \n",
            "       Yogurt=No}  => {Juice=Yes}      0.2        1.0      0.2 1.666667     1\n",
            "[54]  {Bread=Yes,                                                            \n",
            "       Eggs=Yes}   => {Yogurt=No}      0.2        1.0      0.2 1.250000     1\n",
            "[55]  {Eggs=Yes,                                                             \n",
            "       Yogurt=No}  => {Bread=Yes}      0.2        1.0      0.2 1.250000     1\n",
            "[56]  {Cheese=No,                                                            \n",
            "       Yogurt=Yes} => {Juice=No}       0.2        1.0      0.2 2.500000     1\n",
            "[57]  {Juice=No,                                                             \n",
            "       Yogurt=Yes} => {Cheese=No}      0.2        1.0      0.2 2.500000     1\n",
            "[58]  {Cheese=No,                                                            \n",
            "       Yogurt=Yes} => {Milk=Yes}       0.2        1.0      0.2 1.666667     1\n",
            "[59]  {Milk=Yes,                                                             \n",
            "       Yogurt=Yes} => {Cheese=No}      0.2        1.0      0.2 2.500000     1\n",
            "[60]  {Cheese=No,                                                            \n",
            "       Yogurt=Yes} => {Bread=Yes}      0.2        1.0      0.2 1.250000     1\n",
            "[61]  {Bread=Yes,                                                            \n",
            "       Yogurt=Yes} => {Cheese=No}      0.2        1.0      0.2 2.500000     1\n",
            "[62]  {Cheese=No,                                                            \n",
            "       Yogurt=Yes} => {Eggs=No}        0.2        1.0      0.2 1.250000     1\n",
            "[63]  {Eggs=No,                                                              \n",
            "       Yogurt=Yes} => {Cheese=No}      0.2        1.0      0.2 2.500000     1\n",
            "[64]  {Juice=No,                                                             \n",
            "       Yogurt=Yes} => {Milk=Yes}       0.2        1.0      0.2 1.666667     1\n",
            "[65]  {Milk=Yes,                                                             \n",
            "       Yogurt=Yes} => {Juice=No}       0.2        1.0      0.2 2.500000     1\n",
            "[66]  {Juice=No,                                                             \n",
            "       Yogurt=Yes} => {Bread=Yes}      0.2        1.0      0.2 1.250000     1\n",
            "[67]  {Bread=Yes,                                                            \n",
            "       Yogurt=Yes} => {Juice=No}       0.2        1.0      0.2 2.500000     1\n",
            "[68]  {Juice=No,                                                             \n",
            "       Yogurt=Yes} => {Eggs=No}        0.2        1.0      0.2 1.250000     1\n",
            "[69]  {Eggs=No,                                                              \n",
            "       Yogurt=Yes} => {Juice=No}       0.2        1.0      0.2 2.500000     1\n",
            "[70]  {Milk=Yes,                                                             \n",
            "       Yogurt=Yes} => {Bread=Yes}      0.2        1.0      0.2 1.250000     1\n",
            "[71]  {Bread=Yes,                                                            \n",
            "       Yogurt=Yes} => {Milk=Yes}       0.2        1.0      0.2 1.666667     1\n",
            "[72]  {Milk=Yes,                                                             \n",
            "       Yogurt=Yes} => {Eggs=No}        0.2        1.0      0.2 1.250000     1\n",
            "[73]  {Eggs=No,                                                              \n",
            "       Yogurt=Yes} => {Milk=Yes}       0.2        1.0      0.2 1.666667     1\n",
            "[74]  {Bread=Yes,                                                            \n",
            "       Yogurt=Yes} => {Eggs=No}        0.2        1.0      0.2 1.250000     1\n",
            "[75]  {Eggs=No,                                                              \n",
            "       Yogurt=Yes} => {Bread=Yes}      0.2        1.0      0.2 1.250000     1\n",
            "[76]  {Bread=No,                                                             \n",
            "       Cheese=Yes} => {Juice=Yes}      0.2        1.0      0.2 1.666667     1\n",
            "[77]  {Bread=No,                                                             \n",
            "       Juice=Yes}  => {Cheese=Yes}     0.2        1.0      0.2 1.666667     1\n",
            "[78]  {Bread=No,                                                             \n",
            "       Cheese=Yes} => {Milk=Yes}       0.2        1.0      0.2 1.666667     1\n",
            "[79]  {Bread=No,                                                             \n",
            "       Milk=Yes}   => {Cheese=Yes}     0.2        1.0      0.2 1.666667     1\n",
            "[80]  {Cheese=Yes,                                                           \n",
            "       Milk=Yes}   => {Bread=No}       0.2        1.0      0.2 5.000000     1\n",
            "[81]  {Bread=No,                                                             \n",
            "       Cheese=Yes} => {Yogurt=No}      0.2        1.0      0.2 1.250000     1\n",
            "[82]  {Bread=No,                                                             \n",
            "       Yogurt=No}  => {Cheese=Yes}     0.2        1.0      0.2 1.666667     1\n",
            "[83]  {Bread=No,                                                             \n",
            "       Cheese=Yes} => {Eggs=No}        0.2        1.0      0.2 1.250000     1\n",
            "[84]  {Bread=No,                                                             \n",
            "       Eggs=No}    => {Cheese=Yes}     0.2        1.0      0.2 1.666667     1\n",
            "[85]  {Bread=No,                                                             \n",
            "       Juice=Yes}  => {Milk=Yes}       0.2        1.0      0.2 1.666667     1\n",
            "[86]  {Bread=No,                                                             \n",
            "       Milk=Yes}   => {Juice=Yes}      0.2        1.0      0.2 1.666667     1\n",
            "[87]  {Juice=Yes,                                                            \n",
            "       Milk=Yes}   => {Bread=No}       0.2        1.0      0.2 5.000000     1\n",
            "[88]  {Bread=No,                                                             \n",
            "       Juice=Yes}  => {Yogurt=No}      0.2        1.0      0.2 1.250000     1\n",
            "[89]  {Bread=No,                                                             \n",
            "       Yogurt=No}  => {Juice=Yes}      0.2        1.0      0.2 1.666667     1\n",
            "[90]  {Bread=No,                                                             \n",
            "       Juice=Yes}  => {Eggs=No}        0.2        1.0      0.2 1.250000     1\n",
            "[91]  {Bread=No,                                                             \n",
            "       Eggs=No}    => {Juice=Yes}      0.2        1.0      0.2 1.666667     1\n",
            "[92]  {Bread=No,                                                             \n",
            "       Milk=Yes}   => {Yogurt=No}      0.2        1.0      0.2 1.250000     1\n",
            "[93]  {Bread=No,                                                             \n",
            "       Yogurt=No}  => {Milk=Yes}       0.2        1.0      0.2 1.666667     1\n",
            "[94]  {Bread=No,                                                             \n",
            "       Milk=Yes}   => {Eggs=No}        0.2        1.0      0.2 1.250000     1\n",
            "[95]  {Bread=No,                                                             \n",
            "       Eggs=No}    => {Milk=Yes}       0.2        1.0      0.2 1.666667     1\n",
            "[96]  {Bread=No,                                                             \n",
            "       Yogurt=No}  => {Eggs=No}        0.2        1.0      0.2 1.250000     1\n",
            "[97]  {Bread=No,                                                             \n",
            "       Eggs=No}    => {Yogurt=No}      0.2        1.0      0.2 1.250000     1\n",
            "[98]  {Cheese=Yes,                                                           \n",
            "       Milk=No}    => {Juice=Yes}      0.4        1.0      0.4 1.666667     2\n",
            "[99]  {Juice=Yes,                                                            \n",
            "       Milk=No}    => {Cheese=Yes}     0.4        1.0      0.4 1.666667     2\n",
            "[100] {Cheese=Yes,                                                           \n",
            "       Milk=No}    => {Bread=Yes}      0.4        1.0      0.4 1.250000     2\n",
            "[101] {Bread=Yes,                                                            \n",
            "       Milk=No}    => {Cheese=Yes}     0.4        1.0      0.4 1.666667     2\n",
            "[102] {Bread=Yes,                                                            \n",
            "       Cheese=Yes} => {Milk=No}        0.4        1.0      0.4 2.500000     2\n",
            "[103] {Cheese=Yes,                                                           \n",
            "       Milk=No}    => {Yogurt=No}      0.4        1.0      0.4 1.250000     2\n",
            "[104] {Milk=No,                                                              \n",
            "       Yogurt=No}  => {Cheese=Yes}     0.4        1.0      0.4 1.666667     2\n",
            "[105] {Eggs=No,                                                              \n",
            "       Milk=No}    => {Cheese=Yes}     0.2        1.0      0.2 1.666667     1\n",
            "[106] {Juice=Yes,                                                            \n",
            "       Milk=No}    => {Bread=Yes}      0.4        1.0      0.4 1.250000     2\n",
            "[107] {Bread=Yes,                                                            \n",
            "       Milk=No}    => {Juice=Yes}      0.4        1.0      0.4 1.666667     2\n",
            "[108] {Bread=Yes,                                                            \n",
            "       Juice=Yes}  => {Milk=No}        0.4        1.0      0.4 2.500000     2\n",
            "[109] {Juice=Yes,                                                            \n",
            "       Milk=No}    => {Yogurt=No}      0.4        1.0      0.4 1.250000     2\n",
            "[110] {Milk=No,                                                              \n",
            "       Yogurt=No}  => {Juice=Yes}      0.4        1.0      0.4 1.666667     2\n",
            "[111] {Eggs=No,                                                              \n",
            "       Milk=No}    => {Juice=Yes}      0.2        1.0      0.2 1.666667     1\n",
            "[112] {Bread=Yes,                                                            \n",
            "       Milk=No}    => {Yogurt=No}      0.4        1.0      0.4 1.250000     2\n",
            "[113] {Milk=No,                                                              \n",
            "       Yogurt=No}  => {Bread=Yes}      0.4        1.0      0.4 1.250000     2\n",
            "[114] {Eggs=No,                                                              \n",
            "       Milk=No}    => {Bread=Yes}      0.2        1.0      0.2 1.250000     1\n",
            "[115] {Eggs=No,                                                              \n",
            "       Milk=No}    => {Yogurt=No}      0.2        1.0      0.2 1.250000     1\n",
            "[116] {Cheese=No,                                                            \n",
            "       Juice=No}   => {Milk=Yes}       0.4        1.0      0.4 1.666667     2\n",
            "[117] {Cheese=No,                                                            \n",
            "       Milk=Yes}   => {Juice=No}       0.4        1.0      0.4 2.500000     2\n",
            "[118] {Juice=No,                                                             \n",
            "       Milk=Yes}   => {Cheese=No}      0.4        1.0      0.4 2.500000     2\n",
            "[119] {Cheese=No,                                                            \n",
            "       Juice=No}   => {Bread=Yes}      0.4        1.0      0.4 1.250000     2\n",
            "[120] {Bread=Yes,                                                            \n",
            "       Cheese=No}  => {Juice=No}       0.4        1.0      0.4 2.500000     2\n",
            "[121] {Bread=Yes,                                                            \n",
            "       Juice=No}   => {Cheese=No}      0.4        1.0      0.4 2.500000     2\n",
            "[122] {Cheese=No,                                                            \n",
            "       Yogurt=No}  => {Juice=No}       0.2        1.0      0.2 2.500000     1\n",
            "[123] {Juice=No,                                                             \n",
            "       Yogurt=No}  => {Cheese=No}      0.2        1.0      0.2 2.500000     1\n",
            "[124] {Cheese=No,                                                            \n",
            "       Juice=No}   => {Eggs=No}        0.4        1.0      0.4 1.250000     2\n",
            "[125] {Cheese=No,                                                            \n",
            "       Eggs=No}    => {Juice=No}       0.4        1.0      0.4 2.500000     2\n",
            "[126] {Eggs=No,                                                              \n",
            "       Juice=No}   => {Cheese=No}      0.4        1.0      0.4 2.500000     2\n",
            "[127] {Cheese=No,                                                            \n",
            "       Milk=Yes}   => {Bread=Yes}      0.4        1.0      0.4 1.250000     2\n",
            "[128] {Bread=Yes,                                                            \n",
            "       Cheese=No}  => {Milk=Yes}       0.4        1.0      0.4 1.666667     2\n",
            "[129] {Bread=Yes,                                                            \n",
            "       Milk=Yes}   => {Cheese=No}      0.4        1.0      0.4 2.500000     2\n",
            "[130] {Cheese=No,                                                            \n",
            "       Yogurt=No}  => {Milk=Yes}       0.2        1.0      0.2 1.666667     1\n",
            "[131] {Cheese=No,                                                            \n",
            "       Milk=Yes}   => {Eggs=No}        0.4        1.0      0.4 1.250000     2\n",
            "[132] {Cheese=No,                                                            \n",
            "       Eggs=No}    => {Milk=Yes}       0.4        1.0      0.4 1.666667     2\n",
            "[133] {Cheese=No,                                                            \n",
            "       Yogurt=No}  => {Bread=Yes}      0.2        1.0      0.2 1.250000     1\n",
            "[134] {Bread=Yes,                                                            \n",
            "       Cheese=No}  => {Eggs=No}        0.4        1.0      0.4 1.250000     2\n",
            "[135] {Cheese=No,                                                            \n",
            "       Eggs=No}    => {Bread=Yes}      0.4        1.0      0.4 1.250000     2\n",
            "[136] {Cheese=No,                                                            \n",
            "       Yogurt=No}  => {Eggs=No}        0.2        1.0      0.2 1.250000     1\n",
            "[137] {Juice=No,                                                             \n",
            "       Milk=Yes}   => {Bread=Yes}      0.4        1.0      0.4 1.250000     2\n",
            "[138] {Bread=Yes,                                                            \n",
            "       Juice=No}   => {Milk=Yes}       0.4        1.0      0.4 1.666667     2\n",
            "[139] {Bread=Yes,                                                            \n",
            "       Milk=Yes}   => {Juice=No}       0.4        1.0      0.4 2.500000     2\n",
            "[140] {Juice=No,                                                             \n",
            "       Yogurt=No}  => {Milk=Yes}       0.2        1.0      0.2 1.666667     1\n",
            "[141] {Juice=No,                                                             \n",
            "       Milk=Yes}   => {Eggs=No}        0.4        1.0      0.4 1.250000     2\n",
            "[142] {Eggs=No,                                                              \n",
            "       Juice=No}   => {Milk=Yes}       0.4        1.0      0.4 1.666667     2\n",
            "[143] {Juice=No,                                                             \n",
            "       Yogurt=No}  => {Bread=Yes}      0.2        1.0      0.2 1.250000     1\n",
            "[144] {Bread=Yes,                                                            \n",
            "       Juice=No}   => {Eggs=No}        0.4        1.0      0.4 1.250000     2\n",
            "[145] {Eggs=No,                                                              \n",
            "       Juice=No}   => {Bread=Yes}      0.4        1.0      0.4 1.250000     2\n",
            "[146] {Juice=No,                                                             \n",
            "       Yogurt=No}  => {Eggs=No}        0.2        1.0      0.2 1.250000     1\n",
            "[147] {Cheese=Yes,                                                           \n",
            "       Milk=Yes}   => {Juice=Yes}      0.2        1.0      0.2 1.666667     1\n",
            "[148] {Juice=Yes,                                                            \n",
            "       Milk=Yes}   => {Cheese=Yes}     0.2        1.0      0.2 1.666667     1\n",
            "[149] {Bread=Yes,                                                            \n",
            "       Cheese=Yes} => {Juice=Yes}      0.4        1.0      0.4 1.666667     2\n",
            "[150] {Bread=Yes,                                                            \n",
            "       Juice=Yes}  => {Cheese=Yes}     0.4        1.0      0.4 1.666667     2\n",
            "[151] {Cheese=Yes,                                                           \n",
            "       Juice=Yes}  => {Yogurt=No}      0.6        1.0      0.6 1.250000     3\n",
            "[152] {Cheese=Yes,                                                           \n",
            "       Yogurt=No}  => {Juice=Yes}      0.6        1.0      0.6 1.666667     3\n",
            "[153] {Juice=Yes,                                                            \n",
            "       Yogurt=No}  => {Cheese=Yes}     0.6        1.0      0.6 1.666667     3\n",
            "[154] {Cheese=Yes,                                                           \n",
            "       Eggs=No}    => {Juice=Yes}      0.4        1.0      0.4 1.666667     2\n",
            "[155] {Eggs=No,                                                              \n",
            "       Juice=Yes}  => {Cheese=Yes}     0.4        1.0      0.4 1.666667     2\n",
            "[156] {Cheese=Yes,                                                           \n",
            "       Milk=Yes}   => {Yogurt=No}      0.2        1.0      0.2 1.250000     1\n",
            "[157] {Cheese=Yes,                                                           \n",
            "       Milk=Yes}   => {Eggs=No}        0.2        1.0      0.2 1.250000     1\n",
            "[158] {Bread=Yes,                                                            \n",
            "       Cheese=Yes} => {Yogurt=No}      0.4        1.0      0.4 1.250000     2\n",
            "[159] {Cheese=Yes,                                                           \n",
            "       Eggs=No}    => {Yogurt=No}      0.4        1.0      0.4 1.250000     2\n",
            "[160] {Juice=Yes,                                                            \n",
            "       Milk=Yes}   => {Yogurt=No}      0.2        1.0      0.2 1.250000     1\n",
            "[161] {Juice=Yes,                                                            \n",
            "       Milk=Yes}   => {Eggs=No}        0.2        1.0      0.2 1.250000     1\n",
            "[162] {Bread=Yes,                                                            \n",
            "       Juice=Yes}  => {Yogurt=No}      0.4        1.0      0.4 1.250000     2\n",
            "[163] {Eggs=No,                                                              \n",
            "       Juice=Yes}  => {Yogurt=No}      0.4        1.0      0.4 1.250000     2\n",
            "[164] {Bread=Yes,                                                            \n",
            "       Milk=Yes}   => {Eggs=No}        0.4        1.0      0.4 1.250000     2\n",
            "[165] {Milk=Yes,                                                             \n",
            "       Yogurt=No}  => {Eggs=No}        0.4        1.0      0.4 1.250000     2\n",
            "[166] {Cheese=Yes,                                                           \n",
            "       Eggs=Yes,                                                             \n",
            "       Milk=No}    => {Juice=Yes}      0.2        1.0      0.2 1.666667     1\n",
            "[167] {Eggs=Yes,                                                             \n",
            "       Juice=Yes,                                                            \n",
            "       Milk=No}    => {Cheese=Yes}     0.2        1.0      0.2 1.666667     1\n",
            "[168] {Cheese=Yes,                                                           \n",
            "       Eggs=Yes,                                                             \n",
            "       Juice=Yes}  => {Milk=No}        0.2        1.0      0.2 2.500000     1\n",
            "[169] {Cheese=Yes,                                                           \n",
            "       Eggs=Yes,                                                             \n",
            "       Milk=No}    => {Bread=Yes}      0.2        1.0      0.2 1.250000     1\n",
            "[170] {Bread=Yes,                                                            \n",
            "       Eggs=Yes,                                                             \n",
            "       Milk=No}    => {Cheese=Yes}     0.2        1.0      0.2 1.666667     1\n",
            "[171] {Bread=Yes,                                                            \n",
            "       Cheese=Yes,                                                           \n",
            "       Eggs=Yes}   => {Milk=No}        0.2        1.0      0.2 2.500000     1\n",
            "[172] {Cheese=Yes,                                                           \n",
            "       Eggs=Yes,                                                             \n",
            "       Milk=No}    => {Yogurt=No}      0.2        1.0      0.2 1.250000     1\n",
            "[173] {Eggs=Yes,                                                             \n",
            "       Milk=No,                                                              \n",
            "       Yogurt=No}  => {Cheese=Yes}     0.2        1.0      0.2 1.666667     1\n",
            "[174] {Cheese=Yes,                                                           \n",
            "       Eggs=Yes,                                                             \n",
            "       Yogurt=No}  => {Milk=No}        0.2        1.0      0.2 2.500000     1\n",
            "[175] {Eggs=Yes,                                                             \n",
            "       Juice=Yes,                                                            \n",
            "       Milk=No}    => {Bread=Yes}      0.2        1.0      0.2 1.250000     1\n",
            "[176] {Bread=Yes,                                                            \n",
            "       Eggs=Yes,                                                             \n",
            "       Milk=No}    => {Juice=Yes}      0.2        1.0      0.2 1.666667     1\n",
            "[177] {Bread=Yes,                                                            \n",
            "       Eggs=Yes,                                                             \n",
            "       Juice=Yes}  => {Milk=No}        0.2        1.0      0.2 2.500000     1\n",
            "[178] {Eggs=Yes,                                                             \n",
            "       Juice=Yes,                                                            \n",
            "       Milk=No}    => {Yogurt=No}      0.2        1.0      0.2 1.250000     1\n",
            "[179] {Eggs=Yes,                                                             \n",
            "       Milk=No,                                                              \n",
            "       Yogurt=No}  => {Juice=Yes}      0.2        1.0      0.2 1.666667     1\n",
            "[180] {Eggs=Yes,                                                             \n",
            "       Juice=Yes,                                                            \n",
            "       Yogurt=No}  => {Milk=No}        0.2        1.0      0.2 2.500000     1\n",
            "[181] {Bread=Yes,                                                            \n",
            "       Eggs=Yes,                                                             \n",
            "       Milk=No}    => {Yogurt=No}      0.2        1.0      0.2 1.250000     1\n",
            "[182] {Eggs=Yes,                                                             \n",
            "       Milk=No,                                                              \n",
            "       Yogurt=No}  => {Bread=Yes}      0.2        1.0      0.2 1.250000     1\n",
            "[183] {Bread=Yes,                                                            \n",
            "       Eggs=Yes,                                                             \n",
            "       Yogurt=No}  => {Milk=No}        0.2        1.0      0.2 2.500000     1\n",
            "[184] {Cheese=Yes,                                                           \n",
            "       Eggs=Yes,                                                             \n",
            "       Juice=Yes}  => {Bread=Yes}      0.2        1.0      0.2 1.250000     1\n",
            "[185] {Bread=Yes,                                                            \n",
            "       Cheese=Yes,                                                           \n",
            "       Eggs=Yes}   => {Juice=Yes}      0.2        1.0      0.2 1.666667     1\n",
            "[186] {Bread=Yes,                                                            \n",
            "       Eggs=Yes,                                                             \n",
            "       Juice=Yes}  => {Cheese=Yes}     0.2        1.0      0.2 1.666667     1\n",
            "[187] {Cheese=Yes,                                                           \n",
            "       Eggs=Yes,                                                             \n",
            "       Juice=Yes}  => {Yogurt=No}      0.2        1.0      0.2 1.250000     1\n",
            "[188] {Cheese=Yes,                                                           \n",
            "       Eggs=Yes,                                                             \n",
            "       Yogurt=No}  => {Juice=Yes}      0.2        1.0      0.2 1.666667     1\n",
            "[189] {Eggs=Yes,                                                             \n",
            "       Juice=Yes,                                                            \n",
            "       Yogurt=No}  => {Cheese=Yes}     0.2        1.0      0.2 1.666667     1\n",
            "[190] {Bread=Yes,                                                            \n",
            "       Cheese=Yes,                                                           \n",
            "       Eggs=Yes}   => {Yogurt=No}      0.2        1.0      0.2 1.250000     1\n",
            "[191] {Cheese=Yes,                                                           \n",
            "       Eggs=Yes,                                                             \n",
            "       Yogurt=No}  => {Bread=Yes}      0.2        1.0      0.2 1.250000     1\n",
            "[192] {Bread=Yes,                                                            \n",
            "       Eggs=Yes,                                                             \n",
            "       Yogurt=No}  => {Cheese=Yes}     0.2        1.0      0.2 1.666667     1\n",
            "[193] {Bread=Yes,                                                            \n",
            "       Eggs=Yes,                                                             \n",
            "       Juice=Yes}  => {Yogurt=No}      0.2        1.0      0.2 1.250000     1\n",
            "[194] {Eggs=Yes,                                                             \n",
            "       Juice=Yes,                                                            \n",
            "       Yogurt=No}  => {Bread=Yes}      0.2        1.0      0.2 1.250000     1\n",
            "[195] {Bread=Yes,                                                            \n",
            "       Eggs=Yes,                                                             \n",
            "       Yogurt=No}  => {Juice=Yes}      0.2        1.0      0.2 1.666667     1\n",
            "[196] {Cheese=No,                                                            \n",
            "       Juice=No,                                                             \n",
            "       Yogurt=Yes} => {Milk=Yes}       0.2        1.0      0.2 1.666667     1\n",
            "[197] {Cheese=No,                                                            \n",
            "       Milk=Yes,                                                             \n",
            "       Yogurt=Yes} => {Juice=No}       0.2        1.0      0.2 2.500000     1\n",
            "[198] {Juice=No,                                                             \n",
            "       Milk=Yes,                                                             \n",
            "       Yogurt=Yes} => {Cheese=No}      0.2        1.0      0.2 2.500000     1\n",
            "[199] {Cheese=No,                                                            \n",
            "       Juice=No,                                                             \n",
            "       Yogurt=Yes} => {Bread=Yes}      0.2        1.0      0.2 1.250000     1\n",
            "[200] {Bread=Yes,                                                            \n",
            "       Cheese=No,                                                            \n",
            "       Yogurt=Yes} => {Juice=No}       0.2        1.0      0.2 2.500000     1\n",
            "[201] {Bread=Yes,                                                            \n",
            "       Juice=No,                                                             \n",
            "       Yogurt=Yes} => {Cheese=No}      0.2        1.0      0.2 2.500000     1\n",
            "[202] {Cheese=No,                                                            \n",
            "       Juice=No,                                                             \n",
            "       Yogurt=Yes} => {Eggs=No}        0.2        1.0      0.2 1.250000     1\n",
            "[203] {Cheese=No,                                                            \n",
            "       Eggs=No,                                                              \n",
            "       Yogurt=Yes} => {Juice=No}       0.2        1.0      0.2 2.500000     1\n",
            "[204] {Eggs=No,                                                              \n",
            "       Juice=No,                                                             \n",
            "       Yogurt=Yes} => {Cheese=No}      0.2        1.0      0.2 2.500000     1\n",
            "[205] {Cheese=No,                                                            \n",
            "       Milk=Yes,                                                             \n",
            "       Yogurt=Yes} => {Bread=Yes}      0.2        1.0      0.2 1.250000     1\n",
            "[206] {Bread=Yes,                                                            \n",
            "       Cheese=No,                                                            \n",
            "       Yogurt=Yes} => {Milk=Yes}       0.2        1.0      0.2 1.666667     1\n",
            "[207] {Bread=Yes,                                                            \n",
            "       Milk=Yes,                                                             \n",
            "       Yogurt=Yes} => {Cheese=No}      0.2        1.0      0.2 2.500000     1\n",
            "[208] {Cheese=No,                                                            \n",
            "       Milk=Yes,                                                             \n",
            "       Yogurt=Yes} => {Eggs=No}        0.2        1.0      0.2 1.250000     1\n",
            "[209] {Cheese=No,                                                            \n",
            "       Eggs=No,                                                              \n",
            "       Yogurt=Yes} => {Milk=Yes}       0.2        1.0      0.2 1.666667     1\n",
            "[210] {Eggs=No,                                                              \n",
            "       Milk=Yes,                                                             \n",
            "       Yogurt=Yes} => {Cheese=No}      0.2        1.0      0.2 2.500000     1\n",
            "[211] {Bread=Yes,                                                            \n",
            "       Cheese=No,                                                            \n",
            "       Yogurt=Yes} => {Eggs=No}        0.2        1.0      0.2 1.250000     1\n",
            "[212] {Cheese=No,                                                            \n",
            "       Eggs=No,                                                              \n",
            "       Yogurt=Yes} => {Bread=Yes}      0.2        1.0      0.2 1.250000     1\n",
            "[213] {Bread=Yes,                                                            \n",
            "       Eggs=No,                                                              \n",
            "       Yogurt=Yes} => {Cheese=No}      0.2        1.0      0.2 2.500000     1\n",
            "[214] {Juice=No,                                                             \n",
            "       Milk=Yes,                                                             \n",
            "       Yogurt=Yes} => {Bread=Yes}      0.2        1.0      0.2 1.250000     1\n",
            "[215] {Bread=Yes,                                                            \n",
            "       Juice=No,                                                             \n",
            "       Yogurt=Yes} => {Milk=Yes}       0.2        1.0      0.2 1.666667     1\n",
            "[216] {Bread=Yes,                                                            \n",
            "       Milk=Yes,                                                             \n",
            "       Yogurt=Yes} => {Juice=No}       0.2        1.0      0.2 2.500000     1\n",
            "[217] {Juice=No,                                                             \n",
            "       Milk=Yes,                                                             \n",
            "       Yogurt=Yes} => {Eggs=No}        0.2        1.0      0.2 1.250000     1\n",
            "[218] {Eggs=No,                                                              \n",
            "       Juice=No,                                                             \n",
            "       Yogurt=Yes} => {Milk=Yes}       0.2        1.0      0.2 1.666667     1\n",
            "[219] {Eggs=No,                                                              \n",
            "       Milk=Yes,                                                             \n",
            "       Yogurt=Yes} => {Juice=No}       0.2        1.0      0.2 2.500000     1\n",
            "[220] {Bread=Yes,                                                            \n",
            "       Juice=No,                                                             \n",
            "       Yogurt=Yes} => {Eggs=No}        0.2        1.0      0.2 1.250000     1\n",
            "[221] {Eggs=No,                                                              \n",
            "       Juice=No,                                                             \n",
            "       Yogurt=Yes} => {Bread=Yes}      0.2        1.0      0.2 1.250000     1\n",
            "[222] {Bread=Yes,                                                            \n",
            "       Eggs=No,                                                              \n",
            "       Yogurt=Yes} => {Juice=No}       0.2        1.0      0.2 2.500000     1\n",
            "[223] {Bread=Yes,                                                            \n",
            "       Milk=Yes,                                                             \n",
            "       Yogurt=Yes} => {Eggs=No}        0.2        1.0      0.2 1.250000     1\n",
            "[224] {Eggs=No,                                                              \n",
            "       Milk=Yes,                                                             \n",
            "       Yogurt=Yes} => {Bread=Yes}      0.2        1.0      0.2 1.250000     1\n",
            "[225] {Bread=Yes,                                                            \n",
            "       Eggs=No,                                                              \n",
            "       Yogurt=Yes} => {Milk=Yes}       0.2        1.0      0.2 1.666667     1\n",
            "[226] {Bread=No,                                                             \n",
            "       Cheese=Yes,                                                           \n",
            "       Juice=Yes}  => {Milk=Yes}       0.2        1.0      0.2 1.666667     1\n",
            "[227] {Bread=No,                                                             \n",
            "       Cheese=Yes,                                                           \n",
            "       Milk=Yes}   => {Juice=Yes}      0.2        1.0      0.2 1.666667     1\n",
            "[228] {Bread=No,                                                             \n",
            "       Juice=Yes,                                                            \n",
            "       Milk=Yes}   => {Cheese=Yes}     0.2        1.0      0.2 1.666667     1\n",
            "[229] {Cheese=Yes,                                                           \n",
            "       Juice=Yes,                                                            \n",
            "       Milk=Yes}   => {Bread=No}       0.2        1.0      0.2 5.000000     1\n",
            "[230] {Bread=No,                                                             \n",
            "       Cheese=Yes,                                                           \n",
            "       Juice=Yes}  => {Yogurt=No}      0.2        1.0      0.2 1.250000     1\n",
            "[231] {Bread=No,                                                             \n",
            "       Cheese=Yes,                                                           \n",
            "       Yogurt=No}  => {Juice=Yes}      0.2        1.0      0.2 1.666667     1\n",
            "[232] {Bread=No,                                                             \n",
            "       Juice=Yes,                                                            \n",
            "       Yogurt=No}  => {Cheese=Yes}     0.2        1.0      0.2 1.666667     1\n",
            "[233] {Bread=No,                                                             \n",
            "       Cheese=Yes,                                                           \n",
            "       Juice=Yes}  => {Eggs=No}        0.2        1.0      0.2 1.250000     1\n",
            "[234] {Bread=No,                                                             \n",
            "       Cheese=Yes,                                                           \n",
            "       Eggs=No}    => {Juice=Yes}      0.2        1.0      0.2 1.666667     1\n",
            "[235] {Bread=No,                                                             \n",
            "       Eggs=No,                                                              \n",
            "       Juice=Yes}  => {Cheese=Yes}     0.2        1.0      0.2 1.666667     1\n",
            "[236] {Bread=No,                                                             \n",
            "       Cheese=Yes,                                                           \n",
            "       Milk=Yes}   => {Yogurt=No}      0.2        1.0      0.2 1.250000     1\n",
            "[237] {Bread=No,                                                             \n",
            "       Cheese=Yes,                                                           \n",
            "       Yogurt=No}  => {Milk=Yes}       0.2        1.0      0.2 1.666667     1\n",
            "[238] {Bread=No,                                                             \n",
            "       Milk=Yes,                                                             \n",
            "       Yogurt=No}  => {Cheese=Yes}     0.2        1.0      0.2 1.666667     1\n",
            "[239] {Cheese=Yes,                                                           \n",
            "       Milk=Yes,                                                             \n",
            "       Yogurt=No}  => {Bread=No}       0.2        1.0      0.2 5.000000     1\n",
            "[240] {Bread=No,                                                             \n",
            "       Cheese=Yes,                                                           \n",
            "       Milk=Yes}   => {Eggs=No}        0.2        1.0      0.2 1.250000     1\n",
            "[241] {Bread=No,                                                             \n",
            "       Cheese=Yes,                                                           \n",
            "       Eggs=No}    => {Milk=Yes}       0.2        1.0      0.2 1.666667     1\n",
            "[242] {Bread=No,                                                             \n",
            "       Eggs=No,                                                              \n",
            "       Milk=Yes}   => {Cheese=Yes}     0.2        1.0      0.2 1.666667     1\n",
            "[243] {Cheese=Yes,                                                           \n",
            "       Eggs=No,                                                              \n",
            "       Milk=Yes}   => {Bread=No}       0.2        1.0      0.2 5.000000     1\n",
            "[244] {Bread=No,                                                             \n",
            "       Cheese=Yes,                                                           \n",
            "       Yogurt=No}  => {Eggs=No}        0.2        1.0      0.2 1.250000     1\n",
            "[245] {Bread=No,                                                             \n",
            "       Cheese=Yes,                                                           \n",
            "       Eggs=No}    => {Yogurt=No}      0.2        1.0      0.2 1.250000     1\n",
            "[246] {Bread=No,                                                             \n",
            "       Eggs=No,                                                              \n",
            "       Yogurt=No}  => {Cheese=Yes}     0.2        1.0      0.2 1.666667     1\n",
            "[247] {Bread=No,                                                             \n",
            "       Juice=Yes,                                                            \n",
            "       Milk=Yes}   => {Yogurt=No}      0.2        1.0      0.2 1.250000     1\n",
            "[248] {Bread=No,                                                             \n",
            "       Juice=Yes,                                                            \n",
            "       Yogurt=No}  => {Milk=Yes}       0.2        1.0      0.2 1.666667     1\n",
            "[249] {Bread=No,                                                             \n",
            "       Milk=Yes,                                                             \n",
            "       Yogurt=No}  => {Juice=Yes}      0.2        1.0      0.2 1.666667     1\n",
            "[250] {Juice=Yes,                                                            \n",
            "       Milk=Yes,                                                             \n",
            "       Yogurt=No}  => {Bread=No}       0.2        1.0      0.2 5.000000     1\n",
            "[251] {Bread=No,                                                             \n",
            "       Juice=Yes,                                                            \n",
            "       Milk=Yes}   => {Eggs=No}        0.2        1.0      0.2 1.250000     1\n",
            "[252] {Bread=No,                                                             \n",
            "       Eggs=No,                                                              \n",
            "       Juice=Yes}  => {Milk=Yes}       0.2        1.0      0.2 1.666667     1\n",
            "[253] {Bread=No,                                                             \n",
            "       Eggs=No,                                                              \n",
            "       Milk=Yes}   => {Juice=Yes}      0.2        1.0      0.2 1.666667     1\n",
            "[254] {Eggs=No,                                                              \n",
            "       Juice=Yes,                                                            \n",
            "       Milk=Yes}   => {Bread=No}       0.2        1.0      0.2 5.000000     1\n",
            "[255] {Bread=No,                                                             \n",
            "       Juice=Yes,                                                            \n",
            "       Yogurt=No}  => {Eggs=No}        0.2        1.0      0.2 1.250000     1\n",
            "[256] {Bread=No,                                                             \n",
            "       Eggs=No,                                                              \n",
            "       Juice=Yes}  => {Yogurt=No}      0.2        1.0      0.2 1.250000     1\n",
            "[257] {Bread=No,                                                             \n",
            "       Eggs=No,                                                              \n",
            "       Yogurt=No}  => {Juice=Yes}      0.2        1.0      0.2 1.666667     1\n",
            "[258] {Bread=No,                                                             \n",
            "       Milk=Yes,                                                             \n",
            "       Yogurt=No}  => {Eggs=No}        0.2        1.0      0.2 1.250000     1\n",
            "[259] {Bread=No,                                                             \n",
            "       Eggs=No,                                                              \n",
            "       Milk=Yes}   => {Yogurt=No}      0.2        1.0      0.2 1.250000     1\n",
            "[260] {Bread=No,                                                             \n",
            "       Eggs=No,                                                              \n",
            "       Yogurt=No}  => {Milk=Yes}       0.2        1.0      0.2 1.666667     1\n",
            "[261] {Cheese=Yes,                                                           \n",
            "       Juice=Yes,                                                            \n",
            "       Milk=No}    => {Bread=Yes}      0.4        1.0      0.4 1.250000     2\n",
            "[262] {Bread=Yes,                                                            \n",
            "       Cheese=Yes,                                                           \n",
            "       Milk=No}    => {Juice=Yes}      0.4        1.0      0.4 1.666667     2\n",
            "[263] {Bread=Yes,                                                            \n",
            "       Juice=Yes,                                                            \n",
            "       Milk=No}    => {Cheese=Yes}     0.4        1.0      0.4 1.666667     2\n",
            "[264] {Bread=Yes,                                                            \n",
            "       Cheese=Yes,                                                           \n",
            "       Juice=Yes}  => {Milk=No}        0.4        1.0      0.4 2.500000     2\n",
            "[265] {Cheese=Yes,                                                           \n",
            "       Juice=Yes,                                                            \n",
            "       Milk=No}    => {Yogurt=No}      0.4        1.0      0.4 1.250000     2\n",
            "[266] {Cheese=Yes,                                                           \n",
            "       Milk=No,                                                              \n",
            "       Yogurt=No}  => {Juice=Yes}      0.4        1.0      0.4 1.666667     2\n",
            "[267] {Juice=Yes,                                                            \n",
            "       Milk=No,                                                              \n",
            "       Yogurt=No}  => {Cheese=Yes}     0.4        1.0      0.4 1.666667     2\n",
            "[268] {Cheese=Yes,                                                           \n",
            "       Eggs=No,                                                              \n",
            "       Milk=No}    => {Juice=Yes}      0.2        1.0      0.2 1.666667     1\n",
            "[269] {Eggs=No,                                                              \n",
            "       Juice=Yes,                                                            \n",
            "       Milk=No}    => {Cheese=Yes}     0.2        1.0      0.2 1.666667     1\n",
            "[270] {Bread=Yes,                                                            \n",
            "       Cheese=Yes,                                                           \n",
            "       Milk=No}    => {Yogurt=No}      0.4        1.0      0.4 1.250000     2\n",
            "[271] {Cheese=Yes,                                                           \n",
            "       Milk=No,                                                              \n",
            "       Yogurt=No}  => {Bread=Yes}      0.4        1.0      0.4 1.250000     2\n",
            "[272] {Bread=Yes,                                                            \n",
            "       Milk=No,                                                              \n",
            "       Yogurt=No}  => {Cheese=Yes}     0.4        1.0      0.4 1.666667     2\n",
            "[273] {Bread=Yes,                                                            \n",
            "       Cheese=Yes,                                                           \n",
            "       Yogurt=No}  => {Milk=No}        0.4        1.0      0.4 2.500000     2\n",
            "[274] {Cheese=Yes,                                                           \n",
            "       Eggs=No,                                                              \n",
            "       Milk=No}    => {Bread=Yes}      0.2        1.0      0.2 1.250000     1\n",
            "[275] {Bread=Yes,                                                            \n",
            "       Eggs=No,                                                              \n",
            "       Milk=No}    => {Cheese=Yes}     0.2        1.0      0.2 1.666667     1\n",
            "[276] {Bread=Yes,                                                            \n",
            "       Cheese=Yes,                                                           \n",
            "       Eggs=No}    => {Milk=No}        0.2        1.0      0.2 2.500000     1\n",
            "[277] {Cheese=Yes,                                                           \n",
            "       Eggs=No,                                                              \n",
            "       Milk=No}    => {Yogurt=No}      0.2        1.0      0.2 1.250000     1\n",
            "[278] {Eggs=No,                                                              \n",
            "       Milk=No,                                                              \n",
            "       Yogurt=No}  => {Cheese=Yes}     0.2        1.0      0.2 1.666667     1\n",
            "[279] {Bread=Yes,                                                            \n",
            "       Juice=Yes,                                                            \n",
            "       Milk=No}    => {Yogurt=No}      0.4        1.0      0.4 1.250000     2\n",
            "[280] {Juice=Yes,                                                            \n",
            "       Milk=No,                                                              \n",
            "       Yogurt=No}  => {Bread=Yes}      0.4        1.0      0.4 1.250000     2\n",
            "[281] {Bread=Yes,                                                            \n",
            "       Milk=No,                                                              \n",
            "       Yogurt=No}  => {Juice=Yes}      0.4        1.0      0.4 1.666667     2\n",
            "[282] {Bread=Yes,                                                            \n",
            "       Juice=Yes,                                                            \n",
            "       Yogurt=No}  => {Milk=No}        0.4        1.0      0.4 2.500000     2\n",
            "[283] {Eggs=No,                                                              \n",
            "       Juice=Yes,                                                            \n",
            "       Milk=No}    => {Bread=Yes}      0.2        1.0      0.2 1.250000     1\n",
            "[284] {Bread=Yes,                                                            \n",
            "       Eggs=No,                                                              \n",
            "       Milk=No}    => {Juice=Yes}      0.2        1.0      0.2 1.666667     1\n",
            "[285] {Bread=Yes,                                                            \n",
            "       Eggs=No,                                                              \n",
            "       Juice=Yes}  => {Milk=No}        0.2        1.0      0.2 2.500000     1\n",
            "[286] {Eggs=No,                                                              \n",
            "       Juice=Yes,                                                            \n",
            "       Milk=No}    => {Yogurt=No}      0.2        1.0      0.2 1.250000     1\n",
            "[287] {Eggs=No,                                                              \n",
            "       Milk=No,                                                              \n",
            "       Yogurt=No}  => {Juice=Yes}      0.2        1.0      0.2 1.666667     1\n",
            "[288] {Bread=Yes,                                                            \n",
            "       Eggs=No,                                                              \n",
            "       Milk=No}    => {Yogurt=No}      0.2        1.0      0.2 1.250000     1\n",
            "[289] {Eggs=No,                                                              \n",
            "       Milk=No,                                                              \n",
            "       Yogurt=No}  => {Bread=Yes}      0.2        1.0      0.2 1.250000     1\n",
            "[290] {Cheese=No,                                                            \n",
            "       Juice=No,                                                             \n",
            "       Milk=Yes}   => {Bread=Yes}      0.4        1.0      0.4 1.250000     2\n",
            "[291] {Bread=Yes,                                                            \n",
            "       Cheese=No,                                                            \n",
            "       Juice=No}   => {Milk=Yes}       0.4        1.0      0.4 1.666667     2\n",
            "[292] {Bread=Yes,                                                            \n",
            "       Cheese=No,                                                            \n",
            "       Milk=Yes}   => {Juice=No}       0.4        1.0      0.4 2.500000     2\n",
            "[293] {Bread=Yes,                                                            \n",
            "       Juice=No,                                                             \n",
            "       Milk=Yes}   => {Cheese=No}      0.4        1.0      0.4 2.500000     2\n",
            "[294] {Cheese=No,                                                            \n",
            "       Juice=No,                                                             \n",
            "       Yogurt=No}  => {Milk=Yes}       0.2        1.0      0.2 1.666667     1\n",
            "[295] {Cheese=No,                                                            \n",
            "       Milk=Yes,                                                             \n",
            "       Yogurt=No}  => {Juice=No}       0.2        1.0      0.2 2.500000     1\n",
            "[296] {Juice=No,                                                             \n",
            "       Milk=Yes,                                                             \n",
            "       Yogurt=No}  => {Cheese=No}      0.2        1.0      0.2 2.500000     1\n",
            "[297] {Cheese=No,                                                            \n",
            "       Juice=No,                                                             \n",
            "       Milk=Yes}   => {Eggs=No}        0.4        1.0      0.4 1.250000     2\n",
            "[298] {Cheese=No,                                                            \n",
            "       Eggs=No,                                                              \n",
            "       Juice=No}   => {Milk=Yes}       0.4        1.0      0.4 1.666667     2\n",
            "[299] {Cheese=No,                                                            \n",
            "       Eggs=No,                                                              \n",
            "       Milk=Yes}   => {Juice=No}       0.4        1.0      0.4 2.500000     2\n",
            "[300] {Eggs=No,                                                              \n",
            "       Juice=No,                                                             \n",
            "       Milk=Yes}   => {Cheese=No}      0.4        1.0      0.4 2.500000     2\n",
            "[301] {Cheese=No,                                                            \n",
            "       Juice=No,                                                             \n",
            "       Yogurt=No}  => {Bread=Yes}      0.2        1.0      0.2 1.250000     1\n",
            "[302] {Bread=Yes,                                                            \n",
            "       Cheese=No,                                                            \n",
            "       Yogurt=No}  => {Juice=No}       0.2        1.0      0.2 2.500000     1\n",
            "[303] {Bread=Yes,                                                            \n",
            "       Juice=No,                                                             \n",
            "       Yogurt=No}  => {Cheese=No}      0.2        1.0      0.2 2.500000     1\n",
            "[304] {Bread=Yes,                                                            \n",
            "       Cheese=No,                                                            \n",
            "       Juice=No}   => {Eggs=No}        0.4        1.0      0.4 1.250000     2\n",
            "[305] {Cheese=No,                                                            \n",
            "       Eggs=No,                                                              \n",
            "       Juice=No}   => {Bread=Yes}      0.4        1.0      0.4 1.250000     2\n",
            "[306] {Bread=Yes,                                                            \n",
            "       Cheese=No,                                                            \n",
            "       Eggs=No}    => {Juice=No}       0.4        1.0      0.4 2.500000     2\n",
            "[307] {Bread=Yes,                                                            \n",
            "       Eggs=No,                                                              \n",
            "       Juice=No}   => {Cheese=No}      0.4        1.0      0.4 2.500000     2\n",
            "[308] {Cheese=No,                                                            \n",
            "       Juice=No,                                                             \n",
            "       Yogurt=No}  => {Eggs=No}        0.2        1.0      0.2 1.250000     1\n",
            "[309] {Cheese=No,                                                            \n",
            "       Eggs=No,                                                              \n",
            "       Yogurt=No}  => {Juice=No}       0.2        1.0      0.2 2.500000     1\n",
            "[310] {Eggs=No,                                                              \n",
            "       Juice=No,                                                             \n",
            "       Yogurt=No}  => {Cheese=No}      0.2        1.0      0.2 2.500000     1\n",
            "[311] {Cheese=No,                                                            \n",
            "       Milk=Yes,                                                             \n",
            "       Yogurt=No}  => {Bread=Yes}      0.2        1.0      0.2 1.250000     1\n",
            "[312] {Bread=Yes,                                                            \n",
            "       Cheese=No,                                                            \n",
            "       Yogurt=No}  => {Milk=Yes}       0.2        1.0      0.2 1.666667     1\n",
            "[313] {Bread=Yes,                                                            \n",
            "       Milk=Yes,                                                             \n",
            "       Yogurt=No}  => {Cheese=No}      0.2        1.0      0.2 2.500000     1\n",
            "[314] {Bread=Yes,                                                            \n",
            "       Cheese=No,                                                            \n",
            "       Milk=Yes}   => {Eggs=No}        0.4        1.0      0.4 1.250000     2\n",
            "[315] {Cheese=No,                                                            \n",
            "       Eggs=No,                                                              \n",
            "       Milk=Yes}   => {Bread=Yes}      0.4        1.0      0.4 1.250000     2\n",
            "[316] {Bread=Yes,                                                            \n",
            "       Cheese=No,                                                            \n",
            "       Eggs=No}    => {Milk=Yes}       0.4        1.0      0.4 1.666667     2\n",
            "[317] {Bread=Yes,                                                            \n",
            "       Eggs=No,                                                              \n",
            "       Milk=Yes}   => {Cheese=No}      0.4        1.0      0.4 2.500000     2\n",
            "[318] {Cheese=No,                                                            \n",
            "       Milk=Yes,                                                             \n",
            "       Yogurt=No}  => {Eggs=No}        0.2        1.0      0.2 1.250000     1\n",
            "[319] {Cheese=No,                                                            \n",
            "       Eggs=No,                                                              \n",
            "       Yogurt=No}  => {Milk=Yes}       0.2        1.0      0.2 1.666667     1\n",
            "[320] {Bread=Yes,                                                            \n",
            "       Cheese=No,                                                            \n",
            "       Yogurt=No}  => {Eggs=No}        0.2        1.0      0.2 1.250000     1\n",
            "[321] {Cheese=No,                                                            \n",
            "       Eggs=No,                                                              \n",
            "       Yogurt=No}  => {Bread=Yes}      0.2        1.0      0.2 1.250000     1\n",
            "[322] {Juice=No,                                                             \n",
            "       Milk=Yes,                                                             \n",
            "       Yogurt=No}  => {Bread=Yes}      0.2        1.0      0.2 1.250000     1\n",
            "[323] {Bread=Yes,                                                            \n",
            "       Juice=No,                                                             \n",
            "       Yogurt=No}  => {Milk=Yes}       0.2        1.0      0.2 1.666667     1\n",
            "[324] {Bread=Yes,                                                            \n",
            "       Milk=Yes,                                                             \n",
            "       Yogurt=No}  => {Juice=No}       0.2        1.0      0.2 2.500000     1\n",
            "[325] {Bread=Yes,                                                            \n",
            "       Juice=No,                                                             \n",
            "       Milk=Yes}   => {Eggs=No}        0.4        1.0      0.4 1.250000     2\n",
            "[326] {Eggs=No,                                                              \n",
            "       Juice=No,                                                             \n",
            "       Milk=Yes}   => {Bread=Yes}      0.4        1.0      0.4 1.250000     2\n",
            "[327] {Bread=Yes,                                                            \n",
            "       Eggs=No,                                                              \n",
            "       Juice=No}   => {Milk=Yes}       0.4        1.0      0.4 1.666667     2\n",
            "[328] {Bread=Yes,                                                            \n",
            "       Eggs=No,                                                              \n",
            "       Milk=Yes}   => {Juice=No}       0.4        1.0      0.4 2.500000     2\n",
            "[329] {Juice=No,                                                             \n",
            "       Milk=Yes,                                                             \n",
            "       Yogurt=No}  => {Eggs=No}        0.2        1.0      0.2 1.250000     1\n",
            "[330] {Eggs=No,                                                              \n",
            "       Juice=No,                                                             \n",
            "       Yogurt=No}  => {Milk=Yes}       0.2        1.0      0.2 1.666667     1\n",
            "[331] {Bread=Yes,                                                            \n",
            "       Juice=No,                                                             \n",
            "       Yogurt=No}  => {Eggs=No}        0.2        1.0      0.2 1.250000     1\n",
            "[332] {Eggs=No,                                                              \n",
            "       Juice=No,                                                             \n",
            "       Yogurt=No}  => {Bread=Yes}      0.2        1.0      0.2 1.250000     1\n",
            "[333] {Cheese=Yes,                                                           \n",
            "       Juice=Yes,                                                            \n",
            "       Milk=Yes}   => {Yogurt=No}      0.2        1.0      0.2 1.250000     1\n",
            "[334] {Cheese=Yes,                                                           \n",
            "       Milk=Yes,                                                             \n",
            "       Yogurt=No}  => {Juice=Yes}      0.2        1.0      0.2 1.666667     1\n",
            "[335] {Juice=Yes,                                                            \n",
            "       Milk=Yes,                                                             \n",
            "       Yogurt=No}  => {Cheese=Yes}     0.2        1.0      0.2 1.666667     1\n",
            "[336] {Cheese=Yes,                                                           \n",
            "       Juice=Yes,                                                            \n",
            "       Milk=Yes}   => {Eggs=No}        0.2        1.0      0.2 1.250000     1\n",
            "[337] {Cheese=Yes,                                                           \n",
            "       Eggs=No,                                                              \n",
            "       Milk=Yes}   => {Juice=Yes}      0.2        1.0      0.2 1.666667     1\n",
            "[338] {Eggs=No,                                                              \n",
            "       Juice=Yes,                                                            \n",
            "       Milk=Yes}   => {Cheese=Yes}     0.2        1.0      0.2 1.666667     1\n",
            "[339] {Bread=Yes,                                                            \n",
            "       Cheese=Yes,                                                           \n",
            "       Juice=Yes}  => {Yogurt=No}      0.4        1.0      0.4 1.250000     2\n",
            "[340] {Bread=Yes,                                                            \n",
            "       Cheese=Yes,                                                           \n",
            "       Yogurt=No}  => {Juice=Yes}      0.4        1.0      0.4 1.666667     2\n",
            "[341] {Bread=Yes,                                                            \n",
            "       Juice=Yes,                                                            \n",
            "       Yogurt=No}  => {Cheese=Yes}     0.4        1.0      0.4 1.666667     2\n",
            "[342] {Bread=Yes,                                                            \n",
            "       Cheese=Yes,                                                           \n",
            "       Eggs=No}    => {Juice=Yes}      0.2        1.0      0.2 1.666667     1\n",
            "[343] {Bread=Yes,                                                            \n",
            "       Eggs=No,                                                              \n",
            "       Juice=Yes}  => {Cheese=Yes}     0.2        1.0      0.2 1.666667     1\n",
            "[344] {Cheese=Yes,                                                           \n",
            "       Eggs=No,                                                              \n",
            "       Juice=Yes}  => {Yogurt=No}      0.4        1.0      0.4 1.250000     2\n",
            "[345] {Cheese=Yes,                                                           \n",
            "       Eggs=No,                                                              \n",
            "       Yogurt=No}  => {Juice=Yes}      0.4        1.0      0.4 1.666667     2\n",
            "[346] {Eggs=No,                                                              \n",
            "       Juice=Yes,                                                            \n",
            "       Yogurt=No}  => {Cheese=Yes}     0.4        1.0      0.4 1.666667     2\n",
            "[347] {Cheese=Yes,                                                           \n",
            "       Milk=Yes,                                                             \n",
            "       Yogurt=No}  => {Eggs=No}        0.2        1.0      0.2 1.250000     1\n",
            "[348] {Cheese=Yes,                                                           \n",
            "       Eggs=No,                                                              \n",
            "       Milk=Yes}   => {Yogurt=No}      0.2        1.0      0.2 1.250000     1\n",
            "[349] {Bread=Yes,                                                            \n",
            "       Cheese=Yes,                                                           \n",
            "       Eggs=No}    => {Yogurt=No}      0.2        1.0      0.2 1.250000     1\n",
            "[350] {Juice=Yes,                                                            \n",
            "       Milk=Yes,                                                             \n",
            "       Yogurt=No}  => {Eggs=No}        0.2        1.0      0.2 1.250000     1\n",
            "[351] {Eggs=No,                                                              \n",
            "       Juice=Yes,                                                            \n",
            "       Milk=Yes}   => {Yogurt=No}      0.2        1.0      0.2 1.250000     1\n",
            "[352] {Bread=Yes,                                                            \n",
            "       Eggs=No,                                                              \n",
            "       Juice=Yes}  => {Yogurt=No}      0.2        1.0      0.2 1.250000     1\n",
            "[353] {Bread=Yes,                                                            \n",
            "       Milk=Yes,                                                             \n",
            "       Yogurt=No}  => {Eggs=No}        0.2        1.0      0.2 1.250000     1\n",
            "[354] {Cheese=Yes,                                                           \n",
            "       Eggs=Yes,                                                             \n",
            "       Juice=Yes,                                                            \n",
            "       Milk=No}    => {Bread=Yes}      0.2        1.0      0.2 1.250000     1\n",
            "[355] {Bread=Yes,                                                            \n",
            "       Cheese=Yes,                                                           \n",
            "       Eggs=Yes,                                                             \n",
            "       Milk=No}    => {Juice=Yes}      0.2        1.0      0.2 1.666667     1\n",
            "[356] {Bread=Yes,                                                            \n",
            "       Eggs=Yes,                                                             \n",
            "       Juice=Yes,                                                            \n",
            "       Milk=No}    => {Cheese=Yes}     0.2        1.0      0.2 1.666667     1\n",
            "[357] {Bread=Yes,                                                            \n",
            "       Cheese=Yes,                                                           \n",
            "       Eggs=Yes,                                                             \n",
            "       Juice=Yes}  => {Milk=No}        0.2        1.0      0.2 2.500000     1\n",
            "[358] {Cheese=Yes,                                                           \n",
            "       Eggs=Yes,                                                             \n",
            "       Juice=Yes,                                                            \n",
            "       Milk=No}    => {Yogurt=No}      0.2        1.0      0.2 1.250000     1\n",
            "[359] {Cheese=Yes,                                                           \n",
            "       Eggs=Yes,                                                             \n",
            "       Milk=No,                                                              \n",
            "       Yogurt=No}  => {Juice=Yes}      0.2        1.0      0.2 1.666667     1\n",
            "[360] {Eggs=Yes,                                                             \n",
            "       Juice=Yes,                                                            \n",
            "       Milk=No,                                                              \n",
            "       Yogurt=No}  => {Cheese=Yes}     0.2        1.0      0.2 1.666667     1\n",
            "[361] {Cheese=Yes,                                                           \n",
            "       Eggs=Yes,                                                             \n",
            "       Juice=Yes,                                                            \n",
            "       Yogurt=No}  => {Milk=No}        0.2        1.0      0.2 2.500000     1\n",
            "[362] {Bread=Yes,                                                            \n",
            "       Cheese=Yes,                                                           \n",
            "       Eggs=Yes,                                                             \n",
            "       Milk=No}    => {Yogurt=No}      0.2        1.0      0.2 1.250000     1\n",
            "[363] {Cheese=Yes,                                                           \n",
            "       Eggs=Yes,                                                             \n",
            "       Milk=No,                                                              \n",
            "       Yogurt=No}  => {Bread=Yes}      0.2        1.0      0.2 1.250000     1\n",
            "[364] {Bread=Yes,                                                            \n",
            "       Eggs=Yes,                                                             \n",
            "       Milk=No,                                                              \n",
            "       Yogurt=No}  => {Cheese=Yes}     0.2        1.0      0.2 1.666667     1\n",
            "[365] {Bread=Yes,                                                            \n",
            "       Cheese=Yes,                                                           \n",
            "       Eggs=Yes,                                                             \n",
            "       Yogurt=No}  => {Milk=No}        0.2        1.0      0.2 2.500000     1\n",
            "[366] {Bread=Yes,                                                            \n",
            "       Eggs=Yes,                                                             \n",
            "       Juice=Yes,                                                            \n",
            "       Milk=No}    => {Yogurt=No}      0.2        1.0      0.2 1.250000     1\n",
            "[367] {Eggs=Yes,                                                             \n",
            "       Juice=Yes,                                                            \n",
            "       Milk=No,                                                              \n",
            "       Yogurt=No}  => {Bread=Yes}      0.2        1.0      0.2 1.250000     1\n",
            "[368] {Bread=Yes,                                                            \n",
            "       Eggs=Yes,                                                             \n",
            "       Milk=No,                                                              \n",
            "       Yogurt=No}  => {Juice=Yes}      0.2        1.0      0.2 1.666667     1\n",
            "[369] {Bread=Yes,                                                            \n",
            "       Eggs=Yes,                                                             \n",
            "       Juice=Yes,                                                            \n",
            "       Yogurt=No}  => {Milk=No}        0.2        1.0      0.2 2.500000     1\n",
            "[370] {Bread=Yes,                                                            \n",
            "       Cheese=Yes,                                                           \n",
            "       Eggs=Yes,                                                             \n",
            "       Juice=Yes}  => {Yogurt=No}      0.2        1.0      0.2 1.250000     1\n",
            "[371] {Cheese=Yes,                                                           \n",
            "       Eggs=Yes,                                                             \n",
            "       Juice=Yes,                                                            \n",
            "       Yogurt=No}  => {Bread=Yes}      0.2        1.0      0.2 1.250000     1\n",
            "[372] {Bread=Yes,                                                            \n",
            "       Cheese=Yes,                                                           \n",
            "       Eggs=Yes,                                                             \n",
            "       Yogurt=No}  => {Juice=Yes}      0.2        1.0      0.2 1.666667     1\n",
            "[373] {Bread=Yes,                                                            \n",
            "       Eggs=Yes,                                                             \n",
            "       Juice=Yes,                                                            \n",
            "       Yogurt=No}  => {Cheese=Yes}     0.2        1.0      0.2 1.666667     1\n",
            "[374] {Cheese=No,                                                            \n",
            "       Juice=No,                                                             \n",
            "       Milk=Yes,                                                             \n",
            "       Yogurt=Yes} => {Bread=Yes}      0.2        1.0      0.2 1.250000     1\n",
            "[375] {Bread=Yes,                                                            \n",
            "       Cheese=No,                                                            \n",
            "       Juice=No,                                                             \n",
            "       Yogurt=Yes} => {Milk=Yes}       0.2        1.0      0.2 1.666667     1\n",
            "[376] {Bread=Yes,                                                            \n",
            "       Cheese=No,                                                            \n",
            "       Milk=Yes,                                                             \n",
            "       Yogurt=Yes} => {Juice=No}       0.2        1.0      0.2 2.500000     1\n",
            "[377] {Bread=Yes,                                                            \n",
            "       Juice=No,                                                             \n",
            "       Milk=Yes,                                                             \n",
            "       Yogurt=Yes} => {Cheese=No}      0.2        1.0      0.2 2.500000     1\n",
            "[378] {Cheese=No,                                                            \n",
            "       Juice=No,                                                             \n",
            "       Milk=Yes,                                                             \n",
            "       Yogurt=Yes} => {Eggs=No}        0.2        1.0      0.2 1.250000     1\n",
            "[379] {Cheese=No,                                                            \n",
            "       Eggs=No,                                                              \n",
            "       Juice=No,                                                             \n",
            "       Yogurt=Yes} => {Milk=Yes}       0.2        1.0      0.2 1.666667     1\n",
            "[380] {Cheese=No,                                                            \n",
            "       Eggs=No,                                                              \n",
            "       Milk=Yes,                                                             \n",
            "       Yogurt=Yes} => {Juice=No}       0.2        1.0      0.2 2.500000     1\n",
            "[381] {Eggs=No,                                                              \n",
            "       Juice=No,                                                             \n",
            "       Milk=Yes,                                                             \n",
            "       Yogurt=Yes} => {Cheese=No}      0.2        1.0      0.2 2.500000     1\n",
            "[382] {Bread=Yes,                                                            \n",
            "       Cheese=No,                                                            \n",
            "       Juice=No,                                                             \n",
            "       Yogurt=Yes} => {Eggs=No}        0.2        1.0      0.2 1.250000     1\n",
            "[383] {Cheese=No,                                                            \n",
            "       Eggs=No,                                                              \n",
            "       Juice=No,                                                             \n",
            "       Yogurt=Yes} => {Bread=Yes}      0.2        1.0      0.2 1.250000     1\n",
            "[384] {Bread=Yes,                                                            \n",
            "       Cheese=No,                                                            \n",
            "       Eggs=No,                                                              \n",
            "       Yogurt=Yes} => {Juice=No}       0.2        1.0      0.2 2.500000     1\n",
            "[385] {Bread=Yes,                                                            \n",
            "       Eggs=No,                                                              \n",
            "       Juice=No,                                                             \n",
            "       Yogurt=Yes} => {Cheese=No}      0.2        1.0      0.2 2.500000     1\n",
            "[386] {Bread=Yes,                                                            \n",
            "       Cheese=No,                                                            \n",
            "       Milk=Yes,                                                             \n",
            "       Yogurt=Yes} => {Eggs=No}        0.2        1.0      0.2 1.250000     1\n",
            "[387] {Cheese=No,                                                            \n",
            "       Eggs=No,                                                              \n",
            "       Milk=Yes,                                                             \n",
            "       Yogurt=Yes} => {Bread=Yes}      0.2        1.0      0.2 1.250000     1\n",
            "[388] {Bread=Yes,                                                            \n",
            "       Cheese=No,                                                            \n",
            "       Eggs=No,                                                              \n",
            "       Yogurt=Yes} => {Milk=Yes}       0.2        1.0      0.2 1.666667     1\n",
            "[389] {Bread=Yes,                                                            \n",
            "       Eggs=No,                                                              \n",
            "       Milk=Yes,                                                             \n",
            "       Yogurt=Yes} => {Cheese=No}      0.2        1.0      0.2 2.500000     1\n",
            "[390] {Bread=Yes,                                                            \n",
            "       Juice=No,                                                             \n",
            "       Milk=Yes,                                                             \n",
            "       Yogurt=Yes} => {Eggs=No}        0.2        1.0      0.2 1.250000     1\n",
            "[391] {Eggs=No,                                                              \n",
            "       Juice=No,                                                             \n",
            "       Milk=Yes,                                                             \n",
            "       Yogurt=Yes} => {Bread=Yes}      0.2        1.0      0.2 1.250000     1\n",
            "[392] {Bread=Yes,                                                            \n",
            "       Eggs=No,                                                              \n",
            "       Juice=No,                                                             \n",
            "       Yogurt=Yes} => {Milk=Yes}       0.2        1.0      0.2 1.666667     1\n",
            "[393] {Bread=Yes,                                                            \n",
            "       Eggs=No,                                                              \n",
            "       Milk=Yes,                                                             \n",
            "       Yogurt=Yes} => {Juice=No}       0.2        1.0      0.2 2.500000     1\n",
            "[394] {Bread=No,                                                             \n",
            "       Cheese=Yes,                                                           \n",
            "       Juice=Yes,                                                            \n",
            "       Milk=Yes}   => {Yogurt=No}      0.2        1.0      0.2 1.250000     1\n",
            "[395] {Bread=No,                                                             \n",
            "       Cheese=Yes,                                                           \n",
            "       Juice=Yes,                                                            \n",
            "       Yogurt=No}  => {Milk=Yes}       0.2        1.0      0.2 1.666667     1\n",
            "[396] {Bread=No,                                                             \n",
            "       Cheese=Yes,                                                           \n",
            "       Milk=Yes,                                                             \n",
            "       Yogurt=No}  => {Juice=Yes}      0.2        1.0      0.2 1.666667     1\n",
            "[397] {Bread=No,                                                             \n",
            "       Juice=Yes,                                                            \n",
            "       Milk=Yes,                                                             \n",
            "       Yogurt=No}  => {Cheese=Yes}     0.2        1.0      0.2 1.666667     1\n",
            "[398] {Cheese=Yes,                                                           \n",
            "       Juice=Yes,                                                            \n",
            "       Milk=Yes,                                                             \n",
            "       Yogurt=No}  => {Bread=No}       0.2        1.0      0.2 5.000000     1\n",
            "[399] {Bread=No,                                                             \n",
            "       Cheese=Yes,                                                           \n",
            "       Juice=Yes,                                                            \n",
            "       Milk=Yes}   => {Eggs=No}        0.2        1.0      0.2 1.250000     1\n",
            "[400] {Bread=No,                                                             \n",
            "       Cheese=Yes,                                                           \n",
            "       Eggs=No,                                                              \n",
            "       Juice=Yes}  => {Milk=Yes}       0.2        1.0      0.2 1.666667     1\n",
            "[401] {Bread=No,                                                             \n",
            "       Cheese=Yes,                                                           \n",
            "       Eggs=No,                                                              \n",
            "       Milk=Yes}   => {Juice=Yes}      0.2        1.0      0.2 1.666667     1\n",
            "[402] {Bread=No,                                                             \n",
            "       Eggs=No,                                                              \n",
            "       Juice=Yes,                                                            \n",
            "       Milk=Yes}   => {Cheese=Yes}     0.2        1.0      0.2 1.666667     1\n",
            "[403] {Cheese=Yes,                                                           \n",
            "       Eggs=No,                                                              \n",
            "       Juice=Yes,                                                            \n",
            "       Milk=Yes}   => {Bread=No}       0.2        1.0      0.2 5.000000     1\n",
            "[404] {Bread=No,                                                             \n",
            "       Cheese=Yes,                                                           \n",
            "       Juice=Yes,                                                            \n",
            "       Yogurt=No}  => {Eggs=No}        0.2        1.0      0.2 1.250000     1\n",
            "[405] {Bread=No,                                                             \n",
            "       Cheese=Yes,                                                           \n",
            "       Eggs=No,                                                              \n",
            "       Juice=Yes}  => {Yogurt=No}      0.2        1.0      0.2 1.250000     1\n",
            "[406] {Bread=No,                                                             \n",
            "       Cheese=Yes,                                                           \n",
            "       Eggs=No,                                                              \n",
            "       Yogurt=No}  => {Juice=Yes}      0.2        1.0      0.2 1.666667     1\n",
            "[407] {Bread=No,                                                             \n",
            "       Eggs=No,                                                              \n",
            "       Juice=Yes,                                                            \n",
            "       Yogurt=No}  => {Cheese=Yes}     0.2        1.0      0.2 1.666667     1\n",
            "[408] {Bread=No,                                                             \n",
            "       Cheese=Yes,                                                           \n",
            "       Milk=Yes,                                                             \n",
            "       Yogurt=No}  => {Eggs=No}        0.2        1.0      0.2 1.250000     1\n",
            "[409] {Bread=No,                                                             \n",
            "       Cheese=Yes,                                                           \n",
            "       Eggs=No,                                                              \n",
            "       Milk=Yes}   => {Yogurt=No}      0.2        1.0      0.2 1.250000     1\n",
            "[410] {Bread=No,                                                             \n",
            "       Cheese=Yes,                                                           \n",
            "       Eggs=No,                                                              \n",
            "       Yogurt=No}  => {Milk=Yes}       0.2        1.0      0.2 1.666667     1\n",
            "[411] {Bread=No,                                                             \n",
            "       Eggs=No,                                                              \n",
            "       Milk=Yes,                                                             \n",
            "       Yogurt=No}  => {Cheese=Yes}     0.2        1.0      0.2 1.666667     1\n",
            "[412] {Cheese=Yes,                                                           \n",
            "       Eggs=No,                                                              \n",
            "       Milk=Yes,                                                             \n",
            "       Yogurt=No}  => {Bread=No}       0.2        1.0      0.2 5.000000     1\n",
            "[413] {Bread=No,                                                             \n",
            "       Juice=Yes,                                                            \n",
            "       Milk=Yes,                                                             \n",
            "       Yogurt=No}  => {Eggs=No}        0.2        1.0      0.2 1.250000     1\n",
            "[414] {Bread=No,                                                             \n",
            "       Eggs=No,                                                              \n",
            "       Juice=Yes,                                                            \n",
            "       Milk=Yes}   => {Yogurt=No}      0.2        1.0      0.2 1.250000     1\n",
            "[415] {Bread=No,                                                             \n",
            "       Eggs=No,                                                              \n",
            "       Juice=Yes,                                                            \n",
            "       Yogurt=No}  => {Milk=Yes}       0.2        1.0      0.2 1.666667     1\n",
            "[416] {Bread=No,                                                             \n",
            "       Eggs=No,                                                              \n",
            "       Milk=Yes,                                                             \n",
            "       Yogurt=No}  => {Juice=Yes}      0.2        1.0      0.2 1.666667     1\n",
            "[417] {Eggs=No,                                                              \n",
            "       Juice=Yes,                                                            \n",
            "       Milk=Yes,                                                             \n",
            "       Yogurt=No}  => {Bread=No}       0.2        1.0      0.2 5.000000     1\n",
            "[418] {Bread=Yes,                                                            \n",
            "       Cheese=Yes,                                                           \n",
            "       Juice=Yes,                                                            \n",
            "       Milk=No}    => {Yogurt=No}      0.4        1.0      0.4 1.250000     2\n",
            "[419] {Cheese=Yes,                                                           \n",
            "       Juice=Yes,                                                            \n",
            "       Milk=No,                                                              \n",
            "       Yogurt=No}  => {Bread=Yes}      0.4        1.0      0.4 1.250000     2\n",
            "[420] {Bread=Yes,                                                            \n",
            "       Cheese=Yes,                                                           \n",
            "       Milk=No,                                                              \n",
            "       Yogurt=No}  => {Juice=Yes}      0.4        1.0      0.4 1.666667     2\n",
            "[421] {Bread=Yes,                                                            \n",
            "       Juice=Yes,                                                            \n",
            "       Milk=No,                                                              \n",
            "       Yogurt=No}  => {Cheese=Yes}     0.4        1.0      0.4 1.666667     2\n",
            "[422] {Bread=Yes,                                                            \n",
            "       Cheese=Yes,                                                           \n",
            "       Juice=Yes,                                                            \n",
            "       Yogurt=No}  => {Milk=No}        0.4        1.0      0.4 2.500000     2\n",
            "[423] {Cheese=Yes,                                                           \n",
            "       Eggs=No,                                                              \n",
            "       Juice=Yes,                                                            \n",
            "       Milk=No}    => {Bread=Yes}      0.2        1.0      0.2 1.250000     1\n",
            "[424] {Bread=Yes,                                                            \n",
            "       Cheese=Yes,                                                           \n",
            "       Eggs=No,                                                              \n",
            "       Milk=No}    => {Juice=Yes}      0.2        1.0      0.2 1.666667     1\n",
            "[425] {Bread=Yes,                                                            \n",
            "       Eggs=No,                                                              \n",
            "       Juice=Yes,                                                            \n",
            "       Milk=No}    => {Cheese=Yes}     0.2        1.0      0.2 1.666667     1\n",
            "[426] {Bread=Yes,                                                            \n",
            "       Cheese=Yes,                                                           \n",
            "       Eggs=No,                                                              \n",
            "       Juice=Yes}  => {Milk=No}        0.2        1.0      0.2 2.500000     1\n",
            "[427] {Cheese=Yes,                                                           \n",
            "       Eggs=No,                                                              \n",
            "       Juice=Yes,                                                            \n",
            "       Milk=No}    => {Yogurt=No}      0.2        1.0      0.2 1.250000     1\n",
            "[428] {Cheese=Yes,                                                           \n",
            "       Eggs=No,                                                              \n",
            "       Milk=No,                                                              \n",
            "       Yogurt=No}  => {Juice=Yes}      0.2        1.0      0.2 1.666667     1\n",
            "[429] {Eggs=No,                                                              \n",
            "       Juice=Yes,                                                            \n",
            "       Milk=No,                                                              \n",
            "       Yogurt=No}  => {Cheese=Yes}     0.2        1.0      0.2 1.666667     1\n",
            "[430] {Bread=Yes,                                                            \n",
            "       Cheese=Yes,                                                           \n",
            "       Eggs=No,                                                              \n",
            "       Milk=No}    => {Yogurt=No}      0.2        1.0      0.2 1.250000     1\n",
            "[431] {Cheese=Yes,                                                           \n",
            "       Eggs=No,                                                              \n",
            "       Milk=No,                                                              \n",
            "       Yogurt=No}  => {Bread=Yes}      0.2        1.0      0.2 1.250000     1\n",
            "[432] {Bread=Yes,                                                            \n",
            "       Eggs=No,                                                              \n",
            "       Milk=No,                                                              \n",
            "       Yogurt=No}  => {Cheese=Yes}     0.2        1.0      0.2 1.666667     1\n",
            "[433] {Bread=Yes,                                                            \n",
            "       Cheese=Yes,                                                           \n",
            "       Eggs=No,                                                              \n",
            "       Yogurt=No}  => {Milk=No}        0.2        1.0      0.2 2.500000     1\n",
            "[434] {Bread=Yes,                                                            \n",
            "       Eggs=No,                                                              \n",
            "       Juice=Yes,                                                            \n",
            "       Milk=No}    => {Yogurt=No}      0.2        1.0      0.2 1.250000     1\n",
            "[435] {Eggs=No,                                                              \n",
            "       Juice=Yes,                                                            \n",
            "       Milk=No,                                                              \n",
            "       Yogurt=No}  => {Bread=Yes}      0.2        1.0      0.2 1.250000     1\n",
            "[436] {Bread=Yes,                                                            \n",
            "       Eggs=No,                                                              \n",
            "       Milk=No,                                                              \n",
            "       Yogurt=No}  => {Juice=Yes}      0.2        1.0      0.2 1.666667     1\n",
            "[437] {Bread=Yes,                                                            \n",
            "       Eggs=No,                                                              \n",
            "       Juice=Yes,                                                            \n",
            "       Yogurt=No}  => {Milk=No}        0.2        1.0      0.2 2.500000     1\n",
            "[438] {Cheese=No,                                                            \n",
            "       Juice=No,                                                             \n",
            "       Milk=Yes,                                                             \n",
            "       Yogurt=No}  => {Bread=Yes}      0.2        1.0      0.2 1.250000     1\n",
            "[439] {Bread=Yes,                                                            \n",
            "       Cheese=No,                                                            \n",
            "       Juice=No,                                                             \n",
            "       Yogurt=No}  => {Milk=Yes}       0.2        1.0      0.2 1.666667     1\n",
            "[440] {Bread=Yes,                                                            \n",
            "       Cheese=No,                                                            \n",
            "       Milk=Yes,                                                             \n",
            "       Yogurt=No}  => {Juice=No}       0.2        1.0      0.2 2.500000     1\n",
            "[441] {Bread=Yes,                                                            \n",
            "       Juice=No,                                                             \n",
            "       Milk=Yes,                                                             \n",
            "       Yogurt=No}  => {Cheese=No}      0.2        1.0      0.2 2.500000     1\n",
            "[442] {Bread=Yes,                                                            \n",
            "       Cheese=No,                                                            \n",
            "       Juice=No,                                                             \n",
            "       Milk=Yes}   => {Eggs=No}        0.4        1.0      0.4 1.250000     2\n",
            "[443] {Cheese=No,                                                            \n",
            "       Eggs=No,                                                              \n",
            "       Juice=No,                                                             \n",
            "       Milk=Yes}   => {Bread=Yes}      0.4        1.0      0.4 1.250000     2\n",
            "[444] {Bread=Yes,                                                            \n",
            "       Cheese=No,                                                            \n",
            "       Eggs=No,                                                              \n",
            "       Juice=No}   => {Milk=Yes}       0.4        1.0      0.4 1.666667     2\n",
            "[445] {Bread=Yes,                                                            \n",
            "       Cheese=No,                                                            \n",
            "       Eggs=No,                                                              \n",
            "       Milk=Yes}   => {Juice=No}       0.4        1.0      0.4 2.500000     2\n",
            "[446] {Bread=Yes,                                                            \n",
            "       Eggs=No,                                                              \n",
            "       Juice=No,                                                             \n",
            "       Milk=Yes}   => {Cheese=No}      0.4        1.0      0.4 2.500000     2\n",
            "[447] {Cheese=No,                                                            \n",
            "       Juice=No,                                                             \n",
            "       Milk=Yes,                                                             \n",
            "       Yogurt=No}  => {Eggs=No}        0.2        1.0      0.2 1.250000     1\n",
            "[448] {Cheese=No,                                                            \n",
            "       Eggs=No,                                                              \n",
            "       Juice=No,                                                             \n",
            "       Yogurt=No}  => {Milk=Yes}       0.2        1.0      0.2 1.666667     1\n",
            "[449] {Cheese=No,                                                            \n",
            "       Eggs=No,                                                              \n",
            "       Milk=Yes,                                                             \n",
            "       Yogurt=No}  => {Juice=No}       0.2        1.0      0.2 2.500000     1\n",
            "[450] {Eggs=No,                                                              \n",
            "       Juice=No,                                                             \n",
            "       Milk=Yes,                                                             \n",
            "       Yogurt=No}  => {Cheese=No}      0.2        1.0      0.2 2.500000     1\n",
            "[451] {Bread=Yes,                                                            \n",
            "       Cheese=No,                                                            \n",
            "       Juice=No,                                                             \n",
            "       Yogurt=No}  => {Eggs=No}        0.2        1.0      0.2 1.250000     1\n",
            "[452] {Cheese=No,                                                            \n",
            "       Eggs=No,                                                              \n",
            "       Juice=No,                                                             \n",
            "       Yogurt=No}  => {Bread=Yes}      0.2        1.0      0.2 1.250000     1\n",
            "[453] {Bread=Yes,                                                            \n",
            "       Cheese=No,                                                            \n",
            "       Eggs=No,                                                              \n",
            "       Yogurt=No}  => {Juice=No}       0.2        1.0      0.2 2.500000     1\n",
            "[454] {Bread=Yes,                                                            \n",
            "       Eggs=No,                                                              \n",
            "       Juice=No,                                                             \n",
            "       Yogurt=No}  => {Cheese=No}      0.2        1.0      0.2 2.500000     1\n",
            "[455] {Bread=Yes,                                                            \n",
            "       Cheese=No,                                                            \n",
            "       Milk=Yes,                                                             \n",
            "       Yogurt=No}  => {Eggs=No}        0.2        1.0      0.2 1.250000     1\n",
            "[456] {Cheese=No,                                                            \n",
            "       Eggs=No,                                                              \n",
            "       Milk=Yes,                                                             \n",
            "       Yogurt=No}  => {Bread=Yes}      0.2        1.0      0.2 1.250000     1\n",
            "[457] {Bread=Yes,                                                            \n",
            "       Cheese=No,                                                            \n",
            "       Eggs=No,                                                              \n",
            "       Yogurt=No}  => {Milk=Yes}       0.2        1.0      0.2 1.666667     1\n",
            "[458] {Bread=Yes,                                                            \n",
            "       Eggs=No,                                                              \n",
            "       Milk=Yes,                                                             \n",
            "       Yogurt=No}  => {Cheese=No}      0.2        1.0      0.2 2.500000     1\n",
            "[459] {Bread=Yes,                                                            \n",
            "       Juice=No,                                                             \n",
            "       Milk=Yes,                                                             \n",
            "       Yogurt=No}  => {Eggs=No}        0.2        1.0      0.2 1.250000     1\n",
            "[460] {Eggs=No,                                                              \n",
            "       Juice=No,                                                             \n",
            "       Milk=Yes,                                                             \n",
            "       Yogurt=No}  => {Bread=Yes}      0.2        1.0      0.2 1.250000     1\n",
            "[461] {Bread=Yes,                                                            \n",
            "       Eggs=No,                                                              \n",
            "       Juice=No,                                                             \n",
            "       Yogurt=No}  => {Milk=Yes}       0.2        1.0      0.2 1.666667     1\n",
            "[462] {Bread=Yes,                                                            \n",
            "       Eggs=No,                                                              \n",
            "       Milk=Yes,                                                             \n",
            "       Yogurt=No}  => {Juice=No}       0.2        1.0      0.2 2.500000     1\n",
            "[463] {Cheese=Yes,                                                           \n",
            "       Juice=Yes,                                                            \n",
            "       Milk=Yes,                                                             \n",
            "       Yogurt=No}  => {Eggs=No}        0.2        1.0      0.2 1.250000     1\n",
            "[464] {Cheese=Yes,                                                           \n",
            "       Eggs=No,                                                              \n",
            "       Juice=Yes,                                                            \n",
            "       Milk=Yes}   => {Yogurt=No}      0.2        1.0      0.2 1.250000     1\n",
            "[465] {Cheese=Yes,                                                           \n",
            "       Eggs=No,                                                              \n",
            "       Milk=Yes,                                                             \n",
            "       Yogurt=No}  => {Juice=Yes}      0.2        1.0      0.2 1.666667     1\n",
            "[466] {Eggs=No,                                                              \n",
            "       Juice=Yes,                                                            \n",
            "       Milk=Yes,                                                             \n",
            "       Yogurt=No}  => {Cheese=Yes}     0.2        1.0      0.2 1.666667     1\n",
            "[467] {Bread=Yes,                                                            \n",
            "       Cheese=Yes,                                                           \n",
            "       Eggs=No,                                                              \n",
            "       Juice=Yes}  => {Yogurt=No}      0.2        1.0      0.2 1.250000     1\n",
            "[468] {Bread=Yes,                                                            \n",
            "       Cheese=Yes,                                                           \n",
            "       Eggs=No,                                                              \n",
            "       Yogurt=No}  => {Juice=Yes}      0.2        1.0      0.2 1.666667     1\n",
            "[469] {Bread=Yes,                                                            \n",
            "       Eggs=No,                                                              \n",
            "       Juice=Yes,                                                            \n",
            "       Yogurt=No}  => {Cheese=Yes}     0.2        1.0      0.2 1.666667     1\n",
            "[470] {Bread=Yes,                                                            \n",
            "       Cheese=Yes,                                                           \n",
            "       Eggs=Yes,                                                             \n",
            "       Juice=Yes,                                                            \n",
            "       Milk=No}    => {Yogurt=No}      0.2        1.0      0.2 1.250000     1\n",
            "[471] {Cheese=Yes,                                                           \n",
            "       Eggs=Yes,                                                             \n",
            "       Juice=Yes,                                                            \n",
            "       Milk=No,                                                              \n",
            "       Yogurt=No}  => {Bread=Yes}      0.2        1.0      0.2 1.250000     1\n",
            "[472] {Bread=Yes,                                                            \n",
            "       Cheese=Yes,                                                           \n",
            "       Eggs=Yes,                                                             \n",
            "       Milk=No,                                                              \n",
            "       Yogurt=No}  => {Juice=Yes}      0.2        1.0      0.2 1.666667     1\n",
            "[473] {Bread=Yes,                                                            \n",
            "       Eggs=Yes,                                                             \n",
            "       Juice=Yes,                                                            \n",
            "       Milk=No,                                                              \n",
            "       Yogurt=No}  => {Cheese=Yes}     0.2        1.0      0.2 1.666667     1\n",
            "[474] {Bread=Yes,                                                            \n",
            "       Cheese=Yes,                                                           \n",
            "       Eggs=Yes,                                                             \n",
            "       Juice=Yes,                                                            \n",
            "       Yogurt=No}  => {Milk=No}        0.2        1.0      0.2 2.500000     1\n",
            "[475] {Bread=Yes,                                                            \n",
            "       Cheese=No,                                                            \n",
            "       Juice=No,                                                             \n",
            "       Milk=Yes,                                                             \n",
            "       Yogurt=Yes} => {Eggs=No}        0.2        1.0      0.2 1.250000     1\n",
            "[476] {Cheese=No,                                                            \n",
            "       Eggs=No,                                                              \n",
            "       Juice=No,                                                             \n",
            "       Milk=Yes,                                                             \n",
            "       Yogurt=Yes} => {Bread=Yes}      0.2        1.0      0.2 1.250000     1\n",
            "[477] {Bread=Yes,                                                            \n",
            "       Cheese=No,                                                            \n",
            "       Eggs=No,                                                              \n",
            "       Juice=No,                                                             \n",
            "       Yogurt=Yes} => {Milk=Yes}       0.2        1.0      0.2 1.666667     1\n",
            "[478] {Bread=Yes,                                                            \n",
            "       Cheese=No,                                                            \n",
            "       Eggs=No,                                                              \n",
            "       Milk=Yes,                                                             \n",
            "       Yogurt=Yes} => {Juice=No}       0.2        1.0      0.2 2.500000     1\n",
            "[479] {Bread=Yes,                                                            \n",
            "       Eggs=No,                                                              \n",
            "       Juice=No,                                                             \n",
            "       Milk=Yes,                                                             \n",
            "       Yogurt=Yes} => {Cheese=No}      0.2        1.0      0.2 2.500000     1\n",
            "[480] {Bread=No,                                                             \n",
            "       Cheese=Yes,                                                           \n",
            "       Juice=Yes,                                                            \n",
            "       Milk=Yes,                                                             \n",
            "       Yogurt=No}  => {Eggs=No}        0.2        1.0      0.2 1.250000     1\n",
            "[481] {Bread=No,                                                             \n",
            "       Cheese=Yes,                                                           \n",
            "       Eggs=No,                                                              \n",
            "       Juice=Yes,                                                            \n",
            "       Milk=Yes}   => {Yogurt=No}      0.2        1.0      0.2 1.250000     1\n",
            "[482] {Bread=No,                                                             \n",
            "       Cheese=Yes,                                                           \n",
            "       Eggs=No,                                                              \n",
            "       Juice=Yes,                                                            \n",
            "       Yogurt=No}  => {Milk=Yes}       0.2        1.0      0.2 1.666667     1\n",
            "[483] {Bread=No,                                                             \n",
            "       Cheese=Yes,                                                           \n",
            "       Eggs=No,                                                              \n",
            "       Milk=Yes,                                                             \n",
            "       Yogurt=No}  => {Juice=Yes}      0.2        1.0      0.2 1.666667     1\n",
            "[484] {Bread=No,                                                             \n",
            "       Eggs=No,                                                              \n",
            "       Juice=Yes,                                                            \n",
            "       Milk=Yes,                                                             \n",
            "       Yogurt=No}  => {Cheese=Yes}     0.2        1.0      0.2 1.666667     1\n",
            "[485] {Cheese=Yes,                                                           \n",
            "       Eggs=No,                                                              \n",
            "       Juice=Yes,                                                            \n",
            "       Milk=Yes,                                                             \n",
            "       Yogurt=No}  => {Bread=No}       0.2        1.0      0.2 5.000000     1\n",
            "[486] {Bread=Yes,                                                            \n",
            "       Cheese=Yes,                                                           \n",
            "       Eggs=No,                                                              \n",
            "       Juice=Yes,                                                            \n",
            "       Milk=No}    => {Yogurt=No}      0.2        1.0      0.2 1.250000     1\n",
            "[487] {Cheese=Yes,                                                           \n",
            "       Eggs=No,                                                              \n",
            "       Juice=Yes,                                                            \n",
            "       Milk=No,                                                              \n",
            "       Yogurt=No}  => {Bread=Yes}      0.2        1.0      0.2 1.250000     1\n",
            "[488] {Bread=Yes,                                                            \n",
            "       Cheese=Yes,                                                           \n",
            "       Eggs=No,                                                              \n",
            "       Milk=No,                                                              \n",
            "       Yogurt=No}  => {Juice=Yes}      0.2        1.0      0.2 1.666667     1\n",
            "[489] {Bread=Yes,                                                            \n",
            "       Eggs=No,                                                              \n",
            "       Juice=Yes,                                                            \n",
            "       Milk=No,                                                              \n",
            "       Yogurt=No}  => {Cheese=Yes}     0.2        1.0      0.2 1.666667     1\n",
            "[490] {Bread=Yes,                                                            \n",
            "       Cheese=Yes,                                                           \n",
            "       Eggs=No,                                                              \n",
            "       Juice=Yes,                                                            \n",
            "       Yogurt=No}  => {Milk=No}        0.2        1.0      0.2 2.500000     1\n",
            "[491] {Bread=Yes,                                                            \n",
            "       Cheese=No,                                                            \n",
            "       Juice=No,                                                             \n",
            "       Milk=Yes,                                                             \n",
            "       Yogurt=No}  => {Eggs=No}        0.2        1.0      0.2 1.250000     1\n",
            "[492] {Cheese=No,                                                            \n",
            "       Eggs=No,                                                              \n",
            "       Juice=No,                                                             \n",
            "       Milk=Yes,                                                             \n",
            "       Yogurt=No}  => {Bread=Yes}      0.2        1.0      0.2 1.250000     1\n",
            "[493] {Bread=Yes,                                                            \n",
            "       Cheese=No,                                                            \n",
            "       Eggs=No,                                                              \n",
            "       Juice=No,                                                             \n",
            "       Yogurt=No}  => {Milk=Yes}       0.2        1.0      0.2 1.666667     1\n",
            "[494] {Bread=Yes,                                                            \n",
            "       Cheese=No,                                                            \n",
            "       Eggs=No,                                                              \n",
            "       Milk=Yes,                                                             \n",
            "       Yogurt=No}  => {Juice=No}       0.2        1.0      0.2 2.500000     1\n",
            "[495] {Bread=Yes,                                                            \n",
            "       Eggs=No,                                                              \n",
            "       Juice=No,                                                             \n",
            "       Milk=Yes,                                                             \n",
            "       Yogurt=No}  => {Cheese=No}      0.2        1.0      0.2 2.500000     1\n"
          ]
        }
      ]
    },
    {
      "cell_type": "markdown",
      "metadata": {
        "id": "pB0X_m1FwtiU"
      },
      "source": [
        "### lets determine rules with constraints of support, confidence."
      ]
    },
    {
      "cell_type": "markdown",
      "metadata": {
        "id": "92HpHiaJw4jF"
      },
      "source": [
        "itemsets and maximum 3 itemsets with a support of 0.5"
      ]
    },
    {
      "cell_type": "code",
      "metadata": {
        "colab": {
          "base_uri": "https://localhost:8080/"
        },
        "id": "TY_bLd6Mw-LE",
        "outputId": "0a5c3ffb-3a76-418a-d8a0-3c3b02e0f2f6"
      },
      "source": [
        "rules = apriori(mydata, \n",
        "                parameter=list(minlen=2,\n",
        "                               maxlen=3, \n",
        "                               support=0.5))"
      ],
      "execution_count": 10,
      "outputs": [
        {
          "output_type": "stream",
          "name": "stderr",
          "text": [
            "Warning message:\n",
            "“Column(s) 1, 2, 3, 4, 5, 6 not logical or factor. Applying default discretization (see '? discretizeDF').”\n"
          ]
        },
        {
          "output_type": "stream",
          "name": "stdout",
          "text": [
            "Apriori\n",
            "\n",
            "Parameter specification:\n",
            " confidence minval smax arem  aval originalSupport maxtime support minlen\n",
            "        0.8    0.1    1 none FALSE            TRUE       5     0.5      2\n",
            " maxlen target  ext\n",
            "      3  rules TRUE\n",
            "\n",
            "Algorithmic control:\n",
            " filter tree heap memopt load sort verbose\n",
            "    0.1 TRUE TRUE  FALSE TRUE    2    TRUE\n",
            "\n",
            "Absolute minimum support count: 2 \n",
            "\n",
            "set item appearances ...[0 item(s)] done [0.00s].\n",
            "set transactions ...[12 item(s), 5 transaction(s)] done [0.00s].\n",
            "sorting and recoding items ... [6 item(s)] done [0.00s].\n",
            "creating transaction tree ... done [0.00s].\n",
            "checking subsets of size 1 2 3"
          ]
        },
        {
          "output_type": "stream",
          "name": "stderr",
          "text": [
            "Warning message in apriori(mydata, parameter = list(minlen = 2, maxlen = 3, support = 0.5)):\n",
            "“Mining stopped (maxlen reached). Only patterns up to a length of 3 returned!”\n"
          ]
        },
        {
          "output_type": "stream",
          "name": "stdout",
          "text": [
            " done [0.00s].\n",
            "writing ... [8 rule(s)] done [0.00s].\n",
            "creating S4 object  ... done [0.00s].\n"
          ]
        }
      ]
    },
    {
      "cell_type": "markdown",
      "metadata": {
        "id": "AJkh1WkSxNAR"
      },
      "source": [
        "examine the rules now"
      ]
    },
    {
      "cell_type": "code",
      "metadata": {
        "colab": {
          "base_uri": "https://localhost:8080/",
          "height": 35
        },
        "id": "eyvgKq5-xSBo",
        "outputId": "e896cf64-c7b7-4e0b-b561-0dee06e6d551"
      },
      "source": [
        "rules"
      ],
      "execution_count": 11,
      "outputs": [
        {
          "output_type": "display_data",
          "data": {
            "text/plain": [
              "set of 8 rules "
            ]
          },
          "metadata": {}
        }
      ]
    },
    {
      "cell_type": "markdown",
      "metadata": {
        "id": "78SY6D-WxUTu"
      },
      "source": [
        "so we brought it down to 8 rules.\n",
        "lets inspect them..."
      ]
    },
    {
      "cell_type": "code",
      "metadata": {
        "colab": {
          "base_uri": "https://localhost:8080/"
        },
        "id": "oSGuXjvfxeEG",
        "outputId": "db975773-ab8b-4d73-fd14-44d831ec90cc"
      },
      "source": [
        "inspect(rules)"
      ],
      "execution_count": 12,
      "outputs": [
        {
          "output_type": "stream",
          "name": "stdout",
          "text": [
            "    lhs                       rhs          support confidence coverage lift    \n",
            "[1] {Cheese=Yes}           => {Juice=Yes}  0.6     1          0.6      1.666667\n",
            "[2] {Juice=Yes}            => {Cheese=Yes} 0.6     1          0.6      1.666667\n",
            "[3] {Cheese=Yes}           => {Yogurt=No}  0.6     1          0.6      1.250000\n",
            "[4] {Juice=Yes}            => {Yogurt=No}  0.6     1          0.6      1.250000\n",
            "[5] {Milk=Yes}             => {Eggs=No}    0.6     1          0.6      1.250000\n",
            "[6] {Cheese=Yes,Juice=Yes} => {Yogurt=No}  0.6     1          0.6      1.250000\n",
            "[7] {Cheese=Yes,Yogurt=No} => {Juice=Yes}  0.6     1          0.6      1.666667\n",
            "[8] {Juice=Yes,Yogurt=No}  => {Cheese=Yes} 0.6     1          0.6      1.666667\n",
            "    count\n",
            "[1] 3    \n",
            "[2] 3    \n",
            "[3] 3    \n",
            "[4] 3    \n",
            "[5] 3    \n",
            "[6] 3    \n",
            "[7] 3    \n",
            "[8] 3    \n"
          ]
        }
      ]
    },
    {
      "cell_type": "markdown",
      "metadata": {
        "id": "Roa-KRFgx3LV"
      },
      "source": [
        "### now Call apriori algorithm with default values with minimum 2\n",
        "itemsets and maximum 3 itemsets with a support of 0.5 and confidence of 0.75"
      ]
    },
    {
      "cell_type": "code",
      "metadata": {
        "colab": {
          "base_uri": "https://localhost:8080/"
        },
        "id": "x7mBXeo1yDVd",
        "outputId": "7bd505b7-80da-440e-817d-37ab3fb450ff"
      },
      "source": [
        "rules = apriori(mydata, \n",
        "                parameter=list(minlen=2,\n",
        "                               maxlen=2,\n",
        "                               support=0.5, \n",
        "                               confidence = 0.75))"
      ],
      "execution_count": 14,
      "outputs": [
        {
          "output_type": "stream",
          "name": "stderr",
          "text": [
            "Warning message:\n",
            "“Column(s) 1, 2, 3, 4, 5, 6 not logical or factor. Applying default discretization (see '? discretizeDF').”\n"
          ]
        },
        {
          "output_type": "stream",
          "name": "stdout",
          "text": [
            "Apriori\n",
            "\n",
            "Parameter specification:\n",
            " confidence minval smax arem  aval originalSupport maxtime support minlen\n",
            "       0.75    0.1    1 none FALSE            TRUE       5     0.5      2\n",
            " maxlen target  ext\n",
            "      2  rules TRUE\n",
            "\n",
            "Algorithmic control:\n",
            " filter tree heap memopt load sort verbose\n",
            "    0.1 TRUE TRUE  FALSE TRUE    2    TRUE\n",
            "\n",
            "Absolute minimum support count: 2 \n",
            "\n",
            "set item appearances ...[0 item(s)] done [0.00s].\n",
            "set transactions ...[12 item(s), 5 transaction(s)] done [0.00s].\n",
            "sorting and recoding items ... [6 item(s)] done [0.00s].\n",
            "creating transaction tree ... done [0.00s].\n",
            "checking subsets of size 1 2"
          ]
        },
        {
          "output_type": "stream",
          "name": "stderr",
          "text": [
            "Warning message in apriori(mydata, parameter = list(minlen = 2, maxlen = 2, support = 0.5, :\n",
            "“Mining stopped (maxlen reached). Only patterns up to a length of 2 returned!”\n"
          ]
        },
        {
          "output_type": "stream",
          "name": "stdout",
          "text": [
            " done [0.00s].\n",
            "writing ... [14 rule(s)] done [0.00s].\n",
            "creating S4 object  ... done [0.00s].\n"
          ]
        }
      ]
    },
    {
      "cell_type": "markdown",
      "metadata": {
        "id": "nKlpN8PLyY66"
      },
      "source": [
        "check the new rules"
      ]
    },
    {
      "cell_type": "code",
      "metadata": {
        "colab": {
          "base_uri": "https://localhost:8080/"
        },
        "id": "RBgFuzwOydZE",
        "outputId": "c75345aa-942c-4109-d0af-c058228c8f46"
      },
      "source": [
        "inspect(rules)"
      ],
      "execution_count": 15,
      "outputs": [
        {
          "output_type": "stream",
          "name": "stdout",
          "text": [
            "     lhs             rhs          support confidence coverage lift     count\n",
            "[1]  {Cheese=Yes} => {Juice=Yes}  0.6     1.00       0.6      1.666667 3    \n",
            "[2]  {Juice=Yes}  => {Cheese=Yes} 0.6     1.00       0.6      1.666667 3    \n",
            "[3]  {Cheese=Yes} => {Yogurt=No}  0.6     1.00       0.6      1.250000 3    \n",
            "[4]  {Yogurt=No}  => {Cheese=Yes} 0.6     0.75       0.8      1.250000 3    \n",
            "[5]  {Juice=Yes}  => {Yogurt=No}  0.6     1.00       0.6      1.250000 3    \n",
            "[6]  {Yogurt=No}  => {Juice=Yes}  0.6     0.75       0.8      1.250000 3    \n",
            "[7]  {Milk=Yes}   => {Eggs=No}    0.6     1.00       0.6      1.250000 3    \n",
            "[8]  {Eggs=No}    => {Milk=Yes}   0.6     0.75       0.8      1.250000 3    \n",
            "[9]  {Bread=Yes}  => {Yogurt=No}  0.6     0.75       0.8      0.937500 3    \n",
            "[10] {Yogurt=No}  => {Bread=Yes}  0.6     0.75       0.8      0.937500 3    \n",
            "[11] {Bread=Yes}  => {Eggs=No}    0.6     0.75       0.8      0.937500 3    \n",
            "[12] {Eggs=No}    => {Bread=Yes}  0.6     0.75       0.8      0.937500 3    \n",
            "[13] {Yogurt=No}  => {Eggs=No}    0.6     0.75       0.8      0.937500 3    \n",
            "[14] {Eggs=No}    => {Yogurt=No}  0.6     0.75       0.8      0.937500 3    \n"
          ]
        }
      ]
    },
    {
      "cell_type": "markdown",
      "metadata": {
        "id": "SS9Qj4pOykvN"
      },
      "source": [
        "use summary() on rules "
      ]
    },
    {
      "cell_type": "code",
      "metadata": {
        "colab": {
          "base_uri": "https://localhost:8080/",
          "height": 403
        },
        "id": "68SB7yLnyqnT",
        "outputId": "976d981a-0bf7-4594-8aa8-da4c5885a1bf"
      },
      "source": [
        "summary(rules)"
      ],
      "execution_count": 16,
      "outputs": [
        {
          "output_type": "display_data",
          "data": {
            "text/plain": [
              "set of 14 rules\n",
              "\n",
              "rule length distribution (lhs + rhs):sizes\n",
              " 2 \n",
              "14 \n",
              "\n",
              "   Min. 1st Qu.  Median    Mean 3rd Qu.    Max. \n",
              "      2       2       2       2       2       2 \n",
              "\n",
              "summary of quality measures:\n",
              "    support      confidence        coverage           lift            count  \n",
              " Min.   :0.6   Min.   :0.7500   Min.   :0.6000   Min.   :0.9375   Min.   :3  \n",
              " 1st Qu.:0.6   1st Qu.:0.7500   1st Qu.:0.6000   1st Qu.:0.9375   1st Qu.:3  \n",
              " Median :0.6   Median :0.7500   Median :0.8000   Median :1.2500   Median :3  \n",
              " Mean   :0.6   Mean   :0.8393   Mean   :0.7286   Mean   :1.1756   Mean   :3  \n",
              " 3rd Qu.:0.6   3rd Qu.:1.0000   3rd Qu.:0.8000   3rd Qu.:1.2500   3rd Qu.:3  \n",
              " Max.   :0.6   Max.   :1.0000   Max.   :0.8000   Max.   :1.6667   Max.   :3  \n",
              "\n",
              "mining info:\n",
              "   data ntransactions support confidence\n",
              " mydata             5     0.5       0.75"
            ]
          },
          "metadata": {}
        }
      ]
    },
    {
      "cell_type": "markdown",
      "metadata": {
        "id": "ua1-19RJyvqE"
      },
      "source": [
        "### Let's start visualizing the rules\n",
        "for plotting, \n",
        "use library \" arulesViz \""
      ]
    },
    {
      "cell_type": "code",
      "metadata": {
        "colab": {
          "base_uri": "https://localhost:8080/"
        },
        "id": "ooUS8p0EzLgM",
        "outputId": "edd599bf-836c-4156-8e83-543dfcf7256d"
      },
      "source": [
        "install.packages(\"arulesViz\")\n",
        "library(arulesViz)"
      ],
      "execution_count": 22,
      "outputs": [
        {
          "output_type": "stream",
          "name": "stderr",
          "text": [
            "Installing package into ‘/usr/local/lib/R/site-library’\n",
            "(as ‘lib’ is unspecified)\n",
            "\n",
            "also installing the dependencies ‘foreach’, ‘TSP’, ‘crosstalk’, ‘promises’, ‘seriation’, ‘igraph’, ‘scatterplot3d’, ‘ggnetwork’, ‘DT’, ‘plotly’\n",
            "\n",
            "\n"
          ]
        }
      ]
    },
    {
      "cell_type": "code",
      "metadata": {
        "colab": {
          "base_uri": "https://localhost:8080/",
          "height": 474
        },
        "id": "4NwC3pevzkTG",
        "outputId": "4aec5899-52ca-45bf-d453-e96cda137b1f"
      },
      "source": [
        "plot(rules)"
      ],
      "execution_count": 23,
      "outputs": [
        {
          "output_type": "stream",
          "name": "stderr",
          "text": [
            "To reduce overplotting, jitter is added! Use jitter = 0 to prevent jitter.\n",
            "\n"
          ]
        },
        {
          "output_type": "display_data",
          "data": {
            "image/png": "[encoded data removed]",
            "text/plain": [
              "plot without title"
            ]
          },
          "metadata": {
            "image/png": {
              "width": 420,
              "height": 420
            }
          }
        }
      ]
    },
    {
      "cell_type": "code",
      "metadata": {
        "colab": {
          "base_uri": "https://localhost:8080/",
          "height": 437
        },
        "id": "HiXHNFAO1nW4",
        "outputId": "7c4a0cb7-ab3b-4e10-d038-24c153e59cec"
      },
      "source": [
        "plot(rules,\"grouped\")"
      ],
      "execution_count": 24,
      "outputs": [
        {
          "output_type": "display_data",
          "data": {
            "image/png": "[encoded data removed]",
            "text/plain": [
              "plot without title"
            ]
          },
          "metadata": {
            "image/png": {
              "width": 420,
              "height": 420
            }
          }
        }
      ]
    },
    {
      "cell_type": "markdown",
      "metadata": {
        "id": "c4fsmA9U1_Qa"
      },
      "source": [
        "### Since we are only interested in \" Yes \" rules,\n",
        "set the constraints in the function,\n",
        "set lhs, rhs etc."
      ]
    },
    {
      "cell_type": "code",
      "metadata": {
        "colab": {
          "base_uri": "https://localhost:8080/"
        },
        "id": "uqC5jeOi2HhH",
        "outputId": "7f62103a-ba87-4fca-b50c-40673c4c3761"
      },
      "source": [
        "rules <- apriori(mydata,\n",
        "                 parameter = list(minlen=2,\n",
        "                                  maxlen=3,\n",
        "                                  supp=.01,\n",
        "                                  conf=.5),\n",
        "                 appearance = list(rhs=c(\"Bread=Yes\"),\n",
        "                                   lhs=c(\"Eggs=Yes\"),\n",
        "                                   default=\"none\"))"
      ],
      "execution_count": 26,
      "outputs": [
        {
          "output_type": "stream",
          "name": "stderr",
          "text": [
            "Warning message:\n",
            "“Column(s) 1, 2, 3, 4, 5, 6 not logical or factor. Applying default discretization (see '? discretizeDF').”\n"
          ]
        },
        {
          "output_type": "stream",
          "name": "stdout",
          "text": [
            "Apriori\n",
            "\n",
            "Parameter specification:\n",
            " confidence minval smax arem  aval originalSupport maxtime support minlen\n",
            "        0.5    0.1    1 none FALSE            TRUE       5    0.01      2\n",
            " maxlen target  ext\n",
            "      3  rules TRUE\n",
            "\n",
            "Algorithmic control:\n",
            " filter tree heap memopt load sort verbose\n",
            "    0.1 TRUE TRUE  FALSE TRUE    2    TRUE\n",
            "\n",
            "Absolute minimum support count: 0 \n",
            "\n",
            "set item appearances ...[2 item(s)] done [0.00s].\n",
            "set transactions ...[2 item(s), 5 transaction(s)] done [0.00s].\n",
            "sorting and recoding items ... [2 item(s)] done [0.00s].\n",
            "creating transaction tree ... done [0.00s].\n",
            "checking subsets of size 1 2 done [0.00s].\n",
            "writing ... [1 rule(s)] done [0.00s].\n",
            "creating S4 object  ... done [0.00s].\n"
          ]
        }
      ]
    },
    {
      "cell_type": "code",
      "metadata": {
        "colab": {
          "base_uri": "https://localhost:8080/"
        },
        "id": "WQF0Qh-A2jXQ",
        "outputId": "d2b4757a-939a-4945-d8c0-7b0b87bc6afd"
      },
      "source": [
        "inspect(rules)"
      ],
      "execution_count": 27,
      "outputs": [
        {
          "output_type": "stream",
          "name": "stdout",
          "text": [
            "    lhs           rhs         support confidence coverage lift count\n",
            "[1] {Eggs=Yes} => {Bread=Yes} 0.2     1          0.2      1.25 1    \n"
          ]
        }
      ]
    },
    {
      "cell_type": "code",
      "metadata": {
        "colab": {
          "base_uri": "https://localhost:8080/",
          "height": 35
        },
        "id": "2xAZsN-a2zjp",
        "outputId": "69a7b8c7-882d-48ea-b2ee-784e261c67f8"
      },
      "source": [
        "rules"
      ],
      "execution_count": 28,
      "outputs": [
        {
          "output_type": "display_data",
          "data": {
            "text/plain": [
              "set of 1 rules "
            ]
          },
          "metadata": {}
        }
      ]
    },
    {
      "cell_type": "markdown",
      "metadata": {
        "id": "DkIsTcVk3C2L"
      },
      "source": [
        "from above we see that those who buy eggs are more likely to buy bread.\n",
        "let's plot these rules."
      ]
    },
    {
      "cell_type": "code",
      "metadata": {
        "colab": {
          "base_uri": "https://localhost:8080/",
          "height": 437
        },
        "id": "O8B9HSPQ22uj",
        "outputId": "07461415-e6ab-4004-86c9-7407ca1ea043"
      },
      "source": [
        "plot(rules)"
      ],
      "execution_count": 29,
      "outputs": [
        {
          "output_type": "display_data",
          "data": {
            "image/png": "[encoded data removed]",
            "text/plain": [
              "plot without title"
            ]
          },
          "metadata": {
            "image/png": {
              "width": 420,
              "height": 420
            }
          }
        }
      ]
    },
    {
      "cell_type": "code",
      "metadata": {
        "colab": {
          "base_uri": "https://localhost:8080/",
          "height": 319
        },
        "id": "oMJMgrLk3TbY",
        "outputId": "c62cc18d-46e7-42fe-9fd9-44327207a311"
      },
      "source": [
        "plot(rules,\"grouped\")"
      ],
      "execution_count": 31,
      "outputs": [
        {
          "output_type": "error",
          "ename": "ERROR",
          "evalue": "ignored",
          "traceback": [
            "Error in stats::hclust(stats::dist(m_clust)): must have n >= 2 objects to cluster\nTraceback:\n",
            "1. plot(rules, \"grouped\")",
            "2. plot.rules(rules, \"grouped\")",
            "3. grouped_matrix_plot(x, measure = measure, shading = shading, \n .     control = control, ...)",
            "4. grouped_matrix_ggplot2(rules, measure, shading, control, ...)",
            "5. rules2groupedMatrix(x, shading, measure, k = control$k, aggr.fun = control$aggr.fun, \n .     lhs_label_items = control$lhs_label_items)",
            "6. stats::cutree(stats::hclust(stats::dist(m_clust)), h = 0)",
            "7. nrow(tree$merge)",
            "8. stats::hclust(stats::dist(m_clust))",
            "9. stop(\"must have n >= 2 objects to cluster\")"
          ]
        }
      ]
    },
    {
      "cell_type": "code",
      "metadata": {
        "colab": {
          "base_uri": "https://localhost:8080/",
          "height": 437
        },
        "id": "2SXpkQqt3cmS",
        "outputId": "4e954034-3279-4b0d-a253-a0ba744aa679"
      },
      "source": [
        "plot(rules,\"graph\")"
      ],
      "execution_count": 32,
      "outputs": [
        {
          "output_type": "display_data",
          "data": {
            "image/png": "[encoded data removed]",
            "text/plain": [
              "plot without title"
            ]
          },
          "metadata": {
            "image/png": {
              "width": 420,
              "height": 420
            }
          }
        }
      ]
    },
    {
      "cell_type": "markdown",
      "metadata": {
        "id": "tuO3rhL23tPB"
      },
      "source": [
        "### Let's explore for more rules"
      ]
    },
    {
      "cell_type": "code",
      "metadata": {
        "colab": {
          "base_uri": "https://localhost:8080/"
        },
        "id": "gkdZFazD3y14",
        "outputId": "a77611ed-fe78-4da6-9c1f-e7e1c814bfa7"
      },
      "source": [
        "rules <- apriori(mydata,\n",
        "                 parameter = list(minlen=2,\n",
        "                                  maxlen=3,\n",
        "                                  supp=.01, \n",
        "                                  conf=.5),\n",
        "                 appearance=list(rhs=c(\"Bread=Yes\"),\n",
        "                                 lhs=c(\"Eggs=Yes\", \"Cheese=Yes\"),\n",
        "                                 default=\"none\"))"
      ],
      "execution_count": 34,
      "outputs": [
        {
          "output_type": "stream",
          "name": "stderr",
          "text": [
            "Warning message:\n",
            "“Column(s) 1, 2, 3, 4, 5, 6 not logical or factor. Applying default discretization (see '? discretizeDF').”\n"
          ]
        },
        {
          "output_type": "stream",
          "name": "stdout",
          "text": [
            "Apriori\n",
            "\n",
            "Parameter specification:\n",
            " confidence minval smax arem  aval originalSupport maxtime support minlen\n",
            "        0.5    0.1    1 none FALSE            TRUE       5    0.01      2\n",
            " maxlen target  ext\n",
            "      3  rules TRUE\n",
            "\n",
            "Algorithmic control:\n",
            " filter tree heap memopt load sort verbose\n",
            "    0.1 TRUE TRUE  FALSE TRUE    2    TRUE\n",
            "\n",
            "Absolute minimum support count: 0 \n",
            "\n",
            "set item appearances ...[3 item(s)] done [0.00s].\n",
            "set transactions ...[3 item(s), 5 transaction(s)] done [0.00s].\n",
            "sorting and recoding items ... [3 item(s)] done [0.00s].\n",
            "creating transaction tree ... done [0.00s].\n",
            "checking subsets of size 1 2 3 done [0.00s].\n",
            "writing ... [3 rule(s)] done [0.00s].\n",
            "creating S4 object  ... done [0.00s].\n"
          ]
        }
      ]
    },
    {
      "cell_type": "code",
      "metadata": {
        "colab": {
          "base_uri": "https://localhost:8080/"
        },
        "id": "CZ7V0aVY4E2O",
        "outputId": "ead382f4-108c-4cd1-890e-27335cbfb941"
      },
      "source": [
        "inspect(rules)"
      ],
      "execution_count": 35,
      "outputs": [
        {
          "output_type": "stream",
          "name": "stdout",
          "text": [
            "    lhs                      rhs         support confidence coverage lift     \n",
            "[1] {Eggs=Yes}            => {Bread=Yes} 0.2     1.0000000  0.2      1.2500000\n",
            "[2] {Cheese=Yes}          => {Bread=Yes} 0.4     0.6666667  0.6      0.8333333\n",
            "[3] {Cheese=Yes,Eggs=Yes} => {Bread=Yes} 0.2     1.0000000  0.2      1.2500000\n",
            "    count\n",
            "[1] 1    \n",
            "[2] 2    \n",
            "[3] 1    \n"
          ]
        }
      ]
    },
    {
      "cell_type": "code",
      "metadata": {
        "colab": {
          "base_uri": "https://localhost:8080/",
          "height": 35
        },
        "id": "GwmoI8_p4IiX",
        "outputId": "ce9d2d37-fbb9-4b62-84e5-bb136a43cb0b"
      },
      "source": [
        "rules"
      ],
      "execution_count": 36,
      "outputs": [
        {
          "output_type": "display_data",
          "data": {
            "text/plain": [
              "set of 3 rules "
            ]
          },
          "metadata": {}
        }
      ]
    },
    {
      "cell_type": "markdown",
      "metadata": {
        "id": "NYrIVRT44RRQ"
      },
      "source": [
        "truncating the rules to get desired results"
      ]
    },
    {
      "cell_type": "code",
      "metadata": {
        "colab": {
          "base_uri": "https://localhost:8080/"
        },
        "id": "u5SyFDge4WYo",
        "outputId": "c579abce-f230-40b4-ea1c-aced09ca3b48"
      },
      "source": [
        "quality(rules)= round (quality(rules), digits =3)\n",
        "inspect(rules)"
      ],
      "execution_count": 38,
      "outputs": [
        {
          "output_type": "stream",
          "name": "stdout",
          "text": [
            "    lhs                      rhs         support confidence coverage lift \n",
            "[1] {Eggs=Yes}            => {Bread=Yes} 0.2     1.000      0.2      1.250\n",
            "[2] {Cheese=Yes}          => {Bread=Yes} 0.4     0.667      0.6      0.833\n",
            "[3] {Cheese=Yes,Eggs=Yes} => {Bread=Yes} 0.2     1.000      0.2      1.250\n",
            "    count\n",
            "[1] 1    \n",
            "[2] 2    \n",
            "[3] 1    \n"
          ]
        }
      ]
    },
    {
      "cell_type": "markdown",
      "metadata": {
        "id": "nIdlbF7v4hhX"
      },
      "source": [
        "if rules need to be sorted"
      ]
    },
    {
      "cell_type": "code",
      "metadata": {
        "colab": {
          "base_uri": "https://localhost:8080/"
        },
        "id": "eTEBPZnh4etp",
        "outputId": "809483af-42fb-4b57-b20a-96455c742441"
      },
      "source": [
        "rules.sorted = sort(rules, by =\"confidence\")\n",
        "inspect(rules.sorted)"
      ],
      "execution_count": 39,
      "outputs": [
        {
          "output_type": "stream",
          "name": "stdout",
          "text": [
            "    lhs                      rhs         support confidence coverage lift \n",
            "[1] {Eggs=Yes}            => {Bread=Yes} 0.2     1.000      0.2      1.250\n",
            "[2] {Cheese=Yes,Eggs=Yes} => {Bread=Yes} 0.2     1.000      0.2      1.250\n",
            "[3] {Cheese=Yes}          => {Bread=Yes} 0.4     0.667      0.6      0.833\n",
            "    count\n",
            "[1] 1    \n",
            "[2] 1    \n",
            "[3] 2    \n"
          ]
        }
      ]
    },
    {
      "cell_type": "markdown",
      "metadata": {
        "id": "Bko0IHsS4n1a"
      },
      "source": [
        "prune the rules, remove redundancy"
      ]
    },
    {
      "cell_type": "code",
      "metadata": {
        "colab": {
          "base_uri": "https://localhost:8080/",
          "height": 89
        },
        "id": "OXuDZu2Z4Y23",
        "outputId": "e05cd1b7-d3a4-4b98-b6a9-8665904e8128"
      },
      "source": [
        "redundant = is.redundant(rules,measure =\"confidence\")\n",
        "which(redundant)\n",
        "rules.pruned=rules[!redundant]\n",
        "inspect(rules.pruned)"
      ],
      "execution_count": 40,
      "outputs": [
        {
          "output_type": "display_data",
          "data": {
            "text/plain": [
              "[1] 3"
            ],
            "text/latex": "3",
            "text/markdown": "3",
            "text/html": [
              "3"
            ]
          },
          "metadata": {}
        },
        {
          "output_type": "stream",
          "name": "stdout",
          "text": [
            "    lhs             rhs         support confidence coverage lift  count\n",
            "[1] {Eggs=Yes}   => {Bread=Yes} 0.2     1.000      0.2      1.250 1    \n",
            "[2] {Cheese=Yes} => {Bread=Yes} 0.4     0.667      0.6      0.833 2    \n"
          ]
        }
      ]
    },
    {
      "cell_type": "markdown",
      "metadata": {
        "id": "-b9Qnh6T6SB9"
      },
      "source": [
        "## Exercise on Cosmetics dataset\n",
        "check dependencies,\n",
        "load data,\n",
        "get rules."
      ]
    },
    {
      "cell_type": "code",
      "metadata": {
        "id": "tKtQ04L96c4K"
      },
      "source": [
        "#library(arules)\n",
        "cosmetic_data = read.csv(\"/content/Cosmetics.csv\",\n",
        "                          header = T,\n",
        "                          colClasses = \"factor\")"
      ],
      "execution_count": 41,
      "outputs": []
    },
    {
      "cell_type": "code",
      "metadata": {
        "colab": {
          "base_uri": "https://localhost:8080/",
          "height": 1000
        },
        "id": "d3YBYm9d9a15",
        "outputId": "efd60130-121a-41c0-8ea9-cb76614806ac"
      },
      "source": [
        "cosmetic_data"
      ],
      "execution_count": 44,
      "outputs": [
        {
          "output_type": "display_data",
          "data": {
            "text/plain": [
              "     Bag Blush Nail.Polish Brushes Concealer Eyebrow.Pencils Bronzer Lip.liner\n",
              "1    No  Yes   Yes         Yes     Yes       No              Yes     Yes      \n",
              "2    No  No    Yes         No      Yes       No              Yes     Yes      \n",
              "3    No  Yes   No          No      Yes       Yes             Yes     Yes      \n",
              "4    No  No    Yes         Yes     Yes       No              Yes     No       \n",
              "5    No  Yes   No          No      Yes       No              Yes     Yes      \n",
              "6    No  No    No          No      Yes       No              No      No       \n",
              "7    No  Yes   Yes         Yes     Yes       No              Yes     Yes      \n",
              "8    No  No    Yes         Yes     No        No              Yes     No       \n",
              "9    No  No    No          No      Yes       No              No      No       \n",
              "10   Yes Yes   Yes         Yes     No        No              No      No       \n",
              "11   No  No    Yes         No      No        No              Yes     No       \n",
              "12   No  No    Yes         Yes     Yes       No              Yes     No       \n",
              "13   No  Yes   No          No      Yes       No              No      Yes      \n",
              "14   No  Yes   Yes         Yes     Yes       No              Yes     Yes      \n",
              "15   No  Yes   No          No      Yes       No              Yes     Yes      \n",
              "16   No  No    Yes         Yes     Yes       No              Yes     Yes      \n",
              "17   Yes Yes   Yes         Yes     Yes       No              Yes     Yes      \n",
              "18   No  No    No          No      Yes       No              No      No       \n",
              "19   No  Yes   Yes         No      Yes       Yes             No      No       \n",
              "20   No  Yes   No          No      Yes       No              Yes     No       \n",
              "21   No  Yes   No          No      Yes       Yes             Yes     Yes      \n",
              "22   No  No    No          No      No        No              No      No       \n",
              "23   No  Yes   No          No      Yes       No              Yes     Yes      \n",
              "24   No  No    No          No      No        No              Yes     No       \n",
              "25   No  Yes   No          No      No        No              Yes     Yes      \n",
              "26   No  No    No          No      No        No              Yes     No       \n",
              "27   No  No    Yes         No      Yes       No              No      No       \n",
              "28   Yes Yes   Yes         Yes     Yes       No              Yes     Yes      \n",
              "29   No  No    Yes         Yes     No        No              Yes     Yes      \n",
              "30   No  Yes   Yes         Yes     Yes       No              Yes     No       \n",
              "⋮    ⋮   ⋮     ⋮           ⋮       ⋮         ⋮               ⋮       ⋮        \n",
              "971  No  No    No          No      No        No              No      No       \n",
              "972  No  No    No          No      No        No              No      No       \n",
              "973  No  No    No          No      No        No              No      No       \n",
              "974  No  No    No          No      No        No              No      No       \n",
              "975  No  No    No          No      No        No              No      Yes      \n",
              "976  No  Yes   No          No      No        No              No      No       \n",
              "977  No  No    Yes         Yes     No        No              No      No       \n",
              "978  No  No    No          No      No        No              No      No       \n",
              "979  No  No    No          No      No        No              No      Yes      \n",
              "980  No  No    No          No      No        No              No      No       \n",
              "981  No  No    Yes         No      No        No              Yes     No       \n",
              "982  No  No    No          No      No        No              No      No       \n",
              "983  No  No    Yes         Yes     No        No              Yes     Yes      \n",
              "984  No  No    Yes         Yes     No        No              No      No       \n",
              "985  No  Yes   No          No      No        No              No      Yes      \n",
              "986  No  No    No          No      Yes       No              No      No       \n",
              "987  Yes Yes   No          No      Yes       No              No      No       \n",
              "988  No  No    Yes         No      No        No              No      Yes      \n",
              "989  No  No    No          No      No        No              No      No       \n",
              "990  No  No    No          No      No        No              No      No       \n",
              "991  Yes No    Yes         No      No        No              No      No       \n",
              "992  No  No    No          No      No        No              No      No       \n",
              "993  No  No    No          No      No        No              No      No       \n",
              "994  No  No    No          No      Yes       No              No      Yes      \n",
              "995  No  Yes   No          No      No        No              No      No       \n",
              "996  No  No    No          No      No        No              No      No       \n",
              "997  No  No    No          No      No        No              No      No       \n",
              "998  No  Yes   Yes         Yes     Yes       No              No      Yes      \n",
              "999  Yes Yes   No          No      Yes       No              No      No       \n",
              "1000 No  No    No          No      Yes       No              Yes     Yes      \n",
              "     Mascara Eye.shadow Foundation Lip.Gloss Lipstick Eyeliner\n",
              "1    Yes     No         No         No        No       Yes     \n",
              "2    No      No         Yes        Yes       No       No      \n",
              "3    Yes     Yes        Yes        Yes       Yes      No      \n",
              "4    No      No         Yes        No        No       Yes     \n",
              "5    Yes     Yes        No         Yes       Yes      No      \n",
              "6    No      No         No         No        No       Yes     \n",
              "7    Yes     Yes        Yes        Yes       No       No      \n",
              "8    Yes     Yes        No         Yes       No       No      \n",
              "9    No      No         Yes        No        Yes      No      \n",
              "10   Yes     Yes        No         No        No       No      \n",
              "11   No      No         No         Yes       Yes      Yes     \n",
              "12   Yes     Yes        Yes        No        No       No      \n",
              "13   Yes     Yes        No         Yes       No       No      \n",
              "14   Yes     Yes        Yes        Yes       Yes      No      \n",
              "15   Yes     Yes        Yes        Yes       Yes      Yes     \n",
              "16   Yes     Yes        Yes        Yes       Yes      Yes     \n",
              "17   Yes     Yes        No         No        No       Yes     \n",
              "18   No      No         Yes        Yes       Yes      Yes     \n",
              "19   Yes     Yes        No         No        Yes      No      \n",
              "20   Yes     No         Yes        No        Yes      Yes     \n",
              "21   Yes     Yes        Yes        Yes       Yes      Yes     \n",
              "22   No      No         Yes        Yes       Yes      No      \n",
              "23   No      No         No         No        No       No      \n",
              "24   Yes     Yes        Yes        No        Yes      No      \n",
              "25   No      No         No         No        Yes      Yes     \n",
              "26   No      No         No         Yes       Yes      No      \n",
              "27   Yes     No         Yes        Yes       Yes      Yes     \n",
              "28   Yes     Yes        Yes        Yes       Yes      Yes     \n",
              "29   No      Yes        No         No        Yes      No      \n",
              "30   Yes     Yes        Yes        No        Yes      Yes     \n",
              "⋮    ⋮       ⋮          ⋮          ⋮         ⋮        ⋮       \n",
              "971  No      No         No         No        No       No      \n",
              "972  No      No         Yes        No        No       Yes     \n",
              "973  No      No         No         No        No       Yes     \n",
              "974  No      No         Yes        Yes       No       No      \n",
              "975  No      Yes        No         Yes       No       Yes     \n",
              "976  No      No         Yes        Yes       No       No      \n",
              "977  Yes     Yes        No         No        No       Yes     \n",
              "978  No      No         Yes        Yes       No       No      \n",
              "979  Yes     No         No         Yes       No       No      \n",
              "980  No      No         No         No        Yes      No      \n",
              "981  Yes     Yes        No         Yes       No       No      \n",
              "982  No      No         No         No        Yes      No      \n",
              "983  No      No         No         No        No       No      \n",
              "984  No      No         No         No        No       No      \n",
              "985  No      No         No         Yes       No       No      \n",
              "986  No      No         No         No        No       Yes     \n",
              "987  Yes     No         Yes        Yes       No       No      \n",
              "988  Yes     Yes        Yes        No        Yes      No      \n",
              "989  No      No         Yes        Yes       No       No      \n",
              "990  Yes     Yes        Yes        Yes       No       No      \n",
              "991  Yes     Yes        No         No        No       Yes     \n",
              "992  No      No         No         No        Yes      Yes     \n",
              "993  No      No         No         No        Yes      No      \n",
              "994  Yes     Yes        Yes        No        No       Yes     \n",
              "995  Yes     Yes        Yes        Yes       No       No      \n",
              "996  No      No         No         No        No       No      \n",
              "997  No      No         Yes        Yes       No       No      \n",
              "998  No      No         Yes        No        Yes      Yes     \n",
              "999  Yes     Yes        No         No        Yes      Yes     \n",
              "1000 No      Yes        No         No        No       Yes     "
            ],
            "text/latex": "A data.frame: 1000 × 14\n\\begin{tabular}{llllllllllllll}\n Bag & Blush & Nail.Polish & Brushes & Concealer & Eyebrow.Pencils & Bronzer & Lip.liner & Mascara & Eye.shadow & Foundation & Lip.Gloss & Lipstick & Eyeliner\\\\\n <fct> & <fct> & <fct> & <fct> & <fct> & <fct> & <fct> & <fct> & <fct> & <fct> & <fct> & <fct> & <fct> & <fct>\\\\\n\\hline\n\t No  & Yes & Yes & Yes & Yes & No  & Yes & Yes & Yes & No  & No  & No  & No  & Yes\\\\\n\t No  & No  & Yes & No  & Yes & No  & Yes & Yes & No  & No  & Yes & Yes & No  & No \\\\\n\t No  & Yes & No  & No  & Yes & Yes & Yes & Yes & Yes & Yes & Yes & Yes & Yes & No \\\\\n\t No  & No  & Yes & Yes & Yes & No  & Yes & No  & No  & No  & Yes & No  & No  & Yes\\\\\n\t No  & Yes & No  & No  & Yes & No  & Yes & Yes & Yes & Yes & No  & Yes & Yes & No \\\\\n\t No  & No  & No  & No  & Yes & No  & No  & No  & No  & No  & No  & No  & No  & Yes\\\\\n\t No  & Yes & Yes & Yes & Yes & No  & Yes & Yes & Yes & Yes & Yes & Yes & No  & No \\\\\n\t No  & No  & Yes & Yes & No  & No  & Yes & No  & Yes & Yes & No  & Yes & No  & No \\\\\n\t No  & No  & No  & No  & Yes & No  & No  & No  & No  & No  & Yes & No  & Yes & No \\\\\n\t Yes & Yes & Yes & Yes & No  & No  & No  & No  & Yes & Yes & No  & No  & No  & No \\\\\n\t No  & No  & Yes & No  & No  & No  & Yes & No  & No  & No  & No  & Yes & Yes & Yes\\\\\n\t No  & No  & Yes & Yes & Yes & No  & Yes & No  & Yes & Yes & Yes & No  & No  & No \\\\\n\t No  & Yes & No  & No  & Yes & No  & No  & Yes & Yes & Yes & No  & Yes & No  & No \\\\\n\t No  & Yes & Yes & Yes & Yes & No  & Yes & Yes & Yes & Yes & Yes & Yes & Yes & No \\\\\n\t No  & Yes & No  & No  & Yes & No  & Yes & Yes & Yes & Yes & Yes & Yes & Yes & Yes\\\\\n\t No  & No  & Yes & Yes & Yes & No  & Yes & Yes & Yes & Yes & Yes & Yes & Yes & Yes\\\\\n\t Yes & Yes & Yes & Yes & Yes & No  & Yes & Yes & Yes & Yes & No  & No  & No  & Yes\\\\\n\t No  & No  & No  & No  & Yes & No  & No  & No  & No  & No  & Yes & Yes & Yes & Yes\\\\\n\t No  & Yes & Yes & No  & Yes & Yes & No  & No  & Yes & Yes & No  & No  & Yes & No \\\\\n\t No  & Yes & No  & No  & Yes & No  & Yes & No  & Yes & No  & Yes & No  & Yes & Yes\\\\\n\t No  & Yes & No  & No  & Yes & Yes & Yes & Yes & Yes & Yes & Yes & Yes & Yes & Yes\\\\\n\t No  & No  & No  & No  & No  & No  & No  & No  & No  & No  & Yes & Yes & Yes & No \\\\\n\t No  & Yes & No  & No  & Yes & No  & Yes & Yes & No  & No  & No  & No  & No  & No \\\\\n\t No  & No  & No  & No  & No  & No  & Yes & No  & Yes & Yes & Yes & No  & Yes & No \\\\\n\t No  & Yes & No  & No  & No  & No  & Yes & Yes & No  & No  & No  & No  & Yes & Yes\\\\\n\t No  & No  & No  & No  & No  & No  & Yes & No  & No  & No  & No  & Yes & Yes & No \\\\\n\t No  & No  & Yes & No  & Yes & No  & No  & No  & Yes & No  & Yes & Yes & Yes & Yes\\\\\n\t Yes & Yes & Yes & Yes & Yes & No  & Yes & Yes & Yes & Yes & Yes & Yes & Yes & Yes\\\\\n\t No  & No  & Yes & Yes & No  & No  & Yes & Yes & No  & Yes & No  & No  & Yes & No \\\\\n\t No  & Yes & Yes & Yes & Yes & No  & Yes & No  & Yes & Yes & Yes & No  & Yes & Yes\\\\\n\t ⋮ & ⋮ & ⋮ & ⋮ & ⋮ & ⋮ & ⋮ & ⋮ & ⋮ & ⋮ & ⋮ & ⋮ & ⋮ & ⋮\\\\\n\t No  & No  & No  & No  & No  & No & No  & No  & No  & No  & No  & No  & No  & No \\\\\n\t No  & No  & No  & No  & No  & No & No  & No  & No  & No  & Yes & No  & No  & Yes\\\\\n\t No  & No  & No  & No  & No  & No & No  & No  & No  & No  & No  & No  & No  & Yes\\\\\n\t No  & No  & No  & No  & No  & No & No  & No  & No  & No  & Yes & Yes & No  & No \\\\\n\t No  & No  & No  & No  & No  & No & No  & Yes & No  & Yes & No  & Yes & No  & Yes\\\\\n\t No  & Yes & No  & No  & No  & No & No  & No  & No  & No  & Yes & Yes & No  & No \\\\\n\t No  & No  & Yes & Yes & No  & No & No  & No  & Yes & Yes & No  & No  & No  & Yes\\\\\n\t No  & No  & No  & No  & No  & No & No  & No  & No  & No  & Yes & Yes & No  & No \\\\\n\t No  & No  & No  & No  & No  & No & No  & Yes & Yes & No  & No  & Yes & No  & No \\\\\n\t No  & No  & No  & No  & No  & No & No  & No  & No  & No  & No  & No  & Yes & No \\\\\n\t No  & No  & Yes & No  & No  & No & Yes & No  & Yes & Yes & No  & Yes & No  & No \\\\\n\t No  & No  & No  & No  & No  & No & No  & No  & No  & No  & No  & No  & Yes & No \\\\\n\t No  & No  & Yes & Yes & No  & No & Yes & Yes & No  & No  & No  & No  & No  & No \\\\\n\t No  & No  & Yes & Yes & No  & No & No  & No  & No  & No  & No  & No  & No  & No \\\\\n\t No  & Yes & No  & No  & No  & No & No  & Yes & No  & No  & No  & Yes & No  & No \\\\\n\t No  & No  & No  & No  & Yes & No & No  & No  & No  & No  & No  & No  & No  & Yes\\\\\n\t Yes & Yes & No  & No  & Yes & No & No  & No  & Yes & No  & Yes & Yes & No  & No \\\\\n\t No  & No  & Yes & No  & No  & No & No  & Yes & Yes & Yes & Yes & No  & Yes & No \\\\\n\t No  & No  & No  & No  & No  & No & No  & No  & No  & No  & Yes & Yes & No  & No \\\\\n\t No  & No  & No  & No  & No  & No & No  & No  & Yes & Yes & Yes & Yes & No  & No \\\\\n\t Yes & No  & Yes & No  & No  & No & No  & No  & Yes & Yes & No  & No  & No  & Yes\\\\\n\t No  & No  & No  & No  & No  & No & No  & No  & No  & No  & No  & No  & Yes & Yes\\\\\n\t No  & No  & No  & No  & No  & No & No  & No  & No  & No  & No  & No  & Yes & No \\\\\n\t No  & No  & No  & No  & Yes & No & No  & Yes & Yes & Yes & Yes & No  & No  & Yes\\\\\n\t No  & Yes & No  & No  & No  & No & No  & No  & Yes & Yes & Yes & Yes & No  & No \\\\\n\t No  & No  & No  & No  & No  & No & No  & No  & No  & No  & No  & No  & No  & No \\\\\n\t No  & No  & No  & No  & No  & No & No  & No  & No  & No  & Yes & Yes & No  & No \\\\\n\t No  & Yes & Yes & Yes & Yes & No & No  & Yes & No  & No  & Yes & No  & Yes & Yes\\\\\n\t Yes & Yes & No  & No  & Yes & No & No  & No  & Yes & Yes & No  & No  & Yes & Yes\\\\\n\t No  & No  & No  & No  & Yes & No & Yes & Yes & No  & Yes & No  & No  & No  & Yes\\\\\n\\end{tabular}\n",
            "text/markdown": "\nA data.frame: 1000 × 14\n\n| Bag &lt;fct&gt; | Blush &lt;fct&gt; | Nail.Polish &lt;fct&gt; | Brushes &lt;fct&gt; | Concealer &lt;fct&gt; | Eyebrow.Pencils &lt;fct&gt; | Bronzer &lt;fct&gt; | Lip.liner &lt;fct&gt; | Mascara &lt;fct&gt; | Eye.shadow &lt;fct&gt; | Foundation &lt;fct&gt; | Lip.Gloss &lt;fct&gt; | Lipstick &lt;fct&gt; | Eyeliner &lt;fct&gt; |\n|---|---|---|---|---|---|---|---|---|---|---|---|---|---|\n| No  | Yes | Yes | Yes | Yes | No  | Yes | Yes | Yes | No  | No  | No  | No  | Yes |\n| No  | No  | Yes | No  | Yes | No  | Yes | Yes | No  | No  | Yes | Yes | No  | No  |\n| No  | Yes | No  | No  | Yes | Yes | Yes | Yes | Yes | Yes | Yes | Yes | Yes | No  |\n| No  | No  | Yes | Yes | Yes | No  | Yes | No  | No  | No  | Yes | No  | No  | Yes |\n| No  | Yes | No  | No  | Yes | No  | Yes | Yes | Yes | Yes | No  | Yes | Yes | No  |\n| No  | No  | No  | No  | Yes | No  | No  | No  | No  | No  | No  | No  | No  | Yes |\n| No  | Yes | Yes | Yes | Yes | No  | Yes | Yes | Yes | Yes | Yes | Yes | No  | No  |\n| No  | No  | Yes | Yes | No  | No  | Yes | No  | Yes | Yes | No  | Yes | No  | No  |\n| No  | No  | No  | No  | Yes | No  | No  | No  | No  | No  | Yes | No  | Yes | No  |\n| Yes | Yes | Yes | Yes | No  | No  | No  | No  | Yes | Yes | No  | No  | No  | No  |\n| No  | No  | Yes | No  | No  | No  | Yes | No  | No  | No  | No  | Yes | Yes | Yes |\n| No  | No  | Yes | Yes | Yes | No  | Yes | No  | Yes | Yes | Yes | No  | No  | No  |\n| No  | Yes | No  | No  | Yes | No  | No  | Yes | Yes | Yes | No  | Yes | No  | No  |\n| No  | Yes | Yes | Yes | Yes | No  | Yes | Yes | Yes | Yes | Yes | Yes | Yes | No  |\n| No  | Yes | No  | No  | Yes | No  | Yes | Yes | Yes | Yes | Yes | Yes | Yes | Yes |\n| No  | No  | Yes | Yes | Yes | No  | Yes | Yes | Yes | Yes | Yes | Yes | Yes | Yes |\n| Yes | Yes | Yes | Yes | Yes | No  | Yes | Yes | Yes | Yes | No  | No  | No  | Yes |\n| No  | No  | No  | No  | Yes | No  | No  | No  | No  | No  | Yes | Yes | Yes | Yes |\n| No  | Yes | Yes | No  | Yes | Yes | No  | No  | Yes | Yes | No  | No  | Yes | No  |\n| No  | Yes | No  | No  | Yes | No  | Yes | No  | Yes | No  | Yes | No  | Yes | Yes |\n| No  | Yes | No  | No  | Yes | Yes | Yes | Yes | Yes | Yes | Yes | Yes | Yes | Yes |\n| No  | No  | No  | No  | No  | No  | No  | No  | No  | No  | Yes | Yes | Yes | No  |\n| No  | Yes | No  | No  | Yes | No  | Yes | Yes | No  | No  | No  | No  | No  | No  |\n| No  | No  | No  | No  | No  | No  | Yes | No  | Yes | Yes | Yes | No  | Yes | No  |\n| No  | Yes | No  | No  | No  | No  | Yes | Yes | No  | No  | No  | No  | Yes | Yes |\n| No  | No  | No  | No  | No  | No  | Yes | No  | No  | No  | No  | Yes | Yes | No  |\n| No  | No  | Yes | No  | Yes | No  | No  | No  | Yes | No  | Yes | Yes | Yes | Yes |\n| Yes | Yes | Yes | Yes | Yes | No  | Yes | Yes | Yes | Yes | Yes | Yes | Yes | Yes |\n| No  | No  | Yes | Yes | No  | No  | Yes | Yes | No  | Yes | No  | No  | Yes | No  |\n| No  | Yes | Yes | Yes | Yes | No  | Yes | No  | Yes | Yes | Yes | No  | Yes | Yes |\n| ⋮ | ⋮ | ⋮ | ⋮ | ⋮ | ⋮ | ⋮ | ⋮ | ⋮ | ⋮ | ⋮ | ⋮ | ⋮ | ⋮ |\n| No  | No  | No  | No  | No  | No | No  | No  | No  | No  | No  | No  | No  | No  |\n| No  | No  | No  | No  | No  | No | No  | No  | No  | No  | Yes | No  | No  | Yes |\n| No  | No  | No  | No  | No  | No | No  | No  | No  | No  | No  | No  | No  | Yes |\n| No  | No  | No  | No  | No  | No | No  | No  | No  | No  | Yes | Yes | No  | No  |\n| No  | No  | No  | No  | No  | No | No  | Yes | No  | Yes | No  | Yes | No  | Yes |\n| No  | Yes | No  | No  | No  | No | No  | No  | No  | No  | Yes | Yes | No  | No  |\n| No  | No  | Yes | Yes | No  | No | No  | No  | Yes | Yes | No  | No  | No  | Yes |\n| No  | No  | No  | No  | No  | No | No  | No  | No  | No  | Yes | Yes | No  | No  |\n| No  | No  | No  | No  | No  | No | No  | Yes | Yes | No  | No  | Yes | No  | No  |\n| No  | No  | No  | No  | No  | No | No  | No  | No  | No  | No  | No  | Yes | No  |\n| No  | No  | Yes | No  | No  | No | Yes | No  | Yes | Yes | No  | Yes | No  | No  |\n| No  | No  | No  | No  | No  | No | No  | No  | No  | No  | No  | No  | Yes | No  |\n| No  | No  | Yes | Yes | No  | No | Yes | Yes | No  | No  | No  | No  | No  | No  |\n| No  | No  | Yes | Yes | No  | No | No  | No  | No  | No  | No  | No  | No  | No  |\n| No  | Yes | No  | No  | No  | No | No  | Yes | No  | No  | No  | Yes | No  | No  |\n| No  | No  | No  | No  | Yes | No | No  | No  | No  | No  | No  | No  | No  | Yes |\n| Yes | Yes | No  | No  | Yes | No | No  | No  | Yes | No  | Yes | Yes | No  | No  |\n| No  | No  | Yes | No  | No  | No | No  | Yes | Yes | Yes | Yes | No  | Yes | No  |\n| No  | No  | No  | No  | No  | No | No  | No  | No  | No  | Yes | Yes | No  | No  |\n| No  | No  | No  | No  | No  | No | No  | No  | Yes | Yes | Yes | Yes | No  | No  |\n| Yes | No  | Yes | No  | No  | No | No  | No  | Yes | Yes | No  | No  | No  | Yes |\n| No  | No  | No  | No  | No  | No | No  | No  | No  | No  | No  | No  | Yes | Yes |\n| No  | No  | No  | No  | No  | No | No  | No  | No  | No  | No  | No  | Yes | No  |\n| No  | No  | No  | No  | Yes | No | No  | Yes | Yes | Yes | Yes | No  | No  | Yes |\n| No  | Yes | No  | No  | No  | No | No  | No  | Yes | Yes | Yes | Yes | No  | No  |\n| No  | No  | No  | No  | No  | No | No  | No  | No  | No  | No  | No  | No  | No  |\n| No  | No  | No  | No  | No  | No | No  | No  | No  | No  | Yes | Yes | No  | No  |\n| No  | Yes | Yes | Yes | Yes | No | No  | Yes | No  | No  | Yes | No  | Yes | Yes |\n| Yes | Yes | No  | No  | Yes | No | No  | No  | Yes | Yes | No  | No  | Yes | Yes |\n| No  | No  | No  | No  | Yes | No | Yes | Yes | No  | Yes | No  | No  | No  | Yes |\n\n",
            "text/html": [
              "<table class=\"dataframe\">\n",
              "<caption>A data.frame: 1000 × 14</caption>\n",
              "<thead>\n",
              "\t<tr><th scope=col>Bag</th><th scope=col>Blush</th><th scope=col>Nail.Polish</th><th scope=col>Brushes</th><th scope=col>Concealer</th><th scope=col>Eyebrow.Pencils</th><th scope=col>Bronzer</th><th scope=col>Lip.liner</th><th scope=col>Mascara</th><th scope=col>Eye.shadow</th><th scope=col>Foundation</th><th scope=col>Lip.Gloss</th><th scope=col>Lipstick</th><th scope=col>Eyeliner</th></tr>\n",
              "\t<tr><th scope=col>&lt;fct&gt;</th><th scope=col>&lt;fct&gt;</th><th scope=col>&lt;fct&gt;</th><th scope=col>&lt;fct&gt;</th><th scope=col>&lt;fct&gt;</th><th scope=col>&lt;fct&gt;</th><th scope=col>&lt;fct&gt;</th><th scope=col>&lt;fct&gt;</th><th scope=col>&lt;fct&gt;</th><th scope=col>&lt;fct&gt;</th><th scope=col>&lt;fct&gt;</th><th scope=col>&lt;fct&gt;</th><th scope=col>&lt;fct&gt;</th><th scope=col>&lt;fct&gt;</th></tr>\n",
              "</thead>\n",
              "<tbody>\n",
              "\t<tr><td>No </td><td>Yes</td><td>Yes</td><td>Yes</td><td>Yes</td><td>No </td><td>Yes</td><td>Yes</td><td>Yes</td><td>No </td><td>No </td><td>No </td><td>No </td><td>Yes</td></tr>\n",
              "\t<tr><td>No </td><td>No </td><td>Yes</td><td>No </td><td>Yes</td><td>No </td><td>Yes</td><td>Yes</td><td>No </td><td>No </td><td>Yes</td><td>Yes</td><td>No </td><td>No </td></tr>\n",
              "\t<tr><td>No </td><td>Yes</td><td>No </td><td>No </td><td>Yes</td><td>Yes</td><td>Yes</td><td>Yes</td><td>Yes</td><td>Yes</td><td>Yes</td><td>Yes</td><td>Yes</td><td>No </td></tr>\n",
              "\t<tr><td>No </td><td>No </td><td>Yes</td><td>Yes</td><td>Yes</td><td>No </td><td>Yes</td><td>No </td><td>No </td><td>No </td><td>Yes</td><td>No </td><td>No </td><td>Yes</td></tr>\n",
              "\t<tr><td>No </td><td>Yes</td><td>No </td><td>No </td><td>Yes</td><td>No </td><td>Yes</td><td>Yes</td><td>Yes</td><td>Yes</td><td>No </td><td>Yes</td><td>Yes</td><td>No </td></tr>\n",
              "\t<tr><td>No </td><td>No </td><td>No </td><td>No </td><td>Yes</td><td>No </td><td>No </td><td>No </td><td>No </td><td>No </td><td>No </td><td>No </td><td>No </td><td>Yes</td></tr>\n",
              "\t<tr><td>No </td><td>Yes</td><td>Yes</td><td>Yes</td><td>Yes</td><td>No </td><td>Yes</td><td>Yes</td><td>Yes</td><td>Yes</td><td>Yes</td><td>Yes</td><td>No </td><td>No </td></tr>\n",
              "\t<tr><td>No </td><td>No </td><td>Yes</td><td>Yes</td><td>No </td><td>No </td><td>Yes</td><td>No </td><td>Yes</td><td>Yes</td><td>No </td><td>Yes</td><td>No </td><td>No </td></tr>\n",
              "\t<tr><td>No </td><td>No </td><td>No </td><td>No </td><td>Yes</td><td>No </td><td>No </td><td>No </td><td>No </td><td>No </td><td>Yes</td><td>No </td><td>Yes</td><td>No </td></tr>\n",
              "\t<tr><td>Yes</td><td>Yes</td><td>Yes</td><td>Yes</td><td>No </td><td>No </td><td>No </td><td>No </td><td>Yes</td><td>Yes</td><td>No </td><td>No </td><td>No </td><td>No </td></tr>\n",
              "\t<tr><td>No </td><td>No </td><td>Yes</td><td>No </td><td>No </td><td>No </td><td>Yes</td><td>No </td><td>No </td><td>No </td><td>No </td><td>Yes</td><td>Yes</td><td>Yes</td></tr>\n",
              "\t<tr><td>No </td><td>No </td><td>Yes</td><td>Yes</td><td>Yes</td><td>No </td><td>Yes</td><td>No </td><td>Yes</td><td>Yes</td><td>Yes</td><td>No </td><td>No </td><td>No </td></tr>\n",
              "\t<tr><td>No </td><td>Yes</td><td>No </td><td>No </td><td>Yes</td><td>No </td><td>No </td><td>Yes</td><td>Yes</td><td>Yes</td><td>No </td><td>Yes</td><td>No </td><td>No </td></tr>\n",
              "\t<tr><td>No </td><td>Yes</td><td>Yes</td><td>Yes</td><td>Yes</td><td>No </td><td>Yes</td><td>Yes</td><td>Yes</td><td>Yes</td><td>Yes</td><td>Yes</td><td>Yes</td><td>No </td></tr>\n",
              "\t<tr><td>No </td><td>Yes</td><td>No </td><td>No </td><td>Yes</td><td>No </td><td>Yes</td><td>Yes</td><td>Yes</td><td>Yes</td><td>Yes</td><td>Yes</td><td>Yes</td><td>Yes</td></tr>\n",
              "\t<tr><td>No </td><td>No </td><td>Yes</td><td>Yes</td><td>Yes</td><td>No </td><td>Yes</td><td>Yes</td><td>Yes</td><td>Yes</td><td>Yes</td><td>Yes</td><td>Yes</td><td>Yes</td></tr>\n",
              "\t<tr><td>Yes</td><td>Yes</td><td>Yes</td><td>Yes</td><td>Yes</td><td>No </td><td>Yes</td><td>Yes</td><td>Yes</td><td>Yes</td><td>No </td><td>No </td><td>No </td><td>Yes</td></tr>\n",
              "\t<tr><td>No </td><td>No </td><td>No </td><td>No </td><td>Yes</td><td>No </td><td>No </td><td>No </td><td>No </td><td>No </td><td>Yes</td><td>Yes</td><td>Yes</td><td>Yes</td></tr>\n",
              "\t<tr><td>No </td><td>Yes</td><td>Yes</td><td>No </td><td>Yes</td><td>Yes</td><td>No </td><td>No </td><td>Yes</td><td>Yes</td><td>No </td><td>No </td><td>Yes</td><td>No </td></tr>\n",
              "\t<tr><td>No </td><td>Yes</td><td>No </td><td>No </td><td>Yes</td><td>No </td><td>Yes</td><td>No </td><td>Yes</td><td>No </td><td>Yes</td><td>No </td><td>Yes</td><td>Yes</td></tr>\n",
              "\t<tr><td>No </td><td>Yes</td><td>No </td><td>No </td><td>Yes</td><td>Yes</td><td>Yes</td><td>Yes</td><td>Yes</td><td>Yes</td><td>Yes</td><td>Yes</td><td>Yes</td><td>Yes</td></tr>\n",
              "\t<tr><td>No </td><td>No </td><td>No </td><td>No </td><td>No </td><td>No </td><td>No </td><td>No </td><td>No </td><td>No </td><td>Yes</td><td>Yes</td><td>Yes</td><td>No </td></tr>\n",
              "\t<tr><td>No </td><td>Yes</td><td>No </td><td>No </td><td>Yes</td><td>No </td><td>Yes</td><td>Yes</td><td>No </td><td>No </td><td>No </td><td>No </td><td>No </td><td>No </td></tr>\n",
              "\t<tr><td>No </td><td>No </td><td>No </td><td>No </td><td>No </td><td>No </td><td>Yes</td><td>No </td><td>Yes</td><td>Yes</td><td>Yes</td><td>No </td><td>Yes</td><td>No </td></tr>\n",
              "\t<tr><td>No </td><td>Yes</td><td>No </td><td>No </td><td>No </td><td>No </td><td>Yes</td><td>Yes</td><td>No </td><td>No </td><td>No </td><td>No </td><td>Yes</td><td>Yes</td></tr>\n",
              "\t<tr><td>No </td><td>No </td><td>No </td><td>No </td><td>No </td><td>No </td><td>Yes</td><td>No </td><td>No </td><td>No </td><td>No </td><td>Yes</td><td>Yes</td><td>No </td></tr>\n",
              "\t<tr><td>No </td><td>No </td><td>Yes</td><td>No </td><td>Yes</td><td>No </td><td>No </td><td>No </td><td>Yes</td><td>No </td><td>Yes</td><td>Yes</td><td>Yes</td><td>Yes</td></tr>\n",
              "\t<tr><td>Yes</td><td>Yes</td><td>Yes</td><td>Yes</td><td>Yes</td><td>No </td><td>Yes</td><td>Yes</td><td>Yes</td><td>Yes</td><td>Yes</td><td>Yes</td><td>Yes</td><td>Yes</td></tr>\n",
              "\t<tr><td>No </td><td>No </td><td>Yes</td><td>Yes</td><td>No </td><td>No </td><td>Yes</td><td>Yes</td><td>No </td><td>Yes</td><td>No </td><td>No </td><td>Yes</td><td>No </td></tr>\n",
              "\t<tr><td>No </td><td>Yes</td><td>Yes</td><td>Yes</td><td>Yes</td><td>No </td><td>Yes</td><td>No </td><td>Yes</td><td>Yes</td><td>Yes</td><td>No </td><td>Yes</td><td>Yes</td></tr>\n",
              "\t<tr><td>⋮</td><td>⋮</td><td>⋮</td><td>⋮</td><td>⋮</td><td>⋮</td><td>⋮</td><td>⋮</td><td>⋮</td><td>⋮</td><td>⋮</td><td>⋮</td><td>⋮</td><td>⋮</td></tr>\n",
              "\t<tr><td>No </td><td>No </td><td>No </td><td>No </td><td>No </td><td>No</td><td>No </td><td>No </td><td>No </td><td>No </td><td>No </td><td>No </td><td>No </td><td>No </td></tr>\n",
              "\t<tr><td>No </td><td>No </td><td>No </td><td>No </td><td>No </td><td>No</td><td>No </td><td>No </td><td>No </td><td>No </td><td>Yes</td><td>No </td><td>No </td><td>Yes</td></tr>\n",
              "\t<tr><td>No </td><td>No </td><td>No </td><td>No </td><td>No </td><td>No</td><td>No </td><td>No </td><td>No </td><td>No </td><td>No </td><td>No </td><td>No </td><td>Yes</td></tr>\n",
              "\t<tr><td>No </td><td>No </td><td>No </td><td>No </td><td>No </td><td>No</td><td>No </td><td>No </td><td>No </td><td>No </td><td>Yes</td><td>Yes</td><td>No </td><td>No </td></tr>\n",
              "\t<tr><td>No </td><td>No </td><td>No </td><td>No </td><td>No </td><td>No</td><td>No </td><td>Yes</td><td>No </td><td>Yes</td><td>No </td><td>Yes</td><td>No </td><td>Yes</td></tr>\n",
              "\t<tr><td>No </td><td>Yes</td><td>No </td><td>No </td><td>No </td><td>No</td><td>No </td><td>No </td><td>No </td><td>No </td><td>Yes</td><td>Yes</td><td>No </td><td>No </td></tr>\n",
              "\t<tr><td>No </td><td>No </td><td>Yes</td><td>Yes</td><td>No </td><td>No</td><td>No </td><td>No </td><td>Yes</td><td>Yes</td><td>No </td><td>No </td><td>No </td><td>Yes</td></tr>\n",
              "\t<tr><td>No </td><td>No </td><td>No </td><td>No </td><td>No </td><td>No</td><td>No </td><td>No </td><td>No </td><td>No </td><td>Yes</td><td>Yes</td><td>No </td><td>No </td></tr>\n",
              "\t<tr><td>No </td><td>No </td><td>No </td><td>No </td><td>No </td><td>No</td><td>No </td><td>Yes</td><td>Yes</td><td>No </td><td>No </td><td>Yes</td><td>No </td><td>No </td></tr>\n",
              "\t<tr><td>No </td><td>No </td><td>No </td><td>No </td><td>No </td><td>No</td><td>No </td><td>No </td><td>No </td><td>No </td><td>No </td><td>No </td><td>Yes</td><td>No </td></tr>\n",
              "\t<tr><td>No </td><td>No </td><td>Yes</td><td>No </td><td>No </td><td>No</td><td>Yes</td><td>No </td><td>Yes</td><td>Yes</td><td>No </td><td>Yes</td><td>No </td><td>No </td></tr>\n",
              "\t<tr><td>No </td><td>No </td><td>No </td><td>No </td><td>No </td><td>No</td><td>No </td><td>No </td><td>No </td><td>No </td><td>No </td><td>No </td><td>Yes</td><td>No </td></tr>\n",
              "\t<tr><td>No </td><td>No </td><td>Yes</td><td>Yes</td><td>No </td><td>No</td><td>Yes</td><td>Yes</td><td>No </td><td>No </td><td>No </td><td>No </td><td>No </td><td>No </td></tr>\n",
              "\t<tr><td>No </td><td>No </td><td>Yes</td><td>Yes</td><td>No </td><td>No</td><td>No </td><td>No </td><td>No </td><td>No </td><td>No </td><td>No </td><td>No </td><td>No </td></tr>\n",
              "\t<tr><td>No </td><td>Yes</td><td>No </td><td>No </td><td>No </td><td>No</td><td>No </td><td>Yes</td><td>No </td><td>No </td><td>No </td><td>Yes</td><td>No </td><td>No </td></tr>\n",
              "\t<tr><td>No </td><td>No </td><td>No </td><td>No </td><td>Yes</td><td>No</td><td>No </td><td>No </td><td>No </td><td>No </td><td>No </td><td>No </td><td>No </td><td>Yes</td></tr>\n",
              "\t<tr><td>Yes</td><td>Yes</td><td>No </td><td>No </td><td>Yes</td><td>No</td><td>No </td><td>No </td><td>Yes</td><td>No </td><td>Yes</td><td>Yes</td><td>No </td><td>No </td></tr>\n",
              "\t<tr><td>No </td><td>No </td><td>Yes</td><td>No </td><td>No </td><td>No</td><td>No </td><td>Yes</td><td>Yes</td><td>Yes</td><td>Yes</td><td>No </td><td>Yes</td><td>No </td></tr>\n",
              "\t<tr><td>No </td><td>No </td><td>No </td><td>No </td><td>No </td><td>No</td><td>No </td><td>No </td><td>No </td><td>No </td><td>Yes</td><td>Yes</td><td>No </td><td>No </td></tr>\n",
              "\t<tr><td>No </td><td>No </td><td>No </td><td>No </td><td>No </td><td>No</td><td>No </td><td>No </td><td>Yes</td><td>Yes</td><td>Yes</td><td>Yes</td><td>No </td><td>No </td></tr>\n",
              "\t<tr><td>Yes</td><td>No </td><td>Yes</td><td>No </td><td>No </td><td>No</td><td>No </td><td>No </td><td>Yes</td><td>Yes</td><td>No </td><td>No </td><td>No </td><td>Yes</td></tr>\n",
              "\t<tr><td>No </td><td>No </td><td>No </td><td>No </td><td>No </td><td>No</td><td>No </td><td>No </td><td>No </td><td>No </td><td>No </td><td>No </td><td>Yes</td><td>Yes</td></tr>\n",
              "\t<tr><td>No </td><td>No </td><td>No </td><td>No </td><td>No </td><td>No</td><td>No </td><td>No </td><td>No </td><td>No </td><td>No </td><td>No </td><td>Yes</td><td>No </td></tr>\n",
              "\t<tr><td>No </td><td>No </td><td>No </td><td>No </td><td>Yes</td><td>No</td><td>No </td><td>Yes</td><td>Yes</td><td>Yes</td><td>Yes</td><td>No </td><td>No </td><td>Yes</td></tr>\n",
              "\t<tr><td>No </td><td>Yes</td><td>No </td><td>No </td><td>No </td><td>No</td><td>No </td><td>No </td><td>Yes</td><td>Yes</td><td>Yes</td><td>Yes</td><td>No </td><td>No </td></tr>\n",
              "\t<tr><td>No </td><td>No </td><td>No </td><td>No </td><td>No </td><td>No</td><td>No </td><td>No </td><td>No </td><td>No </td><td>No </td><td>No </td><td>No </td><td>No </td></tr>\n",
              "\t<tr><td>No </td><td>No </td><td>No </td><td>No </td><td>No </td><td>No</td><td>No </td><td>No </td><td>No </td><td>No </td><td>Yes</td><td>Yes</td><td>No </td><td>No </td></tr>\n",
              "\t<tr><td>No </td><td>Yes</td><td>Yes</td><td>Yes</td><td>Yes</td><td>No</td><td>No </td><td>Yes</td><td>No </td><td>No </td><td>Yes</td><td>No </td><td>Yes</td><td>Yes</td></tr>\n",
              "\t<tr><td>Yes</td><td>Yes</td><td>No </td><td>No </td><td>Yes</td><td>No</td><td>No </td><td>No </td><td>Yes</td><td>Yes</td><td>No </td><td>No </td><td>Yes</td><td>Yes</td></tr>\n",
              "\t<tr><td>No </td><td>No </td><td>No </td><td>No </td><td>Yes</td><td>No</td><td>Yes</td><td>Yes</td><td>No </td><td>Yes</td><td>No </td><td>No </td><td>No </td><td>Yes</td></tr>\n",
              "</tbody>\n",
              "</table>\n"
            ]
          },
          "metadata": {}
        }
      ]
    },
    {
      "cell_type": "code",
      "metadata": {
        "colab": {
          "base_uri": "https://localhost:8080/"
        },
        "id": "NClhWo7F9ol0",
        "outputId": "12a1ec77-cb81-4dc2-ea28-60d5412c8306"
      },
      "source": [
        "Rule_cosmetic = apriori( cosmetic_data,\n",
        "                         parameter = list( support = 0.25,\n",
        "                                           confidence = 0.7))"
      ],
      "execution_count": 45,
      "outputs": [
        {
          "output_type": "stream",
          "name": "stdout",
          "text": [
            "Apriori\n",
            "\n",
            "Parameter specification:\n",
            " confidence minval smax arem  aval originalSupport maxtime support minlen\n",
            "        0.7    0.1    1 none FALSE            TRUE       5    0.25      1\n",
            " maxlen target  ext\n",
            "     10  rules TRUE\n",
            "\n",
            "Algorithmic control:\n",
            " filter tree heap memopt load sort verbose\n",
            "    0.1 TRUE TRUE  FALSE TRUE    2    TRUE\n",
            "\n",
            "Absolute minimum support count: 250 \n",
            "\n",
            "set item appearances ...[0 item(s)] done [0.00s].\n",
            "set transactions ...[28 item(s), 1000 transaction(s)] done [0.00s].\n",
            "sorting and recoding items ... [24 item(s)] done [0.00s].\n",
            "creating transaction tree ... done [0.00s].\n",
            "checking subsets of size 1 2 3 4 5 6 7 8 done [0.01s].\n",
            "writing ... [7483 rule(s)] done [0.00s].\n",
            "creating S4 object  ... done [0.00s].\n"
          ]
        }
      ]
    },
    {
      "cell_type": "markdown",
      "metadata": {
        "id": "qH9WIbFWC7W0"
      },
      "source": [
        "for bakery"
      ]
    },
    {
      "cell_type": "code",
      "metadata": {
        "colab": {
          "base_uri": "https://localhost:8080/"
        },
        "id": "rdQa7kW6C84r",
        "outputId": "d892ab71-de29-472b-ceac-e5078a35b255"
      },
      "source": [
        "Rule_bakery = apriori( mydata,\n",
        "                         parameter = list( support = 0.25,\n",
        "                                           confidence = 0.7))"
      ],
      "execution_count": 66,
      "outputs": [
        {
          "output_type": "stream",
          "name": "stderr",
          "text": [
            "Warning message:\n",
            "“Column(s) 1, 2, 3, 4, 5, 6 not logical or factor. Applying default discretization (see '? discretizeDF').”\n"
          ]
        },
        {
          "output_type": "stream",
          "name": "stdout",
          "text": [
            "Apriori\n",
            "\n",
            "Parameter specification:\n",
            " confidence minval smax arem  aval originalSupport maxtime support minlen\n",
            "        0.7    0.1    1 none FALSE            TRUE       5    0.25      1\n",
            " maxlen target  ext\n",
            "     10  rules TRUE\n",
            "\n",
            "Algorithmic control:\n",
            " filter tree heap memopt load sort verbose\n",
            "    0.1 TRUE TRUE  FALSE TRUE    2    TRUE\n",
            "\n",
            "Absolute minimum support count: 1 \n",
            "\n",
            "set item appearances ...[0 item(s)] done [0.00s].\n",
            "set transactions ...[12 item(s), 5 transaction(s)] done [0.00s].\n",
            "sorting and recoding items ... [9 item(s)] done [0.00s].\n",
            "creating transaction tree ... done [0.00s].\n",
            "checking subsets of size 1 2 3 4 5 done [0.00s].\n",
            "writing ... [130 rule(s)] done [0.00s].\n",
            "creating S4 object  ... done [0.00s].\n"
          ]
        }
      ]
    },
    {
      "cell_type": "code",
      "metadata": {
        "colab": {
          "base_uri": "https://localhost:8080/",
          "height": 35
        },
        "id": "ckgl5AfQ-jYJ",
        "outputId": "af57d426-f45f-435c-fb0b-b8adecbd5ffd"
      },
      "source": [
        "Rule_cosmetic"
      ],
      "execution_count": 47,
      "outputs": [
        {
          "output_type": "display_data",
          "data": {
            "text/plain": [
              "set of 7483 rules "
            ]
          },
          "metadata": {}
        }
      ]
    },
    {
      "cell_type": "code",
      "metadata": {
        "colab": {
          "base_uri": "https://localhost:8080/",
          "height": 35
        },
        "id": "9Q43cLs9DLMY",
        "outputId": "2d29e3d6-febe-41f0-9718-91388376c741"
      },
      "source": [
        "Rule_bakery"
      ],
      "execution_count": 67,
      "outputs": [
        {
          "output_type": "display_data",
          "data": {
            "text/plain": [
              "set of 130 rules "
            ]
          },
          "metadata": {}
        }
      ]
    },
    {
      "cell_type": "markdown",
      "metadata": {
        "id": "JBfoYcuc_DJB"
      },
      "source": [
        "get rules with lift < 1 in cosmetics data"
      ]
    },
    {
      "cell_type": "code",
      "metadata": {
        "colab": {
          "base_uri": "https://localhost:8080/",
          "height": 35
        },
        "id": "rhTc2cii-sjw",
        "outputId": "449cedcb-bf6e-43df-e300-532529f2e514"
      },
      "source": [
        "Rule_cosmetic[ \"lift\" < 1]"
      ],
      "execution_count": 55,
      "outputs": [
        {
          "output_type": "display_data",
          "data": {
            "text/plain": [
              "set of 0 rules "
            ]
          },
          "metadata": {}
        }
      ]
    },
    {
      "cell_type": "markdown",
      "metadata": {
        "id": "ddGrtd2AAnVR"
      },
      "source": [
        "get rules with lift < 1 in bakery data"
      ]
    },
    {
      "cell_type": "code",
      "metadata": {
        "colab": {
          "base_uri": "https://localhost:8080/",
          "height": 35
        },
        "id": "_7T-JwsW_Vep",
        "outputId": "28406285-5b4e-4923-c6a2-f7e4d5bb7bc9"
      },
      "source": [
        "Rule_bakery[ \"lift\" < 1]"
      ],
      "execution_count": 68,
      "outputs": [
        {
          "output_type": "display_data",
          "data": {
            "text/plain": [
              "set of 0 rules "
            ]
          },
          "metadata": {}
        }
      ]
    },
    {
      "cell_type": "markdown",
      "metadata": {
        "id": "z7uVT99SAukG"
      },
      "source": [
        "lets examine the rules. "
      ]
    },
    {
      "cell_type": "markdown",
      "metadata": {
        "id": "1Azf04pkCUiY"
      },
      "source": [
        "in Cosmetic"
      ]
    },
    {
      "cell_type": "code",
      "metadata": {
        "colab": {
          "base_uri": "https://localhost:8080/"
        },
        "id": "DMwcMUQdA_5j",
        "outputId": "7a72f229-6d83-4767-bbb7-b2f9e6e83a05"
      },
      "source": [
        "Rule_cosmetic.sorted <- sort(Rule_cosmetic, by = \"lift\", decreasing = TRUE )\n",
        "inspect( head(Rule_cosmetic.sorted) )"
      ],
      "execution_count": 63,
      "outputs": [
        {
          "output_type": "stream",
          "name": "stdout",
          "text": [
            "    lhs                     rhs              support confidence coverage     lift count\n",
            "[1] {Bag=No,                                                                           \n",
            "     Mascara=Yes}        => {Eye.shadow=Yes}   0.290  0.9090909    0.319 2.386065   290\n",
            "[2] {Bag=No,                                                                           \n",
            "     Eyebrow.Pencils=No,                                                               \n",
            "     Mascara=Yes}        => {Eye.shadow=Yes}   0.270  0.9030100    0.299 2.370105   270\n",
            "[3] {Mascara=Yes}        => {Eye.shadow=Yes}   0.321  0.8991597    0.357 2.359999   321\n",
            "[4] {Eye.shadow=Yes}     => {Mascara=Yes}      0.321  0.8425197    0.381 2.359999   321\n",
            "[5] {Eyebrow.Pencils=No,                                                               \n",
            "     Eye.shadow=Yes}     => {Mascara=Yes}      0.298  0.8370787    0.356 2.344758   298\n",
            "[6] {Eyebrow.Pencils=No,                                                               \n",
            "     Mascara=Yes}        => {Eye.shadow=Yes}   0.298  0.8922156    0.334 2.341773   298\n"
          ]
        }
      ]
    },
    {
      "cell_type": "markdown",
      "metadata": {
        "id": "yRRc-Fp8CIYU"
      },
      "source": [
        "get rules with lift > 1 in bakery data and examine them"
      ]
    },
    {
      "cell_type": "code",
      "metadata": {
        "colab": {
          "base_uri": "https://localhost:8080/"
        },
        "id": "aVuZg5-7CMT8",
        "outputId": "1fa7c27d-1d8d-422b-b195-b41f6ce19a29"
      },
      "source": [
        "Rule_bakery.sorted <- sort(Rule_bakery, by = \"lift\", decreasing = TRUE )\n",
        "inspect( head(Rule_bakery.sorted) )"
      ],
      "execution_count": 69,
      "outputs": [
        {
          "output_type": "stream",
          "name": "stdout",
          "text": [
            "    lhs                       rhs         support confidence coverage lift\n",
            "[1] {Cheese=No}            => {Juice=No}  0.4     1          0.4      2.5 \n",
            "[2] {Juice=No}             => {Cheese=No} 0.4     1          0.4      2.5 \n",
            "[3] {Bread=Yes,Cheese=Yes} => {Milk=No}   0.4     1          0.4      2.5 \n",
            "[4] {Bread=Yes,Juice=Yes}  => {Milk=No}   0.4     1          0.4      2.5 \n",
            "[5] {Cheese=No,Milk=Yes}   => {Juice=No}  0.4     1          0.4      2.5 \n",
            "[6] {Juice=No,Milk=Yes}    => {Cheese=No} 0.4     1          0.4      2.5 \n",
            "    count\n",
            "[1] 2    \n",
            "[2] 2    \n",
            "[3] 2    \n",
            "[4] 2    \n",
            "[5] 2    \n",
            "[6] 2    \n"
          ]
        }
      ]
    },
    {
      "cell_type": "markdown",
      "metadata": {
        "id": "ETXAEuY5DhGi"
      },
      "source": [
        "so in cosmetics rules, get rules with good support and then with high confidence,\n",
        " first get ones with high confidence"
      ]
    },
    {
      "cell_type": "code",
      "metadata": {
        "colab": {
          "base_uri": "https://localhost:8080/"
        },
        "id": "UGERUxnHDvTn",
        "outputId": "ecc0af1f-e079-4705-c5a7-6bcb29c39df6"
      },
      "source": [
        "Rule_hiConf <- sort(Rule_cosmetic.sorted, by = \"confidence\", decreasing = TRUE )\n",
        "inspect( head(Rule_hiConf) )"
      ],
      "execution_count": 73,
      "outputs": [
        {
          "output_type": "stream",
          "name": "stdout",
          "text": [
            "    lhs                     rhs              support confidence coverage     lift count\n",
            "[1] {Bronzer=No,                                                                       \n",
            "     Lip.liner=No,                                                                     \n",
            "     Foundation=No}      => {Lip.Gloss=No}     0.253          1    0.253 1.960784   253\n",
            "[2] {Bronzer=No,                                                                       \n",
            "     Lip.liner=No,                                                                     \n",
            "     Lip.Gloss=Yes}      => {Foundation=Yes}   0.295          1    0.295 1.865672   295\n",
            "[3] {Brushes=No,                                                                       \n",
            "     Bronzer=No,                                                                       \n",
            "     Lip.liner=No,                                                                     \n",
            "     Lip.Gloss=Yes}      => {Foundation=Yes}   0.275          1    0.275 1.865672   275\n",
            "[4] {Bag=No,                                                                           \n",
            "     Bronzer=No,                                                                       \n",
            "     Lip.liner=No,                                                                     \n",
            "     Lip.Gloss=Yes}      => {Foundation=Yes}   0.282          1    0.282 1.865672   282\n",
            "[5] {Eyebrow.Pencils=No,                                                               \n",
            "     Bronzer=No,                                                                       \n",
            "     Lip.liner=No,                                                                     \n",
            "     Lip.Gloss=Yes}      => {Foundation=Yes}   0.288          1    0.288 1.865672   288\n",
            "[6] {Bag=No,                                                                           \n",
            "     Brushes=No,                                                                       \n",
            "     Bronzer=No,                                                                       \n",
            "     Lip.liner=No,                                                                     \n",
            "     Lip.Gloss=Yes}      => {Foundation=Yes}   0.265          1    0.265 1.865672   265\n"
          ]
        }
      ]
    },
    {
      "cell_type": "code",
      "metadata": {
        "colab": {
          "base_uri": "https://localhost:8080/",
          "height": 35
        },
        "id": "gd20axZ7EKoF",
        "outputId": "2200b7ef-8798-4479-fa58-38a2d227624f"
      },
      "source": [
        "Rule_hiConf"
      ],
      "execution_count": 71,
      "outputs": [
        {
          "output_type": "display_data",
          "data": {
            "text/plain": [
              "set of 7483 rules "
            ]
          },
          "metadata": {}
        }
      ]
    },
    {
      "cell_type": "markdown",
      "metadata": {
        "id": "lojkHAh-E4xH"
      },
      "source": [
        "on removing redundancy "
      ]
    },
    {
      "cell_type": "code",
      "metadata": {
        "colab": {
          "base_uri": "https://localhost:8080/",
          "height": 105
        },
        "id": "SC07cBqkErHX",
        "outputId": "d612b536-fd34-4be6-f125-b7d7efe49c7a"
      },
      "source": [
        "redundant <- is.redundant(Rule_bakery, measure=\"confidence\")\n",
        "which(redundant)\n",
        "Rule_bakery.pruned <- Rule_bakery[!redundant]\n",
        "Rule_bakery"
      ],
      "execution_count": 75,
      "outputs": [
        {
          "output_type": "display_data",
          "data": {
            "text/plain": [
              "  [1]  24  25  26  27  28  29  30  31  32  33  35  36  37  38  40  41  42  43\n",
              " [19]  44  45  46  47  48  49  50  51  52  53  54  56  57  58  59  60  61  63\n",
              " [37]  64  65  66  67  68  69  70  71  72  73  74  75  76  77  78  79  80  81\n",
              " [55]  82  83  84  85  86  87  88  89  90  91  92  93  94  95  96  97  98  99\n",
              " [73] 100 101 102 103 104 105 106 107 108 109 110 111 112 113 114 115 116 117\n",
              " [91] 118 119 120 121 122 123 124 125 126 127 128 129 130"
            ],
            "text/latex": "\\begin{enumerate*}\n\\item 24\n\\item 25\n\\item 26\n\\item 27\n\\item 28\n\\item 29\n\\item 30\n\\item 31\n\\item 32\n\\item 33\n\\item 35\n\\item 36\n\\item 37\n\\item 38\n\\item 40\n\\item 41\n\\item 42\n\\item 43\n\\item 44\n\\item 45\n\\item 46\n\\item 47\n\\item 48\n\\item 49\n\\item 50\n\\item 51\n\\item 52\n\\item 53\n\\item 54\n\\item 56\n\\item 57\n\\item 58\n\\item 59\n\\item 60\n\\item 61\n\\item 63\n\\item 64\n\\item 65\n\\item 66\n\\item 67\n\\item 68\n\\item 69\n\\item 70\n\\item 71\n\\item 72\n\\item 73\n\\item 74\n\\item 75\n\\item 76\n\\item 77\n\\item 78\n\\item 79\n\\item 80\n\\item 81\n\\item 82\n\\item 83\n\\item 84\n\\item 85\n\\item 86\n\\item 87\n\\item 88\n\\item 89\n\\item 90\n\\item 91\n\\item 92\n\\item 93\n\\item 94\n\\item 95\n\\item 96\n\\item 97\n\\item 98\n\\item 99\n\\item 100\n\\item 101\n\\item 102\n\\item 103\n\\item 104\n\\item 105\n\\item 106\n\\item 107\n\\item 108\n\\item 109\n\\item 110\n\\item 111\n\\item 112\n\\item 113\n\\item 114\n\\item 115\n\\item 116\n\\item 117\n\\item 118\n\\item 119\n\\item 120\n\\item 121\n\\item 122\n\\item 123\n\\item 124\n\\item 125\n\\item 126\n\\item 127\n\\item 128\n\\item 129\n\\item 130\n\\end{enumerate*}\n",
            "text/markdown": "1. 24\n2. 25\n3. 26\n4. 27\n5. 28\n6. 29\n7. 30\n8. 31\n9. 32\n10. 33\n11. 35\n12. 36\n13. 37\n14. 38\n15. 40\n16. 41\n17. 42\n18. 43\n19. 44\n20. 45\n21. 46\n22. 47\n23. 48\n24. 49\n25. 50\n26. 51\n27. 52\n28. 53\n29. 54\n30. 56\n31. 57\n32. 58\n33. 59\n34. 60\n35. 61\n36. 63\n37. 64\n38. 65\n39. 66\n40. 67\n41. 68\n42. 69\n43. 70\n44. 71\n45. 72\n46. 73\n47. 74\n48. 75\n49. 76\n50. 77\n51. 78\n52. 79\n53. 80\n54. 81\n55. 82\n56. 83\n57. 84\n58. 85\n59. 86\n60. 87\n61. 88\n62. 89\n63. 90\n64. 91\n65. 92\n66. 93\n67. 94\n68. 95\n69. 96\n70. 97\n71. 98\n72. 99\n73. 100\n74. 101\n75. 102\n76. 103\n77. 104\n78. 105\n79. 106\n80. 107\n81. 108\n82. 109\n83. 110\n84. 111\n85. 112\n86. 113\n87. 114\n88. 115\n89. 116\n90. 117\n91. 118\n92. 119\n93. 120\n94. 121\n95. 122\n96. 123\n97. 124\n98. 125\n99. 126\n100. 127\n101. 128\n102. 129\n103. 130\n\n\n",
            "text/html": [
              "<style>\n",
              ".list-inline {list-style: none; margin:0; padding: 0}\n",
              ".list-inline>li {display: inline-block}\n",
              ".list-inline>li:not(:last-child)::after {content: \"\\00b7\"; padding: 0 .5ex}\n",
              "</style>\n",
              "<ol class=list-inline><li>24</li><li>25</li><li>26</li><li>27</li><li>28</li><li>29</li><li>30</li><li>31</li><li>32</li><li>33</li><li>35</li><li>36</li><li>37</li><li>38</li><li>40</li><li>41</li><li>42</li><li>43</li><li>44</li><li>45</li><li>46</li><li>47</li><li>48</li><li>49</li><li>50</li><li>51</li><li>52</li><li>53</li><li>54</li><li>56</li><li>57</li><li>58</li><li>59</li><li>60</li><li>61</li><li>63</li><li>64</li><li>65</li><li>66</li><li>67</li><li>68</li><li>69</li><li>70</li><li>71</li><li>72</li><li>73</li><li>74</li><li>75</li><li>76</li><li>77</li><li>78</li><li>79</li><li>80</li><li>81</li><li>82</li><li>83</li><li>84</li><li>85</li><li>86</li><li>87</li><li>88</li><li>89</li><li>90</li><li>91</li><li>92</li><li>93</li><li>94</li><li>95</li><li>96</li><li>97</li><li>98</li><li>99</li><li>100</li><li>101</li><li>102</li><li>103</li><li>104</li><li>105</li><li>106</li><li>107</li><li>108</li><li>109</li><li>110</li><li>111</li><li>112</li><li>113</li><li>114</li><li>115</li><li>116</li><li>117</li><li>118</li><li>119</li><li>120</li><li>121</li><li>122</li><li>123</li><li>124</li><li>125</li><li>126</li><li>127</li><li>128</li><li>129</li><li>130</li></ol>\n"
            ]
          },
          "metadata": {}
        },
        {
          "output_type": "display_data",
          "data": {
            "text/plain": [
              "set of 130 rules "
            ]
          },
          "metadata": {}
        }
      ]
    },
    {
      "cell_type": "code",
      "metadata": {
        "colab": {
          "base_uri": "https://localhost:8080/"
        },
        "id": "vdZ9VVBrFBLT",
        "outputId": "03acad31-b735-4a80-ab74-e083919a2297"
      },
      "source": [
        "inspect( head(Rule_bakery))"
      ],
      "execution_count": 76,
      "outputs": [
        {
          "output_type": "stream",
          "name": "stdout",
          "text": [
            "    lhs          rhs          support confidence coverage lift     count\n",
            "[1] {}        => {Bread=Yes}  0.8     0.8        1.0      1.000000 4    \n",
            "[2] {}        => {Yogurt=No}  0.8     0.8        1.0      1.000000 4    \n",
            "[3] {}        => {Eggs=No}    0.8     0.8        1.0      1.000000 4    \n",
            "[4] {Milk=No} => {Cheese=Yes} 0.4     1.0        0.4      1.666667 2    \n",
            "[5] {Milk=No} => {Juice=Yes}  0.4     1.0        0.4      1.666667 2    \n",
            "[6] {Milk=No} => {Bread=Yes}  0.4     1.0        0.4      1.250000 2    \n"
          ]
        }
      ]
    },
    {
      "cell_type": "markdown",
      "metadata": {
        "id": "dCAZwtjJGPLl"
      },
      "source": [
        "lets get rules with more constraints"
      ]
    },
    {
      "cell_type": "code",
      "metadata": {
        "colab": {
          "base_uri": "https://localhost:8080/"
        },
        "id": "M07Y1rMoFVe2",
        "outputId": "d5f3a554-cfaa-4815-e53c-7d658d64089a"
      },
      "source": [
        "Rule_cosmetic <- apriori(cosmetic_data ,\n",
        "                         parameter = list(minlen=2, \n",
        "                                          maxlen=5,\n",
        "                                          supp=.1, \n",
        "                                          conf=.5),\n",
        "                         appearance=list(rhs=c(\"Foundation=Yes\"),\n",
        "                                         lhs=c(\"Bag=Yes\", \"Blush=Yes\",\n",
        "                                               \"Nail.Polish=Yes\", \"Brushes=Yes\", \n",
        "                                               \"Concealer=Yes\", \"Eyebrow.Pencils=Yes\",\n",
        "                                                \"Bronzer=Yes\", \"Lip.liner=Yes\", \"Mascara=Yes\", \n",
        "                                                \"Eye.shadow=Yes\",\"Lip.Gloss=Yes\", \n",
        "                                                \"Lipstick=Yes\", \"Eyeliner=Yes\"),\n",
        "                                         default=\"none\"))\n"
      ],
      "execution_count": 78,
      "outputs": [
        {
          "output_type": "stream",
          "name": "stdout",
          "text": [
            "Apriori\n",
            "\n",
            "Parameter specification:\n",
            " confidence minval smax arem  aval originalSupport maxtime support minlen\n",
            "        0.5    0.1    1 none FALSE            TRUE       5     0.1      2\n",
            " maxlen target  ext\n",
            "      5  rules TRUE\n",
            "\n",
            "Algorithmic control:\n",
            " filter tree heap memopt load sort verbose\n",
            "    0.1 TRUE TRUE  FALSE TRUE    2    TRUE\n",
            "\n",
            "Absolute minimum support count: 100 \n",
            "\n",
            "set item appearances ...[14 item(s)] done [0.00s].\n",
            "set transactions ...[14 item(s), 1000 transaction(s)] done [0.00s].\n",
            "sorting and recoding items ... [12 item(s)] done [0.00s].\n",
            "creating transaction tree ... done [0.00s].\n",
            "checking subsets of size 1 2 3 4 done [0.00s].\n",
            "writing ... [22 rule(s)] done [0.00s].\n",
            "creating S4 object  ... done [0.00s].\n"
          ]
        }
      ]
    },
    {
      "cell_type": "code",
      "metadata": {
        "colab": {
          "base_uri": "https://localhost:8080/"
        },
        "id": "vQfP3cpNG8aN",
        "outputId": "a5486e21-6db2-400c-a0e5-717ddd6ab400"
      },
      "source": [
        "Rule_cosmetic.sorted <- sort(Rule_cosmetic, by = \"lift\", decreasing = TRUE )\n",
        "inspect( head(Rule_cosmetic.sorted) )"
      ],
      "execution_count": 79,
      "outputs": [
        {
          "output_type": "stream",
          "name": "stdout",
          "text": [
            "    lhs                 rhs              support confidence coverage     lift count\n",
            "[1] {Lip.Gloss=Yes,                                                                \n",
            "     Lipstick=Yes}   => {Foundation=Yes}   0.116  0.7341772    0.158 1.369734   116\n",
            "[2] {Lip.Gloss=Yes}  => {Foundation=Yes}   0.356  0.7265306    0.490 1.355468   356\n",
            "[3] {Eye.shadow=Yes,                                                               \n",
            "     Lip.Gloss=Yes}  => {Foundation=Yes}   0.146  0.7263682    0.201 1.355164   146\n",
            "[4] {Mascara=Yes,                                                                  \n",
            "     Lip.Gloss=Yes}  => {Foundation=Yes}   0.130  0.7182320    0.181 1.339985   130\n",
            "[5] {Mascara=Yes,                                                                  \n",
            "     Eye.shadow=Yes,                                                               \n",
            "     Lip.Gloss=Yes}  => {Foundation=Yes}   0.111  0.7025316    0.158 1.310693   111\n",
            "[6] {Lip.Gloss=Yes,                                                                \n",
            "     Eyeliner=Yes}   => {Foundation=Yes}   0.156  0.6872247    0.227 1.282136   156\n"
          ]
        }
      ]
    },
    {
      "cell_type": "code",
      "metadata": {
        "colab": {
          "base_uri": "https://localhost:8080/",
          "height": 53
        },
        "id": "YqZKIEOqHHF8",
        "outputId": "083180bc-2156-44db-ac86-8fa49a2034b3"
      },
      "source": [
        "redundant <- is.redundant(Rule_cosmetic, measure=\"confidence\")\n",
        "which(redundant)\n",
        "Rule_cosmetic.pruned <- Rule_cosmetic[!redundant]\n",
        "Rule_cosmetic"
      ],
      "execution_count": 80,
      "outputs": [
        {
          "output_type": "display_data",
          "data": {
            "text/plain": [
              " [1] 11 12 13 14 15 16 17 18 19 20 21 22"
            ],
            "text/latex": "\\begin{enumerate*}\n\\item 11\n\\item 12\n\\item 13\n\\item 14\n\\item 15\n\\item 16\n\\item 17\n\\item 18\n\\item 19\n\\item 20\n\\item 21\n\\item 22\n\\end{enumerate*}\n",
            "text/markdown": "1. 11\n2. 12\n3. 13\n4. 14\n5. 15\n6. 16\n7. 17\n8. 18\n9. 19\n10. 20\n11. 21\n12. 22\n\n\n",
            "text/html": [
              "<style>\n",
              ".list-inline {list-style: none; margin:0; padding: 0}\n",
              ".list-inline>li {display: inline-block}\n",
              ".list-inline>li:not(:last-child)::after {content: \"\\00b7\"; padding: 0 .5ex}\n",
              "</style>\n",
              "<ol class=list-inline><li>11</li><li>12</li><li>13</li><li>14</li><li>15</li><li>16</li><li>17</li><li>18</li><li>19</li><li>20</li><li>21</li><li>22</li></ol>\n"
            ]
          },
          "metadata": {}
        },
        {
          "output_type": "display_data",
          "data": {
            "text/plain": [
              "set of 22 rules "
            ]
          },
          "metadata": {}
        }
      ]
    },
    {
      "cell_type": "code",
      "metadata": {
        "colab": {
          "base_uri": "https://localhost:8080/",
          "height": 733
        },
        "id": "arDNwYImHORN",
        "outputId": "c4860621-95e6-48d6-e55d-6e23b876bd98"
      },
      "source": [
        "Rule_cosmetic[\"lift\" > 1]\n",
        "inspect( Rule_cosmetic[\"lift\" > 1] )"
      ],
      "execution_count": 86,
      "outputs": [
        {
          "output_type": "display_data",
          "data": {
            "text/plain": [
              "set of 22 rules "
            ]
          },
          "metadata": {}
        },
        {
          "output_type": "stream",
          "name": "stdout",
          "text": [
            "     lhs                  rhs              support confidence coverage      lift count\n",
            "[1]  {Lipstick=Yes}    => {Foundation=Yes}   0.167  0.5186335    0.322 0.9675999   167\n",
            "[2]  {Nail.Polish=Yes} => {Foundation=Yes}   0.143  0.5107143    0.280 0.9528252   143\n",
            "[3]  {Blush=Yes}       => {Foundation=Yes}   0.192  0.5289256    0.363 0.9868015   192\n",
            "[4]  {Mascara=Yes}     => {Foundation=Yes}   0.192  0.5378151    0.357 1.0033864   192\n",
            "[5]  {Eye.shadow=Yes}  => {Foundation=Yes}   0.211  0.5538058    0.381 1.0332197   211\n",
            "[6]  {Eyeliner=Yes}    => {Foundation=Yes}   0.238  0.5207877    0.457 0.9716189   238\n",
            "[7]  {Lip.Gloss=Yes}   => {Foundation=Yes}   0.356  0.7265306    0.490 1.3554676   356\n",
            "[8]  {Concealer=Yes}   => {Foundation=Yes}   0.231  0.5226244    0.442 0.9750456   231\n",
            "[9]  {Lip.Gloss=Yes,                                                                  \n",
            "      Lipstick=Yes}    => {Foundation=Yes}   0.116  0.7341772    0.158 1.3697336   116\n",
            "[10] {Blush=Yes,                                                                      \n",
            "      Mascara=Yes}     => {Foundation=Yes}   0.101  0.5489130    0.184 1.0240915   101\n",
            "[11] {Blush=Yes,                                                                      \n",
            "      Eye.shadow=Yes}  => {Foundation=Yes}   0.100  0.5494505    0.182 1.0250943   100\n",
            "[12] {Blush=Yes,                                                                      \n",
            "      Lip.Gloss=Yes}   => {Foundation=Yes}   0.119  0.6685393    0.178 1.2472749   119\n",
            "[13] {Blush=Yes,                                                                      \n",
            "      Concealer=Yes}   => {Foundation=Yes}   0.115  0.5227273    0.220 0.9752374   115\n",
            "[14] {Mascara=Yes,                                                                    \n",
            "      Eye.shadow=Yes}  => {Foundation=Yes}   0.166  0.5171340    0.321 0.9648022   166\n",
            "[15] {Mascara=Yes,                                                                    \n",
            "      Lip.Gloss=Yes}   => {Foundation=Yes}   0.130  0.7182320    0.181 1.3399852   130\n",
            "[16] {Concealer=Yes,                                                                  \n",
            "      Mascara=Yes}     => {Foundation=Yes}   0.107  0.5245098    0.204 0.9785631   107\n",
            "[17] {Eye.shadow=Yes,                                                                 \n",
            "      Lip.Gloss=Yes}   => {Foundation=Yes}   0.146  0.7263682    0.201 1.3551645   146\n",
            "[18] {Concealer=Yes,                                                                  \n",
            "      Eye.shadow=Yes}  => {Foundation=Yes}   0.104  0.5174129    0.201 0.9653226   104\n",
            "[19] {Lip.Gloss=Yes,                                                                  \n",
            "      Eyeliner=Yes}    => {Foundation=Yes}   0.156  0.6872247    0.227 1.2821356   156\n",
            "[20] {Concealer=Yes,                                                                  \n",
            "      Eyeliner=Yes}    => {Foundation=Yes}   0.152  0.5117845    0.297 0.9548219   152\n",
            "[21] {Concealer=Yes,                                                                  \n",
            "      Lip.Gloss=Yes}   => {Foundation=Yes}   0.141  0.6467890    0.218 1.2066959   141\n",
            "[22] {Mascara=Yes,                                                                    \n",
            "      Eye.shadow=Yes,                                                                 \n",
            "      Lip.Gloss=Yes}   => {Foundation=Yes}   0.111  0.7025316    0.158 1.3106934   111\n"
          ]
        }
      ]
    },
    {
      "cell_type": "code",
      "metadata": {
        "colab": {
          "base_uri": "https://localhost:8080/",
          "height": 437
        },
        "id": "n-_2cYgRIT0e",
        "outputId": "c88e7380-44be-4dcd-f2db-46fe28545830"
      },
      "source": [
        "plot(Rule_cosmetic)\n"
      ],
      "execution_count": 88,
      "outputs": [
        {
          "output_type": "display_data",
          "data": {
            "image/png": "[encoded data removed]",
            "text/plain": [
              "plot without title"
            ]
          },
          "metadata": {
            "image/png": {
              "width": 420,
              "height": 420
            }
          }
        }
      ]
    },
    {
      "cell_type": "code",
      "metadata": {
        "colab": {
          "base_uri": "https://localhost:8080/",
          "height": 437
        },
        "id": "MPA9g5kuIegG",
        "outputId": "d5173682-609d-4f28-823a-abbefd1eddad"
      },
      "source": [
        "plot(Rule_cosmetic,\"grouped\")\n"
      ],
      "execution_count": 89,
      "outputs": [
        {
          "output_type": "display_data",
          "data": {
            "image/png": "[encoded data removed]",
            "text/plain": [
              "plot without title"
            ]
          },
          "metadata": {
            "image/png": {
              "width": 420,
              "height": 420
            }
          }
        }
      ]
    },
    {
      "cell_type": "code",
      "metadata": {
        "colab": {
          "base_uri": "https://localhost:8080/",
          "height": 437
        },
        "id": "jm_zTPlpIf7Z",
        "outputId": "856e5887-6a36-44ea-ae87-d709d57c2362"
      },
      "source": [
        "plot(Rule_cosmetic,\"graph\")"
      ],
      "execution_count": 90,
      "outputs": [
        {
          "output_type": "display_data",
          "data": {
            "image/png": "[encoded data removed]",
            "text/plain": [
              "plot without title"
            ]
          },
          "metadata": {
            "image/png": {
              "width": 420,
              "height": 420
            }
          }
        }
      ]
    }
  ]
}