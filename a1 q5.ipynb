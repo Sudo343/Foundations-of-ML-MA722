{
  "nbformat": 4,
  "nbformat_minor": 0,
  "metadata": {
    "colab": {
      "name": "Untitled6.ipynb",
      "provenance": [],
      "authorship_tag": "ABX9TyMcIXNhVaFFkhQXA515bnBq",
      "include_colab_link": true
    },
    "kernelspec": {
      "name": "ir",
      "display_name": "R"
    },
    "language_info": {
      "name": "R"
    }
  },
  "cells": [
    {
      "cell_type": "markdown",
      "metadata": {
        "id": "view-in-github",
        "colab_type": "text"
      },
      "source": [
        "<a href=\"https://colab.research.google.com/github/Sudo343/Foundations-of-ML-MA722/blob/main/a1%20q5.ipynb\" target=\"_parent\"><img src=\"https://colab.research.google.com/assets/colab-badge.svg\" alt=\"Open In Colab\"/></a>"
      ]
    },
    {
      "cell_type": "code",
      "metadata": {
        "colab": {
          "base_uri": "https://localhost:8080/"
        },
        "id": "TdIml3au1ROU",
        "outputId": "34400880-3d9b-44f9-ced7-c91fb93ade99"
      },
      "source": [
        "install.packages(\"e1071\")\n",
        "install.packages(\"caret\")"
      ],
      "execution_count": 1,
      "outputs": [
        {
          "output_type": "stream",
          "name": "stderr",
          "text": [
            "Installing package into ‘/usr/local/lib/R/site-library’\n",
            "(as ‘lib’ is unspecified)\n",
            "\n",
            "also installing the dependency ‘proxy’\n",
            "\n",
            "\n",
            "Installing package into ‘/usr/local/lib/R/site-library’\n",
            "(as ‘lib’ is unspecified)\n",
            "\n",
            "also installing the dependencies ‘listenv’, ‘parallelly’, ‘future’, ‘globals’, ‘future.apply’, ‘progressr’, ‘numDeriv’, ‘SQUAREM’, ‘lava’, ‘prodlim’, ‘iterators’, ‘gower’, ‘ipred’, ‘timeDate’, ‘foreach’, ‘ModelMetrics’, ‘plyr’, ‘pROC’, ‘recipes’, ‘reshape2’\n",
            "\n",
            "\n"
          ]
        }
      ]
    },
    {
      "cell_type": "code",
      "metadata": {
        "colab": {
          "base_uri": "https://localhost:8080/"
        },
        "id": "hQm7TnKp3MyN",
        "outputId": "5b69b830-bcbf-4ec2-b77a-ac26136f9794"
      },
      "source": [
        "library(e1071)\n",
        "library(caret)"
      ],
      "execution_count": 3,
      "outputs": [
        {
          "output_type": "stream",
          "name": "stderr",
          "text": [
            "Loading required package: ggplot2\n",
            "\n",
            "Loading required package: lattice\n",
            "\n",
            "Warning message in system(\"timedatectl\", intern = TRUE):\n",
            "“running command 'timedatectl' had status 1”\n"
          ]
        }
      ]
    },
    {
      "cell_type": "markdown",
      "metadata": {
        "id": "-AOFidXc7BDI"
      },
      "source": [
        "working on admission data"
      ]
    },
    {
      "cell_type": "code",
      "metadata": {
        "colab": {
          "base_uri": "https://localhost:8080/"
        },
        "id": "ClAXtzbT4NpN",
        "outputId": "6d39d8b7-93b9-4270-88cf-72c7142627e8"
      },
      "source": [
        "admission_data=read.csv(\"/content/admission_data.csv\")\n",
        "str(admission_data)"
      ],
      "execution_count": 6,
      "outputs": [
        {
          "output_type": "stream",
          "name": "stdout",
          "text": [
            "'data.frame':\t400 obs. of  4 variables:\n",
            " $ admit: int  0 1 1 1 0 1 1 0 1 0 ...\n",
            " $ gre  : int  380 660 800 640 520 760 560 400 540 700 ...\n",
            " $ gpa  : num  3.61 3.67 4 3.19 2.93 3 2.98 3.08 3.39 3.92 ...\n",
            " $ rank : int  3 3 1 4 4 2 1 2 3 2 ...\n"
          ]
        }
      ]
    },
    {
      "cell_type": "code",
      "metadata": {
        "colab": {
          "base_uri": "https://localhost:8080/"
        },
        "id": "rsmWLLk37KEN",
        "outputId": "04a226ee-f736-4d6b-dae5-de7ba90851ce"
      },
      "source": [
        "admission_data$admit[admission_data$admit ==0] <-'No'\n",
        "admission_data$admit[admission_data$admit ==1] <-'Yes'\n",
        "str(admission_data)"
      ],
      "execution_count": 7,
      "outputs": [
        {
          "output_type": "stream",
          "name": "stdout",
          "text": [
            "'data.frame':\t400 obs. of  4 variables:\n",
            " $ admit: chr  \"No\" \"Yes\" \"Yes\" \"Yes\" ...\n",
            " $ gre  : int  380 660 800 640 520 760 560 400 540 700 ...\n",
            " $ gpa  : num  3.61 3.67 4 3.19 2.93 3 2.98 3.08 3.39 3.92 ...\n",
            " $ rank : int  3 3 1 4 4 2 1 2 3 2 ...\n"
          ]
        }
      ]
    },
    {
      "cell_type": "code",
      "metadata": {
        "colab": {
          "base_uri": "https://localhost:8080/"
        },
        "id": "YCzbCYPj7NJg",
        "outputId": "1e195599-8bd7-464c-9678-9632fa0e6e36"
      },
      "source": [
        "admission_data$rank=factor(admission_data$rank)\n",
        "admission_data$admit=factor(admission_data$admit)\n",
        "str(admission_data)"
      ],
      "execution_count": 8,
      "outputs": [
        {
          "output_type": "stream",
          "name": "stdout",
          "text": [
            "'data.frame':\t400 obs. of  4 variables:\n",
            " $ admit: Factor w/ 2 levels \"No\",\"Yes\": 1 2 2 2 1 2 2 1 2 1 ...\n",
            " $ gre  : int  380 660 800 640 520 760 560 400 540 700 ...\n",
            " $ gpa  : num  3.61 3.67 4 3.19 2.93 3 2.98 3.08 3.39 3.92 ...\n",
            " $ rank : Factor w/ 4 levels \"1\",\"2\",\"3\",\"4\": 3 3 1 4 4 2 1 2 3 2 ...\n"
          ]
        }
      ]
    },
    {
      "cell_type": "code",
      "metadata": {
        "colab": {
          "base_uri": "https://localhost:8080/",
          "height": 495
        },
        "id": "BUAQiJxu7RZK",
        "outputId": "8a815bf5-757f-4125-a286-a80a7ee69783"
      },
      "source": [
        "#Data partitioning\n",
        "data_part = sample(2, nrow(admission_data), replace = T, prob=c(0.8,0.2))\n",
        "train_data=admission_data[data_part==1,]\n",
        "test_data=admission_data[data_part==2,]\n",
        "\n",
        "#Model training\n",
        "nb=naiveBayes(admit~.,data = train_data)\n",
        "nb"
      ],
      "execution_count": 9,
      "outputs": [
        {
          "output_type": "display_data",
          "data": {
            "text/plain": [
              "\n",
              "Naive Bayes Classifier for Discrete Predictors\n",
              "\n",
              "Call:\n",
              "naiveBayes.default(x = X, y = Y, laplace = laplace)\n",
              "\n",
              "A-priori probabilities:\n",
              "Y\n",
              "       No       Yes \n",
              "0.6830769 0.3169231 \n",
              "\n",
              "Conditional probabilities:\n",
              "     gre\n",
              "Y         [,1]     [,2]\n",
              "  No  572.8829 116.5017\n",
              "  Yes 617.6699 108.4400\n",
              "\n",
              "     gpa\n",
              "Y         [,1]      [,2]\n",
              "  No  3.361126 0.3780554\n",
              "  Yes 3.470583 0.3658480\n",
              "\n",
              "     rank\n",
              "Y             1         2         3         4\n",
              "  No  0.1126126 0.3468468 0.3423423 0.1981982\n",
              "  Yes 0.2135922 0.4466019 0.2233010 0.1165049\n"
            ]
          },
          "metadata": {}
        }
      ]
    },
    {
      "cell_type": "code",
      "metadata": {
        "colab": {
          "base_uri": "https://localhost:8080/",
          "height": 90
        },
        "id": "omOR-yDg7T0y",
        "outputId": "02c53c6f-13c2-46e1-f996-ca24de12f956"
      },
      "source": [
        "#Misclassification error on training data\n",
        "nb_predict=predict(nb,train_data)\n",
        "tab=table(nb_predict,train_data$admit)\n",
        "tab"
      ],
      "execution_count": 10,
      "outputs": [
        {
          "output_type": "display_data",
          "data": {
            "text/plain": [
              "          \n",
              "nb_predict  No Yes\n",
              "       No  200  79\n",
              "       Yes  22  24"
            ]
          },
          "metadata": {}
        }
      ]
    },
    {
      "cell_type": "markdown",
      "metadata": {
        "id": "y2udjfjL7rnQ"
      },
      "source": [
        "missclassification error on training set"
      ]
    },
    {
      "cell_type": "code",
      "metadata": {
        "colab": {
          "base_uri": "https://localhost:8080/",
          "height": 34
        },
        "id": "AL4ghBfJ7kty",
        "outputId": "d6119d92-9e0d-43fa-d476-f4240164c5f0"
      },
      "source": [
        "1 - sum(diag(tab))/ sum(tab)"
      ],
      "execution_count": 11,
      "outputs": [
        {
          "output_type": "display_data",
          "data": {
            "text/plain": [
              "[1] 0.3107692"
            ],
            "text/latex": "0.310769230769231",
            "text/markdown": "0.310769230769231",
            "text/html": [
              "0.310769230769231"
            ]
          },
          "metadata": {}
        }
      ]
    },
    {
      "cell_type": "code",
      "metadata": {
        "colab": {
          "base_uri": "https://localhost:8080/",
          "height": 437
        },
        "id": "TNSuedtM7XFY",
        "outputId": "80516441-38e2-46a1-da2f-090971833410"
      },
      "source": [
        "plot(nb_predict,train_data$admit)"
      ],
      "execution_count": 12,
      "outputs": [
        {
          "output_type": "display_data",
          "data": {
            "image/png": "[encoded data removed]",
            "text/plain": [
              "Plot with title “”"
            ]
          },
          "metadata": {
            "image/png": {
              "width": 420,
              "height": 420
            }
          }
        }
      ]
    },
    {
      "cell_type": "code",
      "metadata": {
        "colab": {
          "base_uri": "https://localhost:8080/",
          "height": 513
        },
        "id": "uN4Etaol7ZGh",
        "outputId": "a375307c-a57b-484e-b55b-aa208da9550b"
      },
      "source": [
        "#Using confusion matrix function\n",
        "confusionMatrix(nb_predict,train_data$admit)"
      ],
      "execution_count": 13,
      "outputs": [
        {
          "output_type": "display_data",
          "data": {
            "text/plain": [
              "Confusion Matrix and Statistics\n",
              "\n",
              "          Reference\n",
              "Prediction  No Yes\n",
              "       No  200  79\n",
              "       Yes  22  24\n",
              "                                          \n",
              "               Accuracy : 0.6892          \n",
              "                 95% CI : (0.6358, 0.7392)\n",
              "    No Information Rate : 0.6831          \n",
              "    P-Value [Acc > NIR] : 0.4318          \n",
              "                                          \n",
              "                  Kappa : 0.1572          \n",
              "                                          \n",
              " Mcnemar's Test P-Value : 2.515e-08       \n",
              "                                          \n",
              "            Sensitivity : 0.9009          \n",
              "            Specificity : 0.2330          \n",
              "         Pos Pred Value : 0.7168          \n",
              "         Neg Pred Value : 0.5217          \n",
              "             Prevalence : 0.6831          \n",
              "         Detection Rate : 0.6154          \n",
              "   Detection Prevalence : 0.8585          \n",
              "      Balanced Accuracy : 0.5670          \n",
              "                                          \n",
              "       'Positive' Class : No              \n",
              "                                          "
            ]
          },
          "metadata": {}
        }
      ]
    },
    {
      "cell_type": "code",
      "metadata": {
        "colab": {
          "base_uri": "https://localhost:8080/",
          "height": 90
        },
        "id": "Dp5YUDfk9uvJ",
        "outputId": "2ee70e28-f07e-420b-f6f7-211c8b201035"
      },
      "source": [
        "\n",
        "#CI is the confidence interval that the model accuracy will be between 0.66 to 0.77\n",
        "#ideal p value should be less than 0.05\n",
        "#Kappa is checking actual accuracy with random accuracy\n",
        "\n",
        "#Misclassification error on testing data\n",
        "\n",
        "nb_predict_test=predict(nb,test_data)\n",
        "tab2=table(nb_predict_test,test_data$admit)\n",
        "tab2"
      ],
      "execution_count": 23,
      "outputs": [
        {
          "output_type": "display_data",
          "data": {
            "text/plain": [
              "               \n",
              "nb_predict_test No Yes\n",
              "            No  52  14\n",
              "            Yes 11  11"
            ]
          },
          "metadata": {}
        }
      ]
    },
    {
      "cell_type": "markdown",
      "metadata": {
        "id": "ZNy-_M0hAYyL"
      },
      "source": [
        "missclassification error on testing set"
      ]
    },
    {
      "cell_type": "code",
      "metadata": {
        "colab": {
          "base_uri": "https://localhost:8080/",
          "height": 34
        },
        "id": "YGsN9SNC9yWD",
        "outputId": "5ae01e97-5621-4517-d9fd-862b616abbde"
      },
      "source": [
        "1 - sum(diag(tab2))/ sum(tab2)"
      ],
      "execution_count": 24,
      "outputs": [
        {
          "output_type": "display_data",
          "data": {
            "text/plain": [
              "[1] 0.2840909"
            ],
            "text/latex": "0.284090909090909",
            "text/markdown": "0.284090909090909",
            "text/html": [
              "0.284090909090909"
            ]
          },
          "metadata": {}
        }
      ]
    },
    {
      "cell_type": "code",
      "metadata": {
        "colab": {
          "base_uri": "https://localhost:8080/",
          "height": 437
        },
        "id": "nGSt-XIT90ei",
        "outputId": "2235c79f-1b53-49e7-fc46-16fbb6f1388f"
      },
      "source": [
        "plot(nb_predict_test~test_data$admit)"
      ],
      "execution_count": 25,
      "outputs": [
        {
          "output_type": "display_data",
          "data": {
            "image/png": "[encoded data removed]",
            "text/plain": [
              "Plot with title “”"
            ]
          },
          "metadata": {
            "image/png": {
              "width": 420,
              "height": 420
            }
          }
        }
      ]
    },
    {
      "cell_type": "markdown",
      "metadata": {
        "id": "SUxTKIem8DZt"
      },
      "source": [
        "working on car evaluation set"
      ]
    },
    {
      "cell_type": "code",
      "metadata": {
        "colab": {
          "base_uri": "https://localhost:8080/"
        },
        "id": "biDKLVBP8IDY",
        "outputId": "47adfe6b-9c9e-4da5-a852-b98a7b0d5cec"
      },
      "source": [
        "#Reading data\n",
        "car_data=read.csv(\"/content/car_evaluation.csv\")\n",
        "str(car_data)"
      ],
      "execution_count": 14,
      "outputs": [
        {
          "output_type": "stream",
          "name": "stdout",
          "text": [
            "'data.frame':\t1728 obs. of  7 variables:\n",
            " $ Cost        : chr  \"vhigh\" \"vhigh\" \"vhigh\" \"vhigh\" ...\n",
            " $ Maintainence: chr  \"vhigh\" \"vhigh\" \"vhigh\" \"vhigh\" ...\n",
            " $ Doors       : chr  \"2\" \"2\" \"2\" \"2\" ...\n",
            " $ persons     : chr  \"2\" \"2\" \"2\" \"2\" ...\n",
            " $ luggage     : chr  \"small\" \"small\" \"small\" \"med\" ...\n",
            " $ safety      : chr  \"low\" \"med\" \"high\" \"low\" ...\n",
            " $ CarClass    : chr  \"unaccept\" \"unaccept\" \"unaccept\" \"unaccept\" ...\n"
          ]
        }
      ]
    },
    {
      "cell_type": "code",
      "metadata": {
        "colab": {
          "base_uri": "https://localhost:8080/"
        },
        "id": "wQ2w-OA38Y3i",
        "outputId": "d8cbb375-a330-40bf-8be0-228b546f72db"
      },
      "source": [
        "car_data$CarClass[admission_data$CarClass ==0] <-'No'\n",
        "car_data$CarClass[admission_data$CarClass ==1] <-'Yes'\n",
        "str(car_data)"
      ],
      "execution_count": 16,
      "outputs": [
        {
          "output_type": "stream",
          "name": "stdout",
          "text": [
            "'data.frame':\t1728 obs. of  7 variables:\n",
            " $ Cost        : chr  \"vhigh\" \"vhigh\" \"vhigh\" \"vhigh\" ...\n",
            " $ Maintainence: chr  \"vhigh\" \"vhigh\" \"vhigh\" \"vhigh\" ...\n",
            " $ Doors       : chr  \"2\" \"2\" \"2\" \"2\" ...\n",
            " $ persons     : chr  \"2\" \"2\" \"2\" \"2\" ...\n",
            " $ luggage     : chr  \"small\" \"small\" \"small\" \"med\" ...\n",
            " $ safety      : chr  \"low\" \"med\" \"high\" \"low\" ...\n",
            " $ CarClass    : chr  \"unaccept\" \"unaccept\" \"unaccept\" \"unaccept\" ...\n"
          ]
        }
      ]
    },
    {
      "cell_type": "code",
      "metadata": {
        "colab": {
          "base_uri": "https://localhost:8080/"
        },
        "id": "ozoWVxto8cwA",
        "outputId": "8b947848-34c5-4c18-ad12-25634fc00ee5"
      },
      "source": [
        "car_data$Cost=factor(car_data$Cost)\n",
        "car_data$Maintainence=factor(car_data$Maintainence)\n",
        "car_data$Doors=factor(car_data$Doors)\n",
        "car_data$persons=factor(car_data$persons)\n",
        "car_data$luggage=factor(car_data$luggage)\n",
        "car_data$safety=factor(car_data$safety)\n",
        "car_data$CarClass=factor(car_data$CarClass)\n",
        "str(car_data)"
      ],
      "execution_count": 17,
      "outputs": [
        {
          "output_type": "stream",
          "name": "stdout",
          "text": [
            "'data.frame':\t1728 obs. of  7 variables:\n",
            " $ Cost        : Factor w/ 4 levels \"high\",\"low\",\"med\",..: 4 4 4 4 4 4 4 4 4 4 ...\n",
            " $ Maintainence: Factor w/ 4 levels \"high\",\"low\",\"med\",..: 4 4 4 4 4 4 4 4 4 4 ...\n",
            " $ Doors       : Factor w/ 4 levels \"2\",\"3\",\"4\",\"5more\": 1 1 1 1 1 1 1 1 1 1 ...\n",
            " $ persons     : Factor w/ 3 levels \"2\",\"4\",\"more\": 1 1 1 1 1 1 1 1 1 2 ...\n",
            " $ luggage     : Factor w/ 3 levels \"big\",\"med\",\"small\": 3 3 3 2 2 2 1 1 1 3 ...\n",
            " $ safety      : Factor w/ 3 levels \"high\",\"low\",\"med\": 2 3 1 2 3 1 2 3 1 2 ...\n",
            " $ CarClass    : Factor w/ 4 levels \"acc\",\"good\",\"unaccept\",..: 3 3 3 3 3 3 3 3 3 3 ...\n"
          ]
        }
      ]
    },
    {
      "cell_type": "code",
      "metadata": {
        "colab": {
          "base_uri": "https://localhost:8080/",
          "height": 990
        },
        "id": "sK_Ti7eX9KTa",
        "outputId": "32600a77-540d-41fb-84dd-1cd8c8cc5d34"
      },
      "source": [
        "#Data partitioning\n",
        "data_part = sample(2, nrow(car_data), replace = T, prob=c(0.8,0.2))\n",
        "train_data=car_data[data_part==1,]\n",
        "test_data=car_data[data_part==2,]\n",
        "\n",
        "#Model training\n",
        "nb=naiveBayes(CarClass~.,data = train_data)\n",
        "nb"
      ],
      "execution_count": 26,
      "outputs": [
        {
          "output_type": "display_data",
          "data": {
            "text/plain": [
              "\n",
              "Naive Bayes Classifier for Discrete Predictors\n",
              "\n",
              "Call:\n",
              "naiveBayes.default(x = X, y = Y, laplace = laplace)\n",
              "\n",
              "A-priori probabilities:\n",
              "Y\n",
              "       acc       good   unaccept      vgood \n",
              "0.22519913 0.04199855 0.69514844 0.03765387 \n",
              "\n",
              "Conditional probabilities:\n",
              "          Cost\n",
              "Y               high       low       med     vhigh\n",
              "  acc      0.2797428 0.2122186 0.3054662 0.2025723\n",
              "  good     0.0000000 0.6551724 0.3448276 0.0000000\n",
              "  unaccept 0.2656250 0.2125000 0.2270833 0.2947917\n",
              "  vgood    0.0000000 0.5384615 0.4615385 0.0000000\n",
              "\n",
              "          Maintainence\n",
              "Y               high       low       med     vhigh\n",
              "  acc      0.2540193 0.2572347 0.2990354 0.1897106\n",
              "  good     0.0000000 0.6206897 0.3793103 0.0000000\n",
              "  unaccept 0.2593750 0.2104167 0.2270833 0.3031250\n",
              "  vgood    0.1923077 0.4038462 0.4038462 0.0000000\n",
              "\n",
              "          Doors\n",
              "Y                  2         3         4     5more\n",
              "  acc      0.2315113 0.2604502 0.2475884 0.2604502\n",
              "  good     0.2413793 0.2758621 0.2586207 0.2241379\n",
              "  unaccept 0.2697917 0.2427083 0.2437500 0.2437500\n",
              "  vgood    0.1538462 0.2307692 0.3269231 0.2884615\n",
              "\n",
              "          persons\n",
              "Y                  2         4      more\n",
              "  acc      0.0000000 0.5016077 0.4983923\n",
              "  good     0.0000000 0.5344828 0.4655172\n",
              "  unaccept 0.4791667 0.2562500 0.2645833\n",
              "  vgood    0.0000000 0.4615385 0.5384615\n",
              "\n",
              "          luggage\n",
              "Y                big       med     small\n",
              "  acc      0.3922830 0.3440514 0.2636656\n",
              "  good     0.3620690 0.3275862 0.3103448\n",
              "  unaccept 0.2989583 0.3302083 0.3708333\n",
              "  vgood    0.5961538 0.4038462 0.0000000\n",
              "\n",
              "          safety\n",
              "Y               high       low       med\n",
              "  acc      0.5337621 0.0000000 0.4662379\n",
              "  good     0.4482759 0.0000000 0.5517241\n",
              "  unaccept 0.2364583 0.4656250 0.2979167\n",
              "  vgood    1.0000000 0.0000000 0.0000000\n"
            ]
          },
          "metadata": {}
        }
      ]
    },
    {
      "cell_type": "code",
      "metadata": {
        "colab": {
          "base_uri": "https://localhost:8080/",
          "height": 127
        },
        "id": "9ZC8fFBu9SS6",
        "outputId": "417c5a34-c103-40f5-fbf7-77987ab6f85e"
      },
      "source": [
        "#Misclassification error on training data\n",
        "nb_predict=predict(nb,train_data)\n",
        "tab=table(nb_predict,train_data$CarClass)\n",
        "tab"
      ],
      "execution_count": 27,
      "outputs": [
        {
          "output_type": "display_data",
          "data": {
            "text/plain": [
              "          \n",
              "nb_predict acc good unaccept vgood\n",
              "  acc      230   41       34    21\n",
              "  good      10   16        1     1\n",
              "  unaccept  71    0      925     0\n",
              "  vgood      0    1        0    30"
            ]
          },
          "metadata": {}
        }
      ]
    },
    {
      "cell_type": "markdown",
      "metadata": {
        "id": "vlg-fXCeAi69"
      },
      "source": [
        "missclassification error on training set"
      ]
    },
    {
      "cell_type": "code",
      "metadata": {
        "colab": {
          "base_uri": "https://localhost:8080/",
          "height": 34
        },
        "id": "Fk3LvrL09Wp0",
        "outputId": "1a82929e-0d13-43d3-d39b-844b81f8d35d"
      },
      "source": [
        "1 - sum(diag(tab))/ sum(tab)"
      ],
      "execution_count": 28,
      "outputs": [
        {
          "output_type": "display_data",
          "data": {
            "text/plain": [
              "[1] 0.1303403"
            ],
            "text/latex": "0.130340333091962",
            "text/markdown": "0.130340333091962",
            "text/html": [
              "0.130340333091962"
            ]
          },
          "metadata": {}
        }
      ]
    },
    {
      "cell_type": "code",
      "metadata": {
        "colab": {
          "base_uri": "https://localhost:8080/",
          "height": 437
        },
        "id": "zuxLaSBF9axJ",
        "outputId": "6eeb4c76-f4f2-43a5-adc9-6058790a0c95"
      },
      "source": [
        "plot(nb_predict,train_data$CarClass)"
      ],
      "execution_count": 30,
      "outputs": [
        {
          "output_type": "display_data",
          "data": {
            "image/png": "[encoded data removed]",
            "text/plain": [
              "Plot with title “”"
            ]
          },
          "metadata": {
            "image/png": {
              "width": 420,
              "height": 420
            }
          }
        }
      ]
    },
    {
      "cell_type": "code",
      "metadata": {
        "colab": {
          "base_uri": "https://localhost:8080/",
          "height": 586
        },
        "id": "uz24WvYv-dDj",
        "outputId": "980ad958-4a0d-45e1-bac2-bfd699e8e830"
      },
      "source": [
        "#Using confusion matrix function\n",
        "confusionMatrix(nb_predict,train_data$CarClass)"
      ],
      "execution_count": 34,
      "outputs": [
        {
          "output_type": "display_data",
          "data": {
            "text/plain": [
              "Confusion Matrix and Statistics\n",
              "\n",
              "          Reference\n",
              "Prediction acc good unaccept vgood\n",
              "  acc      230   41       34    21\n",
              "  good      10   16        1     1\n",
              "  unaccept  71    0      925     0\n",
              "  vgood      0    1        0    30\n",
              "\n",
              "Overall Statistics\n",
              "                                         \n",
              "               Accuracy : 0.8697         \n",
              "                 95% CI : (0.8508, 0.887)\n",
              "    No Information Rate : 0.6951         \n",
              "    P-Value [Acc > NIR] : < 2.2e-16      \n",
              "                                         \n",
              "                  Kappa : 0.7063         \n",
              "                                         \n",
              " Mcnemar's Test P-Value : NA             \n",
              "\n",
              "Statistics by Class:\n",
              "\n",
              "                     Class: acc Class: good Class: unaccept Class: vgood\n",
              "Sensitivity              0.7395     0.27586          0.9635      0.57692\n",
              "Specificity              0.9103     0.99093          0.8314      0.99925\n",
              "Pos Pred Value           0.7055     0.57143          0.9287      0.96774\n",
              "Neg Pred Value           0.9232     0.96896          0.9091      0.98370\n",
              "Prevalence               0.2252     0.04200          0.6951      0.03765\n",
              "Detection Rate           0.1665     0.01159          0.6698      0.02172\n",
              "Detection Prevalence     0.2361     0.02028          0.7212      0.02245\n",
              "Balanced Accuracy        0.8249     0.63340          0.8974      0.78809"
            ]
          },
          "metadata": {}
        }
      ]
    },
    {
      "cell_type": "code",
      "metadata": {
        "colab": {
          "base_uri": "https://localhost:8080/",
          "height": 127
        },
        "id": "7r9fxvsJ9doJ",
        "outputId": "929ed174-14b6-4929-f558-62260120566a"
      },
      "source": [
        "#CI is the confidence interval that the model accuracy will be between 0.66 to 0.77\n",
        "#ideal p value should be less than 0.05\n",
        "#Kappa is checking actual accuracy with random accuracy\n",
        "\n",
        "#Misclassification error on testing data\n",
        "\n",
        "nb_predict_test=predict(nb,test_data)\n",
        "tab2=table(nb_predict_test,test_data$CarClass)\n",
        "tab2"
      ],
      "execution_count": 35,
      "outputs": [
        {
          "output_type": "display_data",
          "data": {
            "text/plain": [
              "               \n",
              "nb_predict_test acc good unaccept vgood\n",
              "       acc       54    4       13     3\n",
              "       good       2    7        1     0\n",
              "       unaccept  17    0      236     0\n",
              "       vgood      0    0        0    10"
            ]
          },
          "metadata": {}
        }
      ]
    },
    {
      "cell_type": "markdown",
      "metadata": {
        "id": "HdGd6rn9AqNi"
      },
      "source": [
        "missclassification error on testing set"
      ]
    },
    {
      "cell_type": "code",
      "metadata": {
        "colab": {
          "base_uri": "https://localhost:8080/",
          "height": 34
        },
        "id": "mbgeKr8e-oE0",
        "outputId": "0f8d6656-b583-447f-ce5b-6732781f231d"
      },
      "source": [
        "1 - sum(diag(tab2))/ sum(tab2)"
      ],
      "execution_count": 36,
      "outputs": [
        {
          "output_type": "display_data",
          "data": {
            "text/plain": [
              "[1] 0.1152738"
            ],
            "text/latex": "0.115273775216138",
            "text/markdown": "0.115273775216138",
            "text/html": [
              "0.115273775216138"
            ]
          },
          "metadata": {}
        }
      ]
    },
    {
      "cell_type": "code",
      "metadata": {
        "colab": {
          "base_uri": "https://localhost:8080/",
          "height": 437
        },
        "id": "iY_uZ9L--qEU",
        "outputId": "3b6a1877-0cdb-4c05-c542-7305c3160da0"
      },
      "source": [
        "plot(nb_predict_test~test_data$CarClass)"
      ],
      "execution_count": 37,
      "outputs": [
        {
          "output_type": "display_data",
          "data": {
            "image/png": "[encoded data removed]",
            "text/plain": [
              "Plot with title “”"
            ]
          },
          "metadata": {
            "image/png": {
              "width": 420,
              "height": 420
            }
          }
        }
      ]
    }
  ]
}