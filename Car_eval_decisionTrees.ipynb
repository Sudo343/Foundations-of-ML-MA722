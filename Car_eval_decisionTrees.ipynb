{
  "nbformat": 4,
  "nbformat_minor": 0,
  "metadata": {
    "colab": {
      "name": "Untitled2.ipynb",
      "provenance": [],
      "authorship_tag": "ABX9TyOAWUoi29f+s3LQZEVDrkCs",
      "include_colab_link": true
    },
    "kernelspec": {
      "name": "ir",
      "display_name": "R"
    },
    "language_info": {
      "name": "R"
    }
  },
  "cells": [
    {
      "cell_type": "markdown",
      "metadata": {
        "id": "view-in-github",
        "colab_type": "text"
      },
      "source": [
        "<a href=\"https://colab.research.google.com/github/Sudo343/Foundations-of-ML-MA722/blob/main/Car_eval_decisionTrees.ipynb\" target=\"_parent\"><img src=\"https://colab.research.google.com/assets/colab-badge.svg\" alt=\"Open In Colab\"/></a>"
      ]
    },
    {
      "cell_type": "markdown",
      "metadata": {
        "id": "KN7ikEgTKCmW"
      },
      "source": [
        "## Decision Trees"
      ]
    },
    {
      "cell_type": "markdown",
      "metadata": {
        "id": "5JSfm2eLKGP9"
      },
      "source": [
        "use car evaluation dataset for decision tree"
      ]
    },
    {
      "cell_type": "code",
      "metadata": {
        "colab": {
          "base_uri": "https://localhost:8080/"
        },
        "id": "3TX0dbsNKZjI",
        "outputId": "d91940e4-08de-4b67-bbd4-9e945cd7b20c"
      },
      "source": [
        "install.packages(\"party\")\n",
        "library(party)"
      ],
      "execution_count": 3,
      "outputs": [
        {
          "output_type": "stream",
          "name": "stderr",
          "text": [
            "Installing package into ‘/usr/local/lib/R/site-library’\n",
            "(as ‘lib’ is unspecified)\n",
            "\n",
            "also installing the dependencies ‘TH.data’, ‘libcoin’, ‘matrixStats’, ‘multcomp’, ‘mvtnorm’, ‘modeltools’, ‘strucchange’, ‘coin’, ‘zoo’, ‘sandwich’\n",
            "\n",
            "\n"
          ]
        }
      ]
    },
    {
      "cell_type": "code",
      "metadata": {
        "id": "gJOfqcF9KwXA"
      },
      "source": [
        "car_data=read.csv(\"/content/car_evaluation.csv\", header = T, colClasses=\"factor\")\n"
      ],
      "execution_count": 4,
      "outputs": []
    },
    {
      "cell_type": "code",
      "metadata": {
        "colab": {
          "base_uri": "https://localhost:8080/",
          "height": 286
        },
        "id": "GxyFr3CTLBH7",
        "outputId": "d4079077-6956-4dac-f277-1612f2acf22c"
      },
      "source": [
        "head(car_data)"
      ],
      "execution_count": 5,
      "outputs": [
        {
          "output_type": "display_data",
          "data": {
            "text/plain": [
              "  Cost  Maintainence Doors persons luggage safety CarClass\n",
              "1 vhigh vhigh        2     2       small   low    unaccept\n",
              "2 vhigh vhigh        2     2       small   med    unaccept\n",
              "3 vhigh vhigh        2     2       small   high   unaccept\n",
              "4 vhigh vhigh        2     2       med     low    unaccept\n",
              "5 vhigh vhigh        2     2       med     med    unaccept\n",
              "6 vhigh vhigh        2     2       med     high   unaccept"
            ],
            "text/latex": "A data.frame: 6 × 7\n\\begin{tabular}{r|lllllll}\n  & Cost & Maintainence & Doors & persons & luggage & safety & CarClass\\\\\n  & <fct> & <fct> & <fct> & <fct> & <fct> & <fct> & <fct>\\\\\n\\hline\n\t1 & vhigh & vhigh & 2 & 2 & small & low  & unaccept\\\\\n\t2 & vhigh & vhigh & 2 & 2 & small & med  & unaccept\\\\\n\t3 & vhigh & vhigh & 2 & 2 & small & high & unaccept\\\\\n\t4 & vhigh & vhigh & 2 & 2 & med   & low  & unaccept\\\\\n\t5 & vhigh & vhigh & 2 & 2 & med   & med  & unaccept\\\\\n\t6 & vhigh & vhigh & 2 & 2 & med   & high & unaccept\\\\\n\\end{tabular}\n",
            "text/markdown": "\nA data.frame: 6 × 7\n\n| <!--/--> | Cost &lt;fct&gt; | Maintainence &lt;fct&gt; | Doors &lt;fct&gt; | persons &lt;fct&gt; | luggage &lt;fct&gt; | safety &lt;fct&gt; | CarClass &lt;fct&gt; |\n|---|---|---|---|---|---|---|---|\n| 1 | vhigh | vhigh | 2 | 2 | small | low  | unaccept |\n| 2 | vhigh | vhigh | 2 | 2 | small | med  | unaccept |\n| 3 | vhigh | vhigh | 2 | 2 | small | high | unaccept |\n| 4 | vhigh | vhigh | 2 | 2 | med   | low  | unaccept |\n| 5 | vhigh | vhigh | 2 | 2 | med   | med  | unaccept |\n| 6 | vhigh | vhigh | 2 | 2 | med   | high | unaccept |\n\n",
            "text/html": [
              "<table class=\"dataframe\">\n",
              "<caption>A data.frame: 6 × 7</caption>\n",
              "<thead>\n",
              "\t<tr><th></th><th scope=col>Cost</th><th scope=col>Maintainence</th><th scope=col>Doors</th><th scope=col>persons</th><th scope=col>luggage</th><th scope=col>safety</th><th scope=col>CarClass</th></tr>\n",
              "\t<tr><th></th><th scope=col>&lt;fct&gt;</th><th scope=col>&lt;fct&gt;</th><th scope=col>&lt;fct&gt;</th><th scope=col>&lt;fct&gt;</th><th scope=col>&lt;fct&gt;</th><th scope=col>&lt;fct&gt;</th><th scope=col>&lt;fct&gt;</th></tr>\n",
              "</thead>\n",
              "<tbody>\n",
              "\t<tr><th scope=row>1</th><td>vhigh</td><td>vhigh</td><td>2</td><td>2</td><td>small</td><td>low </td><td>unaccept</td></tr>\n",
              "\t<tr><th scope=row>2</th><td>vhigh</td><td>vhigh</td><td>2</td><td>2</td><td>small</td><td>med </td><td>unaccept</td></tr>\n",
              "\t<tr><th scope=row>3</th><td>vhigh</td><td>vhigh</td><td>2</td><td>2</td><td>small</td><td>high</td><td>unaccept</td></tr>\n",
              "\t<tr><th scope=row>4</th><td>vhigh</td><td>vhigh</td><td>2</td><td>2</td><td>med  </td><td>low </td><td>unaccept</td></tr>\n",
              "\t<tr><th scope=row>5</th><td>vhigh</td><td>vhigh</td><td>2</td><td>2</td><td>med  </td><td>med </td><td>unaccept</td></tr>\n",
              "\t<tr><th scope=row>6</th><td>vhigh</td><td>vhigh</td><td>2</td><td>2</td><td>med  </td><td>high</td><td>unaccept</td></tr>\n",
              "</tbody>\n",
              "</table>\n"
            ]
          },
          "metadata": {}
        }
      ]
    },
    {
      "cell_type": "code",
      "metadata": {
        "id": "gMWHgsKWLWmw"
      },
      "source": [
        "car_data$Cost=factor(car_data$Cost)\n",
        "car_data$Maintainence=factor(car_data$Maintainence)\n",
        "car_data$Doors=factor(car_data$Doors)\n",
        "car_data$persons=factor(car_data$persons)\n",
        "car_data$luggage=factor(car_data$luggage)\n",
        "car_data$safety=factor(car_data$safety)\n",
        "car_data$CarClass=factor(car_data$CarClass)\n"
      ],
      "execution_count": 6,
      "outputs": []
    },
    {
      "cell_type": "markdown",
      "metadata": {
        "id": "WwT5Dr7fLd3A"
      },
      "source": [
        "now split data into training set and test set"
      ]
    },
    {
      "cell_type": "code",
      "metadata": {
        "colab": {
          "base_uri": "https://localhost:8080/",
          "height": 201
        },
        "id": "aruxOxdULoEl",
        "outputId": "969e4d9b-3447-4082-8471-18b924fbb3af"
      },
      "source": [
        "summary(car_data)"
      ],
      "execution_count": 10,
      "outputs": [
        {
          "output_type": "display_data",
          "data": {
            "text/plain": [
              "    Cost     Maintainence   Doors     persons     luggage     safety   \n",
              " high :432   high :432    2    :432   2   :576   big  :576   high:576  \n",
              " low  :432   low  :432    3    :432   4   :576   med  :576   low :576  \n",
              " med  :432   med  :432    4    :432   more:576   small:576   med :576  \n",
              " vhigh:432   vhigh:432    5more:432                                    \n",
              "     CarClass   \n",
              " acc     : 384  \n",
              " good    :  69  \n",
              " unaccept:1210  \n",
              " vgood   :  65  "
            ]
          },
          "metadata": {}
        }
      ]
    },
    {
      "cell_type": "code",
      "metadata": {
        "colab": {
          "base_uri": "https://localhost:8080/",
          "height": 34
        },
        "id": "TFxjuN24L8G1",
        "outputId": "455892af-1065-4add-a438-30058b45f82b"
      },
      "source": [
        "dim(car_data)"
      ],
      "execution_count": 15,
      "outputs": [
        {
          "output_type": "display_data",
          "data": {
            "text/plain": [
              "[1] 1728    7"
            ],
            "text/latex": "\\begin{enumerate*}\n\\item 1728\n\\item 7\n\\end{enumerate*}\n",
            "text/markdown": "1. 1728\n2. 7\n\n\n",
            "text/html": [
              "<style>\n",
              ".list-inline {list-style: none; margin:0; padding: 0}\n",
              ".list-inline>li {display: inline-block}\n",
              ".list-inline>li:not(:last-child)::after {content: \"\\00b7\"; padding: 0 .5ex}\n",
              "</style>\n",
              "<ol class=list-inline><li>1728</li><li>7</li></ol>\n"
            ]
          },
          "metadata": {}
        }
      ]
    },
    {
      "cell_type": "markdown",
      "metadata": {
        "id": "0svbvGgmMVUn"
      },
      "source": [
        "1728 records, lets split in 70:30 ratio"
      ]
    },
    {
      "cell_type": "code",
      "metadata": {
        "id": "GWCHpzr-MTPI"
      },
      "source": [
        "pd <- sample(2,nrow(car_data), replace = T, prob=c(0.7,0.3))\n",
        "train_data <- car_data[pd==1,]\n",
        "test_data <- car_data[pd==2,]"
      ],
      "execution_count": 23,
      "outputs": []
    },
    {
      "cell_type": "markdown",
      "metadata": {
        "id": "hGwIMTqKM3PZ"
      },
      "source": [
        "Lets make decision tree using train data"
      ]
    },
    {
      "cell_type": "code",
      "metadata": {
        "colab": {
          "base_uri": "https://localhost:8080/"
        },
        "id": "UllBmEggNDEA",
        "outputId": "4ab45349-bb72-4e75-803f-587fc1075b22"
      },
      "source": [
        "library(party)"
      ],
      "execution_count": 21,
      "outputs": [
        {
          "output_type": "stream",
          "name": "stderr",
          "text": [
            "Loading required package: grid\n",
            "\n",
            "Loading required package: mvtnorm\n",
            "\n",
            "Loading required package: modeltools\n",
            "\n",
            "Loading required package: stats4\n",
            "\n",
            "Loading required package: strucchange\n",
            "\n",
            "Loading required package: zoo\n",
            "\n",
            "\n",
            "Attaching package: ‘zoo’\n",
            "\n",
            "\n",
            "The following objects are masked from ‘package:base’:\n",
            "\n",
            "    as.Date, as.Date.numeric\n",
            "\n",
            "\n",
            "Loading required package: sandwich\n",
            "\n"
          ]
        }
      ]
    },
    {
      "cell_type": "markdown",
      "metadata": {
        "id": "WxczWLimRdoY"
      },
      "source": [
        "use ctree() function to get tree model, mention target var, features, and data in its args"
      ]
    },
    {
      "cell_type": "code",
      "metadata": {
        "colab": {
          "base_uri": "https://localhost:8080/",
          "height": 495
        },
        "id": "KYxSBfqwM0sx",
        "outputId": "19cb7704-9a4c-46bc-900a-d599b84dff6e"
      },
      "source": [
        "output_tree = ctree(CarClass~Cost+persons+safety, data=train_data)\n",
        "output_tree"
      ],
      "execution_count": 24,
      "outputs": [
        {
          "output_type": "display_data",
          "data": {
            "text/plain": [
              "\n",
              "\t Conditional inference tree with 7 terminal nodes\n",
              "\n",
              "Response:  CarClass \n",
              "Inputs:  Cost, persons, safety \n",
              "Number of observations:  1214 \n",
              "\n",
              "1) safety == {low}; criterion = 1, statistic = 304.57\n",
              "  2)*  weights = 404 \n",
              "1) safety == {high, med}\n",
              "  3) persons == {4, more}; criterion = 1, statistic = 310.878\n",
              "    4) Cost == {low, med}; criterion = 1, statistic = 195.462\n",
              "      5) safety == {high}; criterion = 1, statistic = 53.111\n",
              "        6)*  weights = 122 \n",
              "      5) safety == {med}\n",
              "        7)*  weights = 123 \n",
              "    4) Cost == {high, vhigh}\n",
              "      8) safety == {high}; criterion = 1, statistic = 21.71\n",
              "        9) Cost == {vhigh}; criterion = 0.996, statistic = 10.414\n",
              "          10)*  weights = 65 \n",
              "        9) Cost == {high}\n",
              "          11)*  weights = 77 \n",
              "      8) safety == {med}\n",
              "        12)*  weights = 145 \n",
              "  3) persons == {2}\n",
              "    13)*  weights = 278 "
            ]
          },
          "metadata": {}
        }
      ]
    },
    {
      "cell_type": "code",
      "metadata": {
        "colab": {
          "base_uri": "https://localhost:8080/",
          "height": 437
        },
        "id": "49rKqWHKNk_Q",
        "outputId": "56dd7001-e3b0-475b-f720-84171a0f5e12"
      },
      "source": [
        "plot( output_tree)"
      ],
      "execution_count": 25,
      "outputs": [
        {
          "output_type": "display_data",
          "data": {
            "image/png": "[encoded data removed]",
            "text/plain": [
              "plot without title"
            ]
          },
          "metadata": {
            "image/png": {
              "width": 420,
              "height": 420
            }
          }
        }
      ]
    },
    {
      "cell_type": "markdown",
      "metadata": {
        "id": "JmGD88u0N1QC"
      },
      "source": [
        "lets prune the tree to desired number of nodes and make it smaller, notice the arguement \" control \" in ctree() function. set minimum nodes to 200."
      ]
    },
    {
      "cell_type": "code",
      "metadata": {
        "colab": {
          "base_uri": "https://localhost:8080/",
          "height": 859
        },
        "id": "ML0kr-3rN7G_",
        "outputId": "f2afc390-8ab6-42d0-ba56-55b482a24729"
      },
      "source": [
        "output_tree=ctree(CarClass~Cost+persons+safety, data=train_data, controls=ctree_control(minsplit = 200))\n",
        "plot(output_tree)\n",
        "output_tree"
      ],
      "execution_count": 26,
      "outputs": [
        {
          "output_type": "display_data",
          "data": {
            "text/plain": [
              "\n",
              "\t Conditional inference tree with 6 terminal nodes\n",
              "\n",
              "Response:  CarClass \n",
              "Inputs:  Cost, persons, safety \n",
              "Number of observations:  1214 \n",
              "\n",
              "1) safety == {low}; criterion = 1, statistic = 304.57\n",
              "  2)*  weights = 404 \n",
              "1) safety == {high, med}\n",
              "  3) persons == {4, more}; criterion = 1, statistic = 310.878\n",
              "    4) Cost == {low, med}; criterion = 1, statistic = 195.462\n",
              "      5) safety == {high}; criterion = 1, statistic = 53.111\n",
              "        6)*  weights = 122 \n",
              "      5) safety == {med}\n",
              "        7)*  weights = 123 \n",
              "    4) Cost == {high, vhigh}\n",
              "      8) safety == {high}; criterion = 1, statistic = 21.71\n",
              "        9)*  weights = 142 \n",
              "      8) safety == {med}\n",
              "        10)*  weights = 145 \n",
              "  3) persons == {2}\n",
              "    11)*  weights = 278 "
            ]
          },
          "metadata": {}
        },
        {
          "output_type": "display_data",
          "data": {
            "image/png": "[encoded data removed]",
            "text/plain": [
              "plot without title"
            ]
          },
          "metadata": {
            "image/png": {
              "width": 420,
              "height": 420
            }
          }
        }
      ]
    },
    {
      "cell_type": "markdown",
      "metadata": {
        "id": "0_ULudjMObWK"
      },
      "source": [
        "let's make predictions using the tree model we got"
      ]
    },
    {
      "cell_type": "code",
      "metadata": {
        "id": "KNaZNp0XOkf3"
      },
      "source": [
        "predict(output_tree,  test_data, type = \"prob\")\n",
        "test_pred=predict(output_tree, test_data)"
      ],
      "execution_count": null,
      "outputs": []
    },
    {
      "cell_type": "markdown",
      "metadata": {
        "id": "EOOBEN5NPgPK"
      },
      "source": [
        "let's check our tree on training data"
      ]
    },
    {
      "cell_type": "code",
      "metadata": {
        "colab": {
          "base_uri": "https://localhost:8080/"
        },
        "id": "1-EZcbHvOv1c",
        "outputId": "7b4ec559-1dfa-4137-ba6c-ad5017202262"
      },
      "source": [
        "tab=table(predict(output_tree), train_data$CarClass)\n",
        "print (tab)"
      ],
      "execution_count": 28,
      "outputs": [
        {
          "output_type": "stream",
          "name": "stdout",
          "text": [
            "          \n",
            "           acc good unaccept vgood\n",
            "  acc      209   49       91    38\n",
            "  good       0    0        0     0\n",
            "  unaccept  46    0      781     0\n",
            "  vgood      0    0        0     0\n"
          ]
        }
      ]
    },
    {
      "cell_type": "markdown",
      "metadata": {
        "id": "q-eBejYCO9HT"
      },
      "source": [
        "get accuaracy of tree using values from above table"
      ]
    },
    {
      "cell_type": "code",
      "metadata": {
        "colab": {
          "base_uri": "https://localhost:8080/",
          "height": 34
        },
        "id": "YQ6RavOmPEMA",
        "outputId": "4bd7c6e0-013d-4ff8-82f8-1d6c55a43ce3"
      },
      "source": [
        "Accuracy = sum(diag(tab)/sum(tab))\n",
        "Accuracy"
      ],
      "execution_count": 33,
      "outputs": [
        {
          "output_type": "display_data",
          "data": {
            "text/plain": [
              "[1] 0.815486"
            ],
            "text/latex": "0.815485996705107",
            "text/markdown": "0.815485996705107",
            "text/html": [
              "0.815485996705107"
            ]
          },
          "metadata": {}
        }
      ]
    },
    {
      "cell_type": "markdown",
      "metadata": {
        "id": "p7bSROlfPHfv"
      },
      "source": [
        "misclassification error"
      ]
    },
    {
      "cell_type": "code",
      "metadata": {
        "colab": {
          "base_uri": "https://localhost:8080/",
          "height": 34
        },
        "id": "41BY71BdPGpB",
        "outputId": "29741970-6268-47bc-d59d-1284b72cd847"
      },
      "source": [
        "Error = 1 - Accuracy\n",
        "Error"
      ],
      "execution_count": 34,
      "outputs": [
        {
          "output_type": "display_data",
          "data": {
            "text/plain": [
              "[1] 0.184514"
            ],
            "text/latex": "0.184514003294893",
            "text/markdown": "0.184514003294893",
            "text/html": [
              "0.184514003294893"
            ]
          },
          "metadata": {}
        }
      ]
    },
    {
      "cell_type": "markdown",
      "metadata": {
        "id": "5fKRl4rwPrJK"
      },
      "source": [
        "now check on test data"
      ]
    },
    {
      "cell_type": "code",
      "metadata": {
        "colab": {
          "base_uri": "https://localhost:8080/",
          "height": 127
        },
        "id": "HOkRLeTQPquY",
        "outputId": "9ff2de74-d9e9-4eb4-bb69-0917b56ac104"
      },
      "source": [
        "test_pred=predict(output_tree, newdata=test_data)\n",
        "tab=table(test_pred,test_data$CarClass)\n",
        "tab"
      ],
      "execution_count": 35,
      "outputs": [
        {
          "output_type": "display_data",
          "data": {
            "text/plain": [
              "          \n",
              "test_pred  acc good unaccept vgood\n",
              "  acc      110   20       32    27\n",
              "  good       0    0        0     0\n",
              "  unaccept  19    0      306     0\n",
              "  vgood      0    0        0     0"
            ]
          },
          "metadata": {}
        }
      ]
    },
    {
      "cell_type": "markdown",
      "metadata": {
        "id": "pRQg2CK5RPKy"
      },
      "source": [
        "test set Accuracy"
      ]
    },
    {
      "cell_type": "code",
      "metadata": {
        "colab": {
          "base_uri": "https://localhost:8080/",
          "height": 34
        },
        "id": "zTwW0fsKRLyE",
        "outputId": "6c99b188-437d-420f-95e3-331770c84297"
      },
      "source": [
        "sum(diag(tab)/sum(tab))"
      ],
      "execution_count": 36,
      "outputs": [
        {
          "output_type": "display_data",
          "data": {
            "text/plain": [
              "[1] 0.8093385"
            ],
            "text/latex": "0.809338521400778",
            "text/markdown": "0.809338521400778",
            "text/html": [
              "0.809338521400778"
            ]
          },
          "metadata": {}
        }
      ]
    },
    {
      "cell_type": "markdown",
      "metadata": {
        "id": "yLgubpKqRSxA"
      },
      "source": [
        "test set error"
      ]
    },
    {
      "cell_type": "code",
      "metadata": {
        "colab": {
          "base_uri": "https://localhost:8080/",
          "height": 34
        },
        "id": "4cxR0fvORU8M",
        "outputId": "11e194d5-12cc-4614-927d-b9ff635e7eb8"
      },
      "source": [
        "1-sum(diag(tab)/sum(tab))"
      ],
      "execution_count": 37,
      "outputs": [
        {
          "output_type": "display_data",
          "data": {
            "text/plain": [
              "[1] 0.1906615"
            ],
            "text/latex": "0.190661478599222",
            "text/markdown": "0.190661478599222",
            "text/html": [
              "0.190661478599222"
            ]
          },
          "metadata": {}
        }
      ]
    }
  ]
}